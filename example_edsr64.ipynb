{
  "cells": [
    {
      "cell_type": "markdown",
      "metadata": {
        "id": "OomOQnf6Cve5"
      },
      "source": [
        "# EDSR"
      ]
    },
    {
      "cell_type": "code",
      "execution_count": null,
      "metadata": {},
      "outputs": [],
      "source": [
        "## for colab, make sure it uses python 3.8\n",
        "!sudo update-alternatives --config python3\n",
        "!sudo apt install python3-pip"
      ]
    },
    {
      "cell_type": "code",
      "execution_count": 1,
      "metadata": {
        "colab": {
          "base_uri": "https://localhost:8080/",
          "height": 1000
        },
        "id": "ZGwQruXNJn7m",
        "outputId": "7f5a1175-147c-472b-89c3-b44528ea52ae"
      },
      "outputs": [
        {
          "name": "stdout",
          "output_type": "stream",
          "text": [
            "Looking in indexes: https://pypi.org/simple, https://us-python.pkg.dev/colab-wheels/public/simple/\n",
            "Collecting tensorflow==2.3.1\n",
            "  Downloading tensorflow-2.3.1-cp37-cp37m-manylinux2010_x86_64.whl (320.4 MB)\n",
            "\u001b[K     |████████████████████████████████| 320.4 MB 23 kB/s \n",
            "\u001b[?25hCollecting tensorflow-addons==0.11.2\n",
            "  Downloading tensorflow_addons-0.11.2-cp37-cp37m-manylinux2010_x86_64.whl (1.1 MB)\n",
            "\u001b[K     |████████████████████████████████| 1.1 MB 55.9 MB/s \n",
            "\u001b[?25hRequirement already satisfied: protobuf>=3.9.2 in /usr/local/lib/python3.7/dist-packages (from tensorflow==2.3.1) (3.17.3)\n",
            "Requirement already satisfied: six>=1.12.0 in /usr/local/lib/python3.7/dist-packages (from tensorflow==2.3.1) (1.15.0)\n",
            "Requirement already satisfied: keras-preprocessing<1.2,>=1.1.1 in /usr/local/lib/python3.7/dist-packages (from tensorflow==2.3.1) (1.1.2)\n",
            "Collecting tensorflow-estimator<2.4.0,>=2.3.0\n",
            "  Downloading tensorflow_estimator-2.3.0-py2.py3-none-any.whl (459 kB)\n",
            "\u001b[K     |████████████████████████████████| 459 kB 62.0 MB/s \n",
            "\u001b[?25hRequirement already satisfied: opt-einsum>=2.3.2 in /usr/local/lib/python3.7/dist-packages (from tensorflow==2.3.1) (3.3.0)\n",
            "Requirement already satisfied: tensorboard<3,>=2.3.0 in /usr/local/lib/python3.7/dist-packages (from tensorflow==2.3.1) (2.8.0)\n",
            "Requirement already satisfied: absl-py>=0.7.0 in /usr/local/lib/python3.7/dist-packages (from tensorflow==2.3.1) (1.1.0)\n",
            "Collecting gast==0.3.3\n",
            "  Downloading gast-0.3.3-py2.py3-none-any.whl (9.7 kB)\n",
            "Collecting h5py<2.11.0,>=2.10.0\n",
            "  Downloading h5py-2.10.0-cp37-cp37m-manylinux1_x86_64.whl (2.9 MB)\n",
            "\u001b[K     |████████████████████████████████| 2.9 MB 59.3 MB/s \n",
            "\u001b[?25hCollecting numpy<1.19.0,>=1.16.0\n",
            "  Downloading numpy-1.18.5-cp37-cp37m-manylinux1_x86_64.whl (20.1 MB)\n",
            "\u001b[K     |████████████████████████████████| 20.1 MB 1.2 MB/s \n",
            "\u001b[?25hRequirement already satisfied: astunparse==1.6.3 in /usr/local/lib/python3.7/dist-packages (from tensorflow==2.3.1) (1.6.3)\n",
            "Requirement already satisfied: grpcio>=1.8.6 in /usr/local/lib/python3.7/dist-packages (from tensorflow==2.3.1) (1.47.0)\n",
            "Requirement already satisfied: termcolor>=1.1.0 in /usr/local/lib/python3.7/dist-packages (from tensorflow==2.3.1) (1.1.0)\n",
            "Requirement already satisfied: wrapt>=1.11.1 in /usr/local/lib/python3.7/dist-packages (from tensorflow==2.3.1) (1.14.1)\n",
            "Requirement already satisfied: wheel>=0.26 in /usr/local/lib/python3.7/dist-packages (from tensorflow==2.3.1) (0.37.1)\n",
            "Requirement already satisfied: google-pasta>=0.1.8 in /usr/local/lib/python3.7/dist-packages (from tensorflow==2.3.1) (0.2.0)\n",
            "Requirement already satisfied: typeguard>=2.7 in /usr/local/lib/python3.7/dist-packages (from tensorflow-addons==0.11.2) (2.7.1)\n",
            "Requirement already satisfied: markdown>=2.6.8 in /usr/local/lib/python3.7/dist-packages (from tensorboard<3,>=2.3.0->tensorflow==2.3.1) (3.3.7)\n",
            "Requirement already satisfied: requests<3,>=2.21.0 in /usr/local/lib/python3.7/dist-packages (from tensorboard<3,>=2.3.0->tensorflow==2.3.1) (2.23.0)\n",
            "Requirement already satisfied: google-auth-oauthlib<0.5,>=0.4.1 in /usr/local/lib/python3.7/dist-packages (from tensorboard<3,>=2.3.0->tensorflow==2.3.1) (0.4.6)\n",
            "Requirement already satisfied: tensorboard-data-server<0.7.0,>=0.6.0 in /usr/local/lib/python3.7/dist-packages (from tensorboard<3,>=2.3.0->tensorflow==2.3.1) (0.6.1)\n",
            "Requirement already satisfied: google-auth<3,>=1.6.3 in /usr/local/lib/python3.7/dist-packages (from tensorboard<3,>=2.3.0->tensorflow==2.3.1) (1.35.0)\n",
            "Requirement already satisfied: werkzeug>=0.11.15 in /usr/local/lib/python3.7/dist-packages (from tensorboard<3,>=2.3.0->tensorflow==2.3.1) (1.0.1)\n",
            "Requirement already satisfied: setuptools>=41.0.0 in /usr/local/lib/python3.7/dist-packages (from tensorboard<3,>=2.3.0->tensorflow==2.3.1) (57.4.0)\n",
            "Requirement already satisfied: tensorboard-plugin-wit>=1.6.0 in /usr/local/lib/python3.7/dist-packages (from tensorboard<3,>=2.3.0->tensorflow==2.3.1) (1.8.1)\n",
            "Requirement already satisfied: pyasn1-modules>=0.2.1 in /usr/local/lib/python3.7/dist-packages (from google-auth<3,>=1.6.3->tensorboard<3,>=2.3.0->tensorflow==2.3.1) (0.2.8)\n",
            "Requirement already satisfied: rsa<5,>=3.1.4 in /usr/local/lib/python3.7/dist-packages (from google-auth<3,>=1.6.3->tensorboard<3,>=2.3.0->tensorflow==2.3.1) (4.8)\n",
            "Requirement already satisfied: cachetools<5.0,>=2.0.0 in /usr/local/lib/python3.7/dist-packages (from google-auth<3,>=1.6.3->tensorboard<3,>=2.3.0->tensorflow==2.3.1) (4.2.4)\n",
            "Requirement already satisfied: requests-oauthlib>=0.7.0 in /usr/local/lib/python3.7/dist-packages (from google-auth-oauthlib<0.5,>=0.4.1->tensorboard<3,>=2.3.0->tensorflow==2.3.1) (1.3.1)\n",
            "Requirement already satisfied: importlib-metadata>=4.4 in /usr/local/lib/python3.7/dist-packages (from markdown>=2.6.8->tensorboard<3,>=2.3.0->tensorflow==2.3.1) (4.12.0)\n",
            "Requirement already satisfied: zipp>=0.5 in /usr/local/lib/python3.7/dist-packages (from importlib-metadata>=4.4->markdown>=2.6.8->tensorboard<3,>=2.3.0->tensorflow==2.3.1) (3.8.0)\n",
            "Requirement already satisfied: typing-extensions>=3.6.4 in /usr/local/lib/python3.7/dist-packages (from importlib-metadata>=4.4->markdown>=2.6.8->tensorboard<3,>=2.3.0->tensorflow==2.3.1) (4.1.1)\n",
            "Requirement already satisfied: pyasn1<0.5.0,>=0.4.6 in /usr/local/lib/python3.7/dist-packages (from pyasn1-modules>=0.2.1->google-auth<3,>=1.6.3->tensorboard<3,>=2.3.0->tensorflow==2.3.1) (0.4.8)\n",
            "Requirement already satisfied: urllib3!=1.25.0,!=1.25.1,<1.26,>=1.21.1 in /usr/local/lib/python3.7/dist-packages (from requests<3,>=2.21.0->tensorboard<3,>=2.3.0->tensorflow==2.3.1) (1.24.3)\n",
            "Requirement already satisfied: chardet<4,>=3.0.2 in /usr/local/lib/python3.7/dist-packages (from requests<3,>=2.21.0->tensorboard<3,>=2.3.0->tensorflow==2.3.1) (3.0.4)\n",
            "Requirement already satisfied: idna<3,>=2.5 in /usr/local/lib/python3.7/dist-packages (from requests<3,>=2.21.0->tensorboard<3,>=2.3.0->tensorflow==2.3.1) (2.10)\n",
            "Requirement already satisfied: certifi>=2017.4.17 in /usr/local/lib/python3.7/dist-packages (from requests<3,>=2.21.0->tensorboard<3,>=2.3.0->tensorflow==2.3.1) (2022.6.15)\n",
            "Requirement already satisfied: oauthlib>=3.0.0 in /usr/local/lib/python3.7/dist-packages (from requests-oauthlib>=0.7.0->google-auth-oauthlib<0.5,>=0.4.1->tensorboard<3,>=2.3.0->tensorflow==2.3.1) (3.2.0)\n",
            "Installing collected packages: numpy, tensorflow-estimator, h5py, gast, tensorflow-addons, tensorflow\n",
            "  Attempting uninstall: numpy\n",
            "    Found existing installation: numpy 1.21.6\n",
            "    Uninstalling numpy-1.21.6:\n",
            "      Successfully uninstalled numpy-1.21.6\n",
            "  Attempting uninstall: tensorflow-estimator\n",
            "    Found existing installation: tensorflow-estimator 2.8.0\n",
            "    Uninstalling tensorflow-estimator-2.8.0:\n",
            "      Successfully uninstalled tensorflow-estimator-2.8.0\n",
            "  Attempting uninstall: h5py\n",
            "    Found existing installation: h5py 3.1.0\n",
            "    Uninstalling h5py-3.1.0:\n",
            "      Successfully uninstalled h5py-3.1.0\n",
            "  Attempting uninstall: gast\n",
            "    Found existing installation: gast 0.5.3\n",
            "    Uninstalling gast-0.5.3:\n",
            "      Successfully uninstalled gast-0.5.3\n",
            "  Attempting uninstall: tensorflow\n",
            "    Found existing installation: tensorflow 2.8.2+zzzcolab20220629235552\n",
            "    Uninstalling tensorflow-2.8.2+zzzcolab20220629235552:\n",
            "      Successfully uninstalled tensorflow-2.8.2+zzzcolab20220629235552\n",
            "\u001b[31mERROR: pip's dependency resolver does not currently take into account all the packages that are installed. This behaviour is the source of the following dependency conflicts.\n",
            "xarray-einstats 0.2.2 requires numpy>=1.21, but you have numpy 1.18.5 which is incompatible.\n",
            "tables 3.7.0 requires numpy>=1.19.0, but you have numpy 1.18.5 which is incompatible.\n",
            "jaxlib 0.3.14+cuda11.cudnn805 requires numpy>=1.19, but you have numpy 1.18.5 which is incompatible.\n",
            "jax 0.3.14 requires numpy>=1.19, but you have numpy 1.18.5 which is incompatible.\n",
            "datascience 0.10.6 requires folium==0.2.1, but you have folium 0.8.3 which is incompatible.\n",
            "albumentations 0.1.12 requires imgaug<0.2.7,>=0.2.5, but you have imgaug 0.2.9 which is incompatible.\u001b[0m\n",
            "Successfully installed gast-0.3.3 h5py-2.10.0 numpy-1.18.5 tensorflow-2.3.1 tensorflow-addons-0.11.2 tensorflow-estimator-2.3.0\n"
          ]
        },
        {
          "data": {
            "application/vnd.colab-display-data+json": {
              "pip_warning": {
                "packages": [
                  "numpy"
                ]
              }
            }
          },
          "metadata": {},
          "output_type": "display_data"
        }
      ],
      "source": [
        "# !pip install tensorflow-gpu==2.3.1 tensorflow-addons==0.11.2 ## replace to !pip install tensorflow for CPU"
      ]
    },
    {
      "cell_type": "code",
      "execution_count": 2,
      "metadata": {
        "colab": {
          "base_uri": "https://localhost:8080/"
        },
        "id": "9irH0YGFG7gA",
        "outputId": "e1cc680a-ffd5-4f48-8f3d-0b7e4a9f5d37"
      },
      "outputs": [
        {
          "name": "stdout",
          "output_type": "stream",
          "text": [
            "Cloning into 'super-resolution'...\n",
            "remote: Enumerating objects: 408, done.\u001b[K\n",
            "remote: Counting objects: 100% (3/3), done.\u001b[K\n",
            "remote: Compressing objects: 100% (2/2), done.\u001b[K\n",
            "remote: Total 408 (delta 0), reused 2 (delta 0), pack-reused 405\u001b[K\n",
            "Receiving objects: 100% (408/408), 48.16 MiB | 16.19 MiB/s, done.\n",
            "Resolving deltas: 100% (214/214), done.\n"
          ]
        }
      ],
      "source": [
        "# !git clone https://github.com/IritaSee/super-resolution-colab.git"
      ]
    },
    {
      "cell_type": "code",
      "execution_count": 3,
      "metadata": {
        "colab": {
          "base_uri": "https://localhost:8080/"
        },
        "id": "7ZzDciUKG_hD",
        "outputId": "82bc9736-fb47-47d1-84d0-f4dbe1f13774"
      },
      "outputs": [
        {
          "name": "stdout",
          "output_type": "stream",
          "text": [
            "/content/super-resolution\n"
          ]
        }
      ],
      "source": [
        "# %cd super-resolution"
      ]
    },
    {
      "cell_type": "code",
      "execution_count": 1,
      "metadata": {
        "colab": {
          "base_uri": "https://localhost:8080/"
        },
        "id": "C3GBqkZbHGFZ",
        "outputId": "d3e76a47-710d-45f7-fc50-34e7091633e0"
      },
      "outputs": [
        {
          "name": "stdout",
          "output_type": "stream",
          "text": [
            " article.ipynb\t\t       example_wdsr.ipynb\n",
            " data_engineering.ipynb        LICENSE\n",
            " data.py\t\t       model\n",
            " demo\t\t\t       new_dataset\n",
            " docs\t\t\t       __pycache__\n",
            " environment.yml\t       README.md\n",
            " example_edsr64.ipynb\t       train.py\n",
            " example_edsr.ipynb\t       utils.py\n",
            " example_srgan.ipynb\t       weights\n",
            "'example_wdsr depth 8.ipynb'   weights-edsr-16-x4.tar.gz\n"
          ]
        }
      ],
      "source": [
        "!ls"
      ]
    },
    {
      "attachments": {},
      "cell_type": "markdown",
      "metadata": {},
      "source": [
        "### Download Dataset (uncomment only if train!)"
      ]
    },
    {
      "cell_type": "code",
      "execution_count": null,
      "metadata": {},
      "outputs": [],
      "source": [
        "# !pip install gdown"
      ]
    },
    {
      "cell_type": "code",
      "execution_count": null,
      "metadata": {},
      "outputs": [],
      "source": [
        "# %cd new_dataset"
      ]
    },
    {
      "cell_type": "code",
      "execution_count": null,
      "metadata": {},
      "outputs": [],
      "source": [
        "# ## uncommment only if train!\n",
        "\n",
        "# import gdown\n",
        "# url = \"https://drive.google.com/drive/folders/1TF690mjUe-xPqVy6VjL6tNqHHBa5cYFd\"\n",
        "# gdown.download_folder(url, quiet=True, use_cookies=False)\n",
        "\n",
        "# url = \"https://drive.google.com/drive/folders/1p6Vh-XZjoCOvWYzgb3kaWuUGopi3hvfR\"\n",
        "# gdown.download_folder(url, quiet=True, use_cookies=False)"
      ]
    },
    {
      "cell_type": "code",
      "execution_count": null,
      "metadata": {},
      "outputs": [],
      "source": [
        "# %cd .."
      ]
    },
    {
      "attachments": {},
      "cell_type": "markdown",
      "metadata": {},
      "source": [
        "### Clear Area"
      ]
    },
    {
      "cell_type": "code",
      "execution_count": 2,
      "metadata": {
        "id": "IRFIyA2qCve8"
      },
      "outputs": [
        {
          "name": "stderr",
          "output_type": "stream",
          "text": [
            "2023-06-20 10:24:32.062203: I tensorflow/stream_executor/platform/default/dso_loader.cc:48] Successfully opened dynamic library libcudart.so.10.1\n"
          ]
        }
      ],
      "source": [
        "import os\n",
        "import matplotlib.pyplot as plt\n",
        "\n",
        "from data import DIV2K\n",
        "from model.edsr import edsr\n",
        "from train import EdsrTrainer\n",
        "\n",
        "%matplotlib inline"
      ]
    },
    {
      "cell_type": "code",
      "execution_count": 3,
      "metadata": {
        "id": "0SISFvhACve-"
      },
      "outputs": [],
      "source": [
        "# Number of residual blocks\n",
        "# depth = 16\n",
        "# depth = 8\n",
        "depth = 64\n",
        "\n",
        "# Super-resolution factor\n",
        "scale = 4\n",
        "\n",
        "# Downgrade operator\n",
        "downgrade = 'bicubic'"
      ]
    },
    {
      "cell_type": "code",
      "execution_count": 4,
      "metadata": {
        "id": "vFeOQXgMCve_"
      },
      "outputs": [],
      "source": [
        "# Location of model weights (needed for demo)\n",
        "weights_dir = f'weights/edsr-{depth}-x{scale}'\n",
        "weights_file = os.path.join(weights_dir, 'weights_edsr_depth64.h5')\n",
        "\n",
        "os.makedirs(weights_dir, exist_ok=True)"
      ]
    },
    {
      "cell_type": "markdown",
      "metadata": {
        "id": "3RUjfuGxCve_"
      },
      "source": [
        "## Datasets\n"
      ]
    },
    {
      "cell_type": "code",
      "execution_count": 8,
      "metadata": {
        "colab": {
          "base_uri": "https://localhost:8080/"
        },
        "id": "WVV8ULaTTD97",
        "outputId": "b29847f3-c71e-4370-e58e-6d1b5e113075"
      },
      "outputs": [
        {
          "name": "stdout",
          "output_type": "stream",
          "text": [
            "Mounted at /content/drive\n"
          ]
        }
      ],
      "source": [
        "# from google.colab import drive\n",
        "# drive.mount('/content/drive')"
      ]
    },
    {
      "cell_type": "code",
      "execution_count": 5,
      "metadata": {
        "id": "DZAb35VFCve_"
      },
      "outputs": [],
      "source": [
        "div2k_train = DIV2K(scale=scale, subset='train', downgrade=downgrade)\n",
        "div2k_valid = DIV2K(scale=scale, subset='valid', downgrade=downgrade)"
      ]
    },
    {
      "cell_type": "code",
      "execution_count": 6,
      "metadata": {
        "id": "pzKUorBuCvfA"
      },
      "outputs": [
        {
          "name": "stderr",
          "output_type": "stream",
          "text": [
            "2023-06-20 10:24:46.257610: I tensorflow/stream_executor/platform/default/dso_loader.cc:48] Successfully opened dynamic library libcuda.so.1\n",
            "2023-06-20 10:24:46.292366: I tensorflow/stream_executor/cuda/cuda_gpu_executor.cc:982] successful NUMA node read from SysFS had negative value (-1), but there must be at least one NUMA node, so returning NUMA node zero\n",
            "2023-06-20 10:24:46.292525: I tensorflow/core/common_runtime/gpu/gpu_device.cc:1716] Found device 0 with properties: \n",
            "pciBusID: 0000:01:00.0 name: NVIDIA GeForce GTX 1660 Ti with Max-Q Design computeCapability: 7.5\n",
            "coreClock: 1.335GHz coreCount: 24 deviceMemorySize: 5.80GiB deviceMemoryBandwidth: 268.26GiB/s\n",
            "2023-06-20 10:24:46.292593: I tensorflow/stream_executor/platform/default/dso_loader.cc:48] Successfully opened dynamic library libcudart.so.10.1\n",
            "2023-06-20 10:24:46.293901: I tensorflow/stream_executor/platform/default/dso_loader.cc:48] Successfully opened dynamic library libcublas.so.10\n",
            "2023-06-20 10:24:46.324979: I tensorflow/stream_executor/platform/default/dso_loader.cc:48] Successfully opened dynamic library libcufft.so.10\n",
            "2023-06-20 10:24:46.325276: I tensorflow/stream_executor/platform/default/dso_loader.cc:48] Successfully opened dynamic library libcurand.so.10\n",
            "2023-06-20 10:24:46.327336: I tensorflow/stream_executor/platform/default/dso_loader.cc:48] Successfully opened dynamic library libcusolver.so.10\n",
            "2023-06-20 10:24:46.328134: I tensorflow/stream_executor/platform/default/dso_loader.cc:48] Successfully opened dynamic library libcusparse.so.10\n",
            "2023-06-20 10:24:46.328278: W tensorflow/stream_executor/platform/default/dso_loader.cc:59] Could not load dynamic library 'libcudnn.so.7'; dlerror: libcudnn.so.7: cannot open shared object file: No such file or directory\n",
            "2023-06-20 10:24:46.328286: W tensorflow/core/common_runtime/gpu/gpu_device.cc:1753] Cannot dlopen some GPU libraries. Please make sure the missing libraries mentioned above are installed properly if you would like to use GPU. Follow the guide at https://www.tensorflow.org/install/gpu for how to download and setup the required libraries for your platform.\n",
            "Skipping registering GPU devices...\n",
            "2023-06-20 10:24:46.328865: I tensorflow/core/platform/cpu_feature_guard.cc:142] This TensorFlow binary is optimized with oneAPI Deep Neural Network Library (oneDNN)to use the following CPU instructions in performance-critical operations:  AVX2 FMA\n",
            "To enable them in other operations, rebuild TensorFlow with the appropriate compiler flags.\n",
            "2023-06-20 10:24:46.354411: I tensorflow/core/platform/profile_utils/cpu_utils.cc:104] CPU Frequency: 2599990000 Hz\n",
            "2023-06-20 10:24:46.355269: I tensorflow/compiler/xla/service/service.cc:168] XLA service 0x559ebec1d1e0 initialized for platform Host (this does not guarantee that XLA will be used). Devices:\n",
            "2023-06-20 10:24:46.355299: I tensorflow/compiler/xla/service/service.cc:176]   StreamExecutor device (0): Host, Default Version\n",
            "2023-06-20 10:24:46.356465: I tensorflow/core/common_runtime/gpu/gpu_device.cc:1257] Device interconnect StreamExecutor with strength 1 edge matrix:\n",
            "2023-06-20 10:24:46.356475: I tensorflow/core/common_runtime/gpu/gpu_device.cc:1263]      \n"
          ]
        }
      ],
      "source": [
        "train_ds = div2k_train.dataset(batch_size=16, random_transform=True)\n",
        "valid_ds = div2k_valid.dataset(batch_size=1, random_transform=False, repeat_count=1)"
      ]
    },
    {
      "cell_type": "markdown",
      "metadata": {
        "id": "_njBKSmxCvfA"
      },
      "source": [
        "## Training\n",
        "\n",
        "### Pre-trained models\n",
        "\n",
        "If you want to skip training and directly run the demo below, download [weights-edsr-16-x4.tar.gz](https://martin-krasser.de/sisr/weights-edsr-16-x4.tar.gz) and extract the archive in the project's root directory. This will create a `weights/edsr-16-x4` directory containing the weights of the pre-trained model."
      ]
    },
    {
      "cell_type": "code",
      "execution_count": 7,
      "metadata": {
        "colab": {
          "base_uri": "https://localhost:8080/"
        },
        "id": "dhS2EpVcRFHB",
        "outputId": "0989e1bc-9d45-4acd-9274-ff6d91ca6a92"
      },
      "outputs": [
        {
          "name": "stdout",
          "output_type": "stream",
          "text": [
            "--2022-12-15 22:53:11--  https://martin-krasser.de/sisr/weights-edsr-16-x4.tar.gz\n",
            "Resolving martin-krasser.de (martin-krasser.de)... 217.160.0.142, 2001:8d8:100f:f000::209\n",
            "Connecting to martin-krasser.de (martin-krasser.de)|217.160.0.142|:443... connected.\n",
            "HTTP request sent, awaiting response... 200 OK\n",
            "Length: 5653330 (5,4M) [application/gzip]\n",
            "Saving to: ‘weights-edsr-16-x4.tar.gz’\n",
            "\n",
            "weights-edsr-16-x4. 100%[===================>]   5,39M   809KB/s    in 6,8s    \n",
            "\n",
            "2022-12-15 22:53:20 (810 KB/s) - ‘weights-edsr-16-x4.tar.gz’ saved [5653330/5653330]\n",
            "\n"
          ]
        }
      ],
      "source": [
        "!wget https://martin-krasser.de/sisr/weights-edsr-16-x4.tar.gz"
      ]
    },
    {
      "cell_type": "code",
      "execution_count": 8,
      "metadata": {
        "id": "b-ZEvTVoRIga"
      },
      "outputs": [],
      "source": [
        "! tar -xf weights-edsr-16-x4.tar.gz"
      ]
    },
    {
      "cell_type": "code",
      "execution_count": 7,
      "metadata": {
        "id": "nOYjkHaSCvfA"
      },
      "outputs": [],
      "source": [
        "trainer = EdsrTrainer(model=edsr(scale=scale, num_res_blocks=depth), \n",
        "                      checkpoint_dir=f'.ckpt/edsr-{depth}-x{scale}')"
      ]
    },
    {
      "cell_type": "code",
      "execution_count": 8,
      "metadata": {
        "id": "HqGURcibCvfA",
        "scrolled": true
      },
      "outputs": [
        {
          "name": "stdout",
          "output_type": "stream",
          "text": [
            "1000/300000: loss = 7035.543, PSNR = 8.590852 (1833.62s)\n",
            "2000/300000: loss = 116.588, PSNR = 13.689090 (1897.54s)\n",
            "3000/300000: loss = 56.198, PSNR = 17.808235 (1913.59s)\n",
            "4000/300000: loss = 35.015, PSNR = 20.493643 (1929.51s)\n",
            "5000/300000: loss = 24.902, PSNR = 21.363092 (1937.25s)\n",
            "6000/300000: loss = 18.732, PSNR = 23.510986 (1931.94s)\n",
            "7000/300000: loss = 14.528, PSNR = 25.747929 (1943.55s)\n",
            "8000/300000: loss = 11.487, PSNR = 27.293530 (1946.34s)\n",
            "9000/300000: loss = 8.954, PSNR = 29.310598 (1949.81s)\n",
            "10000/300000: loss = 7.217, PSNR = 30.417576 (1947.00s)\n",
            "11000/300000: loss = 5.920, PSNR = 31.626484 (1948.71s)\n",
            "12000/300000: loss = 5.017, PSNR = 32.105091 (1953.75s)\n",
            "13000/300000: loss = 4.353, PSNR = 32.941833 (1950.90s)\n",
            "14000/300000: loss = 3.974, PSNR = 33.391205 (1950.32s)\n",
            "15000/300000: loss = 3.578, PSNR = 34.191963 (1957.20s)\n",
            "16000/300000: loss = 3.346, PSNR = 35.088112 (1952.25s)\n",
            "17000/300000: loss = 3.119, PSNR = 35.396706 (2178.91s)\n",
            "18000/300000: loss = 2.935, PSNR = 36.318157 (1933.73s)\n",
            "19000/300000: loss = 2.714, PSNR = 37.453053 (1793.77s)\n",
            "20000/300000: loss = 2.506, PSNR = 38.044098 (1790.99s)\n",
            "21000/300000: loss = 2.351, PSNR = 38.485813 (1787.34s)\n",
            "22000/300000: loss = 2.225, PSNR = 38.768440 (1785.45s)\n",
            "23000/300000: loss = 2.103, PSNR = 38.947884 (1811.81s)\n",
            "24000/300000: loss = 2.053, PSNR = 39.122963 (1876.39s)\n",
            "25000/300000: loss = 1.955, PSNR = 39.488758 (1895.07s)\n",
            "26000/300000: loss = 1.921, PSNR = 39.351753 (1918.65s)\n",
            "27000/300000: loss = 1.870, PSNR = 39.847878 (1936.85s)\n",
            "28000/300000: loss = 1.851, PSNR = 39.914268 (1922.18s)\n",
            "29000/300000: loss = 1.777, PSNR = 40.063381 (1936.94s)\n",
            "30000/300000: loss = 1.768, PSNR = 40.276073 (1870.55s)\n",
            "31000/300000: loss = 1.737, PSNR = 40.343864 (1794.08s)\n",
            "32000/300000: loss = 1.701, PSNR = 40.334362 (1849.90s)\n",
            "33000/300000: loss = 1.701, PSNR = 40.415272 (1910.14s)\n",
            "34000/300000: loss = 1.668, PSNR = 40.387016 (1924.26s)\n",
            "35000/300000: loss = 1.644, PSNR = 40.547558 (1940.23s)\n",
            "36000/300000: loss = 1.624, PSNR = 40.706593 (1942.52s)\n",
            "37000/300000: loss = 1.610, PSNR = 40.719265 (1958.16s)\n",
            "38000/300000: loss = 1.583, PSNR = 40.776161 (1948.78s)\n",
            "39000/300000: loss = 1.581, PSNR = 40.588646 (1952.95s)\n",
            "40000/300000: loss = 1.551, PSNR = 40.938457 (1952.51s)\n",
            "41000/300000: loss = 1.563, PSNR = 40.855843 (1955.53s)\n",
            "42000/300000: loss = 1.541, PSNR = 41.002186 (1952.28s)\n",
            "43000/300000: loss = 1.528, PSNR = 40.995930 (1965.51s)\n",
            "44000/300000: loss = 1.528, PSNR = 41.069523 (1945.96s)\n",
            "45000/300000: loss = 1.520, PSNR = 41.028732 (1862.49s)\n",
            "46000/300000: loss = 1.493, PSNR = 41.054546 (1815.69s)\n",
            "47000/300000: loss = 1.488, PSNR = 40.705334 (1800.96s)\n",
            "48000/300000: loss = 1.478, PSNR = 41.157967 (1810.35s)\n",
            "49000/300000: loss = 1.481, PSNR = 41.189156 (1825.34s)\n",
            "50000/300000: loss = 1.455, PSNR = 41.231903 (1824.13s)\n",
            "51000/300000: loss = 1.454, PSNR = 41.283890 (1831.86s)\n",
            "52000/300000: loss = 1.451, PSNR = 41.194466 (1839.53s)\n",
            "53000/300000: loss = 1.446, PSNR = 41.220425 (1826.83s)\n",
            "54000/300000: loss = 1.436, PSNR = 41.035896 (1833.65s)\n",
            "55000/300000: loss = 1.432, PSNR = 41.191551 (1826.81s)\n",
            "56000/300000: loss = 1.426, PSNR = 41.052197 (1825.28s)\n",
            "57000/300000: loss = 1.424, PSNR = 41.358929 (1827.81s)\n",
            "58000/300000: loss = 1.415, PSNR = 41.402771 (1824.40s)\n",
            "59000/300000: loss = 1.400, PSNR = 41.402008 (1826.69s)\n",
            "60000/300000: loss = 1.410, PSNR = 41.419678 (1830.35s)\n",
            "61000/300000: loss = 1.400, PSNR = 40.861462 (1840.24s)\n",
            "62000/300000: loss = 1.408, PSNR = 41.379086 (1817.87s)\n",
            "63000/300000: loss = 1.400, PSNR = 41.463737 (1806.63s)\n",
            "64000/300000: loss = 1.378, PSNR = 41.448460 (1778.25s)\n",
            "65000/300000: loss = 1.384, PSNR = 41.332447 (1759.10s)\n",
            "66000/300000: loss = 1.384, PSNR = 40.943707 (1777.81s)\n",
            "67000/300000: loss = 1.376, PSNR = 41.174984 (1788.82s)\n",
            "68000/300000: loss = 1.370, PSNR = 41.452312 (1787.88s)\n",
            "69000/300000: loss = 1.373, PSNR = 41.518929 (1767.71s)\n",
            "70000/300000: loss = 1.358, PSNR = 41.406780 (1768.92s)\n",
            "71000/300000: loss = 1.370, PSNR = 41.282124 (1764.58s)\n",
            "72000/300000: loss = 1.358, PSNR = 41.512501 (1765.94s)\n",
            "73000/300000: loss = 1.356, PSNR = 41.517681 (1759.45s)\n",
            "74000/300000: loss = 1.346, PSNR = 41.572399 (1767.02s)\n",
            "75000/300000: loss = 1.341, PSNR = 41.382648 (1791.14s)\n",
            "76000/300000: loss = 1.355, PSNR = 41.561562 (1791.21s)\n",
            "77000/300000: loss = 1.338, PSNR = 41.502975 (1794.83s)\n",
            "78000/300000: loss = 1.342, PSNR = 41.559456 (1800.19s)\n",
            "79000/300000: loss = 1.333, PSNR = 41.457096 (1794.31s)\n",
            "80000/300000: loss = 1.333, PSNR = 41.539600 (1806.80s)\n",
            "81000/300000: loss = 1.315, PSNR = 41.490337 (1811.94s)\n",
            "82000/300000: loss = 1.329, PSNR = 41.588844 (1820.02s)\n",
            "83000/300000: loss = 1.326, PSNR = 41.468258 (1824.43s)\n",
            "84000/300000: loss = 1.307, PSNR = 41.542118 (1822.50s)\n",
            "85000/300000: loss = 1.328, PSNR = 41.630455 (1832.44s)\n",
            "86000/300000: loss = 1.305, PSNR = 41.487907 (1844.07s)\n",
            "87000/300000: loss = 1.309, PSNR = 41.563072 (1817.67s)\n",
            "88000/300000: loss = 1.302, PSNR = 41.514786 (1812.63s)\n",
            "89000/300000: loss = 1.315, PSNR = 41.496513 (1831.17s)\n",
            "90000/300000: loss = 1.313, PSNR = 41.330376 (1826.53s)\n",
            "91000/300000: loss = 1.299, PSNR = 41.562817 (1828.56s)\n",
            "92000/300000: loss = 1.302, PSNR = 41.551777 (1838.68s)\n",
            "93000/300000: loss = 1.296, PSNR = 41.566700 (1827.09s)\n",
            "94000/300000: loss = 1.307, PSNR = 41.520302 (1815.72s)\n",
            "95000/300000: loss = 1.291, PSNR = 41.487762 (1822.64s)\n",
            "96000/300000: loss = 1.296, PSNR = 41.560760 (1828.88s)\n",
            "97000/300000: loss = 1.291, PSNR = 41.553905 (1835.24s)\n",
            "98000/300000: loss = 1.288, PSNR = 41.504616 (1838.11s)\n",
            "99000/300000: loss = 1.280, PSNR = 41.566044 (1836.96s)\n",
            "100000/300000: loss = 1.274, PSNR = 41.489464 (1832.35s)\n",
            "101000/300000: loss = 1.283, PSNR = 41.574348 (1845.72s)\n",
            "102000/300000: loss = 1.275, PSNR = 41.562492 (1851.76s)\n",
            "103000/300000: loss = 1.275, PSNR = 41.500725 (1837.06s)\n",
            "104000/300000: loss = 1.275, PSNR = 41.562073 (1796.74s)\n",
            "105000/300000: loss = 1.276, PSNR = 41.419456 (1762.97s)\n",
            "106000/300000: loss = 1.277, PSNR = 41.540962 (1760.90s)\n",
            "107000/300000: loss = 1.261, PSNR = 41.587421 (1785.96s)\n",
            "108000/300000: loss = 1.267, PSNR = 41.590252 (1793.74s)\n",
            "109000/300000: loss = 1.272, PSNR = 41.584862 (1807.53s)\n",
            "110000/300000: loss = 1.274, PSNR = 41.534405 (1828.20s)\n",
            "111000/300000: loss = 1.275, PSNR = 41.633240 (1828.61s)\n",
            "112000/300000: loss = 1.262, PSNR = 41.640415 (1836.59s)\n",
            "113000/300000: loss = 1.250, PSNR = 41.643715 (1845.30s)\n",
            "114000/300000: loss = 1.263, PSNR = 41.664238 (1847.79s)\n",
            "115000/300000: loss = 1.252, PSNR = 41.548302 (1847.54s)\n",
            "116000/300000: loss = 1.258, PSNR = 41.592094 (1851.08s)\n",
            "117000/300000: loss = 1.258, PSNR = 41.661201 (1851.20s)\n",
            "118000/300000: loss = 1.258, PSNR = 41.560719 (1802.58s)\n",
            "119000/300000: loss = 1.254, PSNR = 41.580475 (1768.23s)\n",
            "120000/300000: loss = 1.245, PSNR = 41.564625 (1762.98s)\n",
            "121000/300000: loss = 1.243, PSNR = 41.560799 (1763.40s)\n",
            "122000/300000: loss = 1.254, PSNR = 41.631401 (1778.26s)\n",
            "123000/300000: loss = 1.260, PSNR = 41.605747 (1788.29s)\n",
            "124000/300000: loss = 1.241, PSNR = 41.630749 (1806.03s)\n",
            "125000/300000: loss = 1.243, PSNR = 41.637001 (1836.77s)\n",
            "126000/300000: loss = 1.245, PSNR = 41.669270 (1839.07s)\n",
            "127000/300000: loss = 1.241, PSNR = 41.575157 (1836.82s)\n",
            "128000/300000: loss = 1.235, PSNR = 41.625000 (1851.71s)\n",
            "129000/300000: loss = 1.239, PSNR = 41.605816 (1847.31s)\n",
            "130000/300000: loss = 1.247, PSNR = 41.590458 (1843.56s)\n",
            "131000/300000: loss = 1.243, PSNR = 41.648445 (1863.09s)\n",
            "132000/300000: loss = 1.244, PSNR = 41.650471 (1862.79s)\n",
            "133000/300000: loss = 1.246, PSNR = 41.635643 (1849.97s)\n",
            "134000/300000: loss = 1.239, PSNR = 41.677109 (1878.53s)\n",
            "135000/300000: loss = 1.234, PSNR = 41.566612 (1848.48s)\n",
            "136000/300000: loss = 1.232, PSNR = 41.632637 (1860.98s)\n",
            "137000/300000: loss = 1.247, PSNR = 41.647587 (1850.09s)\n",
            "138000/300000: loss = 1.229, PSNR = 41.598236 (1843.64s)\n",
            "139000/300000: loss = 1.233, PSNR = 41.663845 (1845.19s)\n",
            "140000/300000: loss = 1.228, PSNR = 41.156403 (1840.06s)\n",
            "141000/300000: loss = 1.225, PSNR = 41.651611 (1840.83s)\n",
            "142000/300000: loss = 1.231, PSNR = 41.628029 (1842.93s)\n",
            "143000/300000: loss = 1.229, PSNR = 41.628624 (1835.37s)\n",
            "144000/300000: loss = 1.219, PSNR = 41.453297 (1848.97s)\n",
            "145000/300000: loss = 1.226, PSNR = 41.617847 (1844.26s)\n",
            "146000/300000: loss = 1.219, PSNR = 41.623089 (1855.10s)\n",
            "147000/300000: loss = 1.225, PSNR = 41.648151 (1863.05s)\n",
            "148000/300000: loss = 1.225, PSNR = 41.596611 (1846.68s)\n",
            "149000/300000: loss = 1.226, PSNR = 41.666336 (1860.03s)\n",
            "150000/300000: loss = 1.234, PSNR = 41.624733 (1854.91s)\n",
            "151000/300000: loss = 1.218, PSNR = 41.592907 (1851.80s)\n",
            "152000/300000: loss = 1.228, PSNR = 41.550640 (1853.16s)\n",
            "153000/300000: loss = 1.222, PSNR = 41.628174 (1850.42s)\n",
            "154000/300000: loss = 1.220, PSNR = 41.643028 (1870.51s)\n",
            "155000/300000: loss = 1.214, PSNR = 41.656235 (1858.84s)\n",
            "156000/300000: loss = 1.219, PSNR = 41.629436 (1863.24s)\n",
            "157000/300000: loss = 1.215, PSNR = 41.580727 (1867.20s)\n",
            "158000/300000: loss = 1.215, PSNR = 41.627144 (1943.03s)\n",
            "159000/300000: loss = 1.213, PSNR = 41.621544 (2046.50s)\n",
            "160000/300000: loss = 1.204, PSNR = 41.602497 (1977.34s)\n",
            "161000/300000: loss = 1.209, PSNR = 41.589394 (1808.43s)\n",
            "162000/300000: loss = 1.214, PSNR = 41.516399 (1780.51s)\n",
            "163000/300000: loss = 1.203, PSNR = 41.528854 (1780.87s)\n",
            "164000/300000: loss = 1.208, PSNR = 41.590874 (1777.26s)\n",
            "165000/300000: loss = 1.198, PSNR = 41.608437 (1778.25s)\n",
            "166000/300000: loss = 1.214, PSNR = 41.616985 (1767.56s)\n",
            "167000/300000: loss = 1.203, PSNR = 41.604359 (1787.02s)\n",
            "168000/300000: loss = 1.212, PSNR = 41.624256 (1796.16s)\n",
            "169000/300000: loss = 1.208, PSNR = 41.573982 (1809.60s)\n",
            "170000/300000: loss = 1.205, PSNR = 41.596241 (1825.97s)\n",
            "171000/300000: loss = 1.207, PSNR = 41.578991 (1824.22s)\n",
            "172000/300000: loss = 1.207, PSNR = 41.591095 (1833.68s)\n",
            "173000/300000: loss = 1.201, PSNR = 41.556305 (1836.28s)\n",
            "174000/300000: loss = 1.208, PSNR = 41.609268 (1836.96s)\n",
            "175000/300000: loss = 1.205, PSNR = 41.534332 (1847.73s)\n",
            "176000/300000: loss = 1.198, PSNR = 41.670631 (1839.42s)\n",
            "177000/300000: loss = 1.198, PSNR = 41.622219 (1845.41s)\n",
            "178000/300000: loss = 1.197, PSNR = 41.660381 (1841.98s)\n",
            "179000/300000: loss = 1.197, PSNR = 41.592640 (1851.28s)\n",
            "180000/300000: loss = 1.193, PSNR = 41.646538 (1834.98s)\n",
            "181000/300000: loss = 1.193, PSNR = 41.627754 (1826.14s)\n",
            "182000/300000: loss = 1.203, PSNR = 41.593994 (1839.06s)\n",
            "183000/300000: loss = 1.188, PSNR = 41.664742 (1821.86s)\n",
            "184000/300000: loss = 1.194, PSNR = 41.635338 (1827.39s)\n",
            "185000/300000: loss = 1.186, PSNR = 41.620659 (1851.93s)\n",
            "186000/300000: loss = 1.200, PSNR = 41.638748 (1838.53s)\n",
            "187000/300000: loss = 1.191, PSNR = 41.555668 (1829.60s)\n",
            "188000/300000: loss = 1.191, PSNR = 41.620178 (1845.10s)\n",
            "189000/300000: loss = 1.182, PSNR = 41.611652 (1847.49s)\n",
            "190000/300000: loss = 1.190, PSNR = 41.616035 (1845.48s)\n",
            "191000/300000: loss = 1.198, PSNR = 41.539711 (1856.00s)\n",
            "192000/300000: loss = 1.191, PSNR = 41.630188 (1853.11s)\n",
            "193000/300000: loss = 1.187, PSNR = 41.617424 (1847.17s)\n",
            "194000/300000: loss = 1.187, PSNR = 41.643929 (1846.29s)\n",
            "195000/300000: loss = 1.185, PSNR = 41.556961 (1848.11s)\n",
            "196000/300000: loss = 1.185, PSNR = 41.582264 (1855.57s)\n",
            "197000/300000: loss = 1.184, PSNR = 41.600658 (1857.99s)\n",
            "198000/300000: loss = 1.183, PSNR = 41.574848 (1852.18s)\n",
            "199000/300000: loss = 1.186, PSNR = 41.574104 (1859.99s)\n",
            "200000/300000: loss = 1.192, PSNR = 41.610188 (1868.16s)\n",
            "201000/300000: loss = 1.149, PSNR = 41.666920 (1856.61s)\n",
            "202000/300000: loss = 1.143, PSNR = 41.673328 (1873.30s)\n",
            "203000/300000: loss = 1.135, PSNR = 41.680504 (1851.96s)\n",
            "204000/300000: loss = 1.145, PSNR = 41.688255 (1858.35s)\n",
            "205000/300000: loss = 1.143, PSNR = 41.695274 (1858.43s)\n",
            "206000/300000: loss = 1.138, PSNR = 41.650291 (1857.08s)\n",
            "207000/300000: loss = 1.136, PSNR = 41.643452 (1870.61s)\n",
            "208000/300000: loss = 1.137, PSNR = 41.648464 (1855.54s)\n",
            "209000/300000: loss = 1.140, PSNR = 41.643032 (1798.60s)\n",
            "210000/300000: loss = 1.125, PSNR = 41.661205 (1770.19s)\n",
            "211000/300000: loss = 1.129, PSNR = 41.636024 (1766.48s)\n",
            "212000/300000: loss = 1.132, PSNR = 41.607910 (1762.98s)\n",
            "213000/300000: loss = 1.127, PSNR = 41.641697 (1770.71s)\n",
            "214000/300000: loss = 1.134, PSNR = 41.673695 (1765.62s)\n",
            "215000/300000: loss = 1.139, PSNR = 41.636494 (1766.08s)\n",
            "216000/300000: loss = 1.137, PSNR = 41.645771 (1764.02s)\n",
            "217000/300000: loss = 1.136, PSNR = 41.634850 (1767.02s)\n",
            "218000/300000: loss = 1.126, PSNR = 41.626522 (1770.27s)\n",
            "219000/300000: loss = 1.138, PSNR = 41.629066 (1774.23s)\n",
            "220000/300000: loss = 1.138, PSNR = 41.639679 (1770.25s)\n",
            "221000/300000: loss = 1.127, PSNR = 41.652023 (1772.36s)\n",
            "222000/300000: loss = 1.135, PSNR = 41.651905 (1778.46s)\n",
            "223000/300000: loss = 1.127, PSNR = 41.639866 (1777.56s)\n",
            "224000/300000: loss = 1.126, PSNR = 41.608818 (1771.26s)\n",
            "225000/300000: loss = 1.129, PSNR = 41.639576 (1773.38s)\n",
            "226000/300000: loss = 1.121, PSNR = 41.619110 (1785.88s)\n",
            "227000/300000: loss = 1.133, PSNR = 41.617596 (1799.89s)\n",
            "228000/300000: loss = 1.134, PSNR = 41.620613 (1805.37s)\n",
            "229000/300000: loss = 1.128, PSNR = 41.600986 (1805.17s)\n",
            "230000/300000: loss = 1.134, PSNR = 41.614006 (1807.24s)\n",
            "231000/300000: loss = 1.128, PSNR = 41.665508 (1804.10s)\n",
            "232000/300000: loss = 1.129, PSNR = 41.599190 (1797.27s)\n",
            "233000/300000: loss = 1.127, PSNR = 41.625275 (1814.71s)\n",
            "234000/300000: loss = 1.128, PSNR = 41.611500 (1824.16s)\n",
            "235000/300000: loss = 1.123, PSNR = 41.618019 (1822.73s)\n",
            "236000/300000: loss = 1.126, PSNR = 41.589314 (1824.47s)\n",
            "237000/300000: loss = 1.128, PSNR = 41.590351 (1833.08s)\n",
            "238000/300000: loss = 1.124, PSNR = 41.639542 (1846.90s)\n",
            "239000/300000: loss = 1.123, PSNR = 41.649319 (1840.89s)\n",
            "240000/300000: loss = 1.133, PSNR = 41.615517 (1861.48s)\n",
            "241000/300000: loss = 1.121, PSNR = 41.622734 (1852.76s)\n",
            "242000/300000: loss = 1.121, PSNR = 41.602989 (1875.30s)\n",
            "243000/300000: loss = 1.121, PSNR = 41.588982 (1890.09s)\n",
            "244000/300000: loss = 1.125, PSNR = 41.609230 (1887.70s)\n",
            "245000/300000: loss = 1.124, PSNR = 41.585670 (1882.63s)\n",
            "246000/300000: loss = 1.122, PSNR = 41.615898 (1710.23s)\n",
            "247000/300000: loss = 1.121, PSNR = 41.670094 (1676.21s)\n",
            "248000/300000: loss = 1.122, PSNR = 41.663551 (1665.45s)\n",
            "249000/300000: loss = 1.133, PSNR = 41.634148 (1660.10s)\n",
            "250000/300000: loss = 1.117, PSNR = 41.601589 (1663.41s)\n",
            "251000/300000: loss = 1.117, PSNR = 41.642006 (1685.51s)\n",
            "252000/300000: loss = 1.118, PSNR = 41.663738 (1701.21s)\n",
            "253000/300000: loss = 1.121, PSNR = 41.606979 (1718.77s)\n",
            "254000/300000: loss = 1.122, PSNR = 41.602905 (1720.10s)\n",
            "255000/300000: loss = 1.110, PSNR = 41.581944 (1720.78s)\n",
            "256000/300000: loss = 1.118, PSNR = 41.595757 (1685.69s)\n",
            "257000/300000: loss = 1.121, PSNR = 41.573967 (1671.75s)\n",
            "258000/300000: loss = 1.113, PSNR = 41.564720 (1669.27s)\n",
            "259000/300000: loss = 1.119, PSNR = 41.583748 (1667.48s)\n",
            "260000/300000: loss = 1.120, PSNR = 41.594814 (1665.01s)\n",
            "261000/300000: loss = 1.118, PSNR = 41.617542 (1664.83s)\n",
            "262000/300000: loss = 1.121, PSNR = 41.630287 (1661.45s)\n",
            "263000/300000: loss = 1.113, PSNR = 41.621975 (1657.51s)\n",
            "264000/300000: loss = 1.120, PSNR = 41.593102 (1661.69s)\n",
            "265000/300000: loss = 1.112, PSNR = 41.593941 (1656.60s)\n",
            "266000/300000: loss = 1.114, PSNR = 41.554272 (1674.82s)\n",
            "267000/300000: loss = 1.117, PSNR = 41.573753 (1655.36s)\n",
            "268000/300000: loss = 1.108, PSNR = 41.599232 (1648.89s)\n",
            "269000/300000: loss = 1.120, PSNR = 41.606064 (1644.45s)\n",
            "270000/300000: loss = 1.114, PSNR = 41.581604 (1637.65s)\n",
            "271000/300000: loss = 1.118, PSNR = 41.576759 (1637.86s)\n",
            "272000/300000: loss = 1.117, PSNR = 41.612267 (1640.44s)\n",
            "273000/300000: loss = 1.124, PSNR = 41.558186 (1643.28s)\n",
            "274000/300000: loss = 1.115, PSNR = 41.554359 (1641.14s)\n",
            "275000/300000: loss = 1.117, PSNR = 41.601753 (1666.75s)\n",
            "276000/300000: loss = 1.122, PSNR = 41.620750 (1686.10s)\n",
            "277000/300000: loss = 1.123, PSNR = 41.594795 (1702.20s)\n",
            "278000/300000: loss = 1.106, PSNR = 41.597973 (1702.77s)\n",
            "279000/300000: loss = 1.112, PSNR = 41.545921 (1702.55s)\n",
            "280000/300000: loss = 1.113, PSNR = 41.615936 (1711.17s)\n",
            "281000/300000: loss = 1.118, PSNR = 41.538368 (1707.48s)\n",
            "282000/300000: loss = 1.114, PSNR = 41.572903 (1706.35s)\n",
            "283000/300000: loss = 1.122, PSNR = 41.617699 (1704.61s)\n",
            "284000/300000: loss = 1.114, PSNR = 41.629730 (1707.98s)\n",
            "285000/300000: loss = 1.109, PSNR = 41.595222 (1710.52s)\n",
            "286000/300000: loss = 1.105, PSNR = 41.546249 (1711.29s)\n",
            "287000/300000: loss = 1.117, PSNR = 41.579662 (1710.41s)\n",
            "288000/300000: loss = 1.118, PSNR = 41.601513 (1719.15s)\n",
            "289000/300000: loss = 1.109, PSNR = 41.567207 (1716.59s)\n",
            "290000/300000: loss = 1.115, PSNR = 41.628010 (1714.55s)\n",
            "291000/300000: loss = 1.115, PSNR = 41.621204 (1717.03s)\n",
            "292000/300000: loss = 1.107, PSNR = 41.579262 (1718.06s)\n",
            "293000/300000: loss = 1.108, PSNR = 41.602852 (1718.80s)\n",
            "294000/300000: loss = 1.111, PSNR = 41.538811 (1720.43s)\n",
            "295000/300000: loss = 1.106, PSNR = 41.581245 (1719.47s)\n",
            "296000/300000: loss = 1.099, PSNR = 41.572613 (1722.09s)\n",
            "297000/300000: loss = 1.107, PSNR = 41.546452 (1718.83s)\n",
            "298000/300000: loss = 1.107, PSNR = 41.574745 (1716.73s)\n",
            "299000/300000: loss = 1.108, PSNR = 41.585598 (1719.44s)\n",
            "300000/300000: loss = 1.110, PSNR = 41.616592 (1721.94s)\n"
          ]
        }
      ],
      "source": [
        "# Train EDSR model for 300,000 steps and evaluate model\n",
        "# every 1000 steps on the first 10 images of the DIV2K\n",
        "# validation set. Save a checkpoint only if evaluation\n",
        "# PSNR has improved.\n",
        "# Uncomment codes below for training!\n",
        "trainer.train(train_ds,\n",
        "              valid_ds.take(10),\n",
        "              steps=300000, \n",
        "              evaluate_every=1000, \n",
        "              save_best_only=True)"
      ]
    },
    {
      "cell_type": "code",
      "execution_count": 9,
      "metadata": {
        "id": "3RZf-dkcCvfB"
      },
      "outputs": [
        {
          "name": "stdout",
          "output_type": "stream",
          "text": [
            "Model restored from checkpoint at step 205000.\n"
          ]
        }
      ],
      "source": [
        "# Restore from checkpoint with highest PSNR\n",
        "trainer.restore()"
      ]
    },
    {
      "cell_type": "code",
      "execution_count": 10,
      "metadata": {
        "id": "-VUDE940CvfB"
      },
      "outputs": [],
      "source": [
        "# Save weights to separate location (needed for demo)\n",
        "trainer.model.save_weights(weights_file)"
      ]
    },
    {
      "cell_type": "markdown",
      "metadata": {
        "id": "hk-4UoF1TUrf"
      },
      "source": [
        "## Validation (PSNR Score)"
      ]
    },
    {
      "cell_type": "code",
      "execution_count": 11,
      "metadata": {
        "colab": {
          "base_uri": "https://localhost:8080/"
        },
        "id": "xKisJYK3CvfB",
        "outputId": "d6465725-db43-4afa-c419-660eb3225d5a"
      },
      "outputs": [
        {
          "name": "stdout",
          "output_type": "stream",
          "text": [
            "PSNR = 41.973591\n"
          ]
        }
      ],
      "source": [
        "# Evaluate model on full validation set\n",
        "psnrv = trainer.evaluate(valid_ds)\n",
        "print(f'PSNR = {psnrv.numpy():3f}')"
      ]
    },
    {
      "cell_type": "markdown",
      "metadata": {
        "id": "qOBRACUZCvfC"
      },
      "source": [
        "## Demo"
      ]
    },
    {
      "cell_type": "code",
      "execution_count": 12,
      "metadata": {
        "id": "uw1V0KuXCvfC"
      },
      "outputs": [],
      "source": [
        "model = edsr(scale=scale, num_res_blocks=depth)\n",
        "model.load_weights(weights_file)"
      ]
    },
    {
      "cell_type": "code",
      "execution_count": 13,
      "metadata": {
        "id": "6t23WnyCTt-N"
      },
      "outputs": [],
      "source": [
        "from model import resolve_single\n",
        "from utils import load_image\n",
        "from PIL import Image\n",
        "import numpy as np\n",
        "\n",
        "def convert_and_plot(lr_image_path):\n",
        "    lr = np.array(Image.open(lr_image_path).convert('RGB'))\n",
        "    \n",
        "    sr = resolve_single(model, lr)\n",
        "    plot_sample(lr, sr)"
      ]
    },
    {
      "cell_type": "code",
      "execution_count": 14,
      "metadata": {
        "id": "WYf1Ig5WCvfC"
      },
      "outputs": [],
      "source": [
        "from model import resolve_single\n",
        "from utils import load_image, plot_sample\n",
        "\n",
        "def resolve_and_plot(lr_image_path):\n",
        "    lr = load_image(lr_image_path)\n",
        "    sr = resolve_single(model, lr)\n",
        "    plot_sample(lr, sr)"
      ]
    },
    {
      "cell_type": "code",
      "execution_count": 16,
      "metadata": {
        "colab": {
          "base_uri": "https://localhost:8080/",
          "height": 558
        },
        "id": "PekW05G_T07y",
        "outputId": "4df3eaf9-c886-42de-b6c0-821d75c03a35"
      },
      "outputs": [
        {
          "data": {
            "image/png": "[encoded data removed]",
            "text/plain": [
              "<Figure size 2000x1000 with 2 Axes>"
            ]
          },
          "metadata": {},
          "output_type": "display_data"
        }
      ],
      "source": [
        "new_image = './new_dataset/PET-radiomics-challenges-kaggle/Training/1.3.6.1.4.1.14519.5.2.1.1707.8040.10059866353110167322451781.png'\n",
        "convert_and_plot(new_image)"
      ]
    },
    {
      "cell_type": "markdown",
      "metadata": {},
      "source": [
        "## SSIM : From Demo Image"
      ]
    },
    {
      "cell_type": "code",
      "execution_count": 17,
      "metadata": {},
      "outputs": [],
      "source": [
        "from skimage.metrics import structural_similarity as compare_ssim\n",
        "import argparse\n",
        "import imutils\n",
        "import cv2\n",
        "new_image = './new_dataset/Y-90/downscaled/0150x4.png'"
      ]
    },
    {
      "cell_type": "code",
      "execution_count": 18,
      "metadata": {},
      "outputs": [],
      "source": [
        "# load the two input images\n",
        "lr = np.array(Image.open(new_image).convert('RGB'))\n",
        "sr = resolve_single(model, lr)\n",
        "imageA = cv2.imread('./new_dataset/Y-90/normal/0150.png')\n",
        "imageB = np.array(sr)\n",
        "# convert the images to grayscale\n",
        "grayA = cv2.cvtColor(imageA, cv2.COLOR_RGB2GRAY)\n",
        "grayB = cv2.cvtColor(imageB, cv2.COLOR_RGB2GRAY)"
      ]
    },
    {
      "cell_type": "code",
      "execution_count": 20,
      "metadata": {},
      "outputs": [
        {
          "name": "stdout",
          "output_type": "stream",
          "text": [
            "SSIM: 0.9768182702071848\n"
          ]
        }
      ],
      "source": [
        "# compute the Structural Similarity Index (SSIM) between the two\n",
        "# images, ensuring that the difference image is returned\n",
        "(score, diff) = compare_ssim(grayA, grayB, full=True)\n",
        "diff = (diff * 255).astype(\"uint8\")\n",
        "print(\"SSIM: {}\".format(score))"
      ]
    }
  ],
  "metadata": {
    "accelerator": "GPU",
    "colab": {
      "name": "example-edsr.ipynb",
      "provenance": []
    },
    "gpuClass": "standard",
    "interpreter": {
      "hash": "f63f6c5a1e439ec046f8b97d4e79145db6c2c86b7d748c10c29c9441a4011ee3"
    },
    "kernelspec": {
      "display_name": "Python 3.8.0 ('super-resolution')",
      "language": "python",
      "name": "python3"
    },
    "language_info": {
      "codemirror_mode": {
        "name": "ipython",
        "version": 3
      },
      "file_extension": ".py",
      "mimetype": "text/x-python",
      "name": "python",
      "nbconvert_exporter": "python",
      "pygments_lexer": "ipython3",
      "version": "3.8.0"
    },
    "vscode": {
      "interpreter": {
        "hash": "610c699f0cd8c4f129acd9140687fff6866bed0eb8e82f249fc8848b827b628c"
      }
    }
  },
  "nbformat": 4,
  "nbformat_minor": 0
}
