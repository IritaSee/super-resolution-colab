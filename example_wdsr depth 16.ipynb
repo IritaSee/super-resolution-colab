{
  "cells": [
    {
      "attachments": {},
      "cell_type": "markdown",
      "metadata": {
        "id": "LwtSCfE-VvGr"
      },
      "source": [
        "# WDSR"
      ]
    },
    {
      "cell_type": "code",
      "execution_count": null,
      "metadata": {},
      "outputs": [],
      "source": [
        "## for colab, make sure it uses python 3.8\n",
        "!sudo update-alternatives --config python3\n",
        "!sudo apt install python3-pip"
      ]
    },
    {
      "cell_type": "code",
      "execution_count": 1,
      "metadata": {
        "colab": {
          "base_uri": "https://localhost:8080/",
          "height": 1000
        },
        "id": "KFSI0pnyVvGt",
        "outputId": "27ecf32f-5c2b-4956-ea68-3a337ec2ffa5"
      },
      "outputs": [
        {
          "name": "stdout",
          "output_type": "stream",
          "text": [
            "Looking in indexes: https://pypi.org/simple, https://us-python.pkg.dev/colab-wheels/public/simple/\n",
            "Collecting tensorflow==2.3.1\n",
            "  Downloading tensorflow-2.3.1-cp37-cp37m-manylinux2010_x86_64.whl (320.4 MB)\n",
            "\u001b[K     |████████████████████████████████| 320.4 MB 24 kB/s \n",
            "\u001b[?25hCollecting tensorflow-addons==0.11.2\n",
            "  Downloading tensorflow_addons-0.11.2-cp37-cp37m-manylinux2010_x86_64.whl (1.1 MB)\n",
            "\u001b[K     |████████████████████████████████| 1.1 MB 11.3 MB/s \n",
            "\u001b[?25hRequirement already satisfied: absl-py>=0.7.0 in /usr/local/lib/python3.7/dist-packages (from tensorflow==2.3.1) (1.1.0)\n",
            "Requirement already satisfied: opt-einsum>=2.3.2 in /usr/local/lib/python3.7/dist-packages (from tensorflow==2.3.1) (3.3.0)\n",
            "Requirement already satisfied: wheel>=0.26 in /usr/local/lib/python3.7/dist-packages (from tensorflow==2.3.1) (0.37.1)\n",
            "Requirement already satisfied: termcolor>=1.1.0 in /usr/local/lib/python3.7/dist-packages (from tensorflow==2.3.1) (1.1.0)\n",
            "Collecting tensorflow-estimator<2.4.0,>=2.3.0\n",
            "  Downloading tensorflow_estimator-2.3.0-py2.py3-none-any.whl (459 kB)\n",
            "\u001b[K     |████████████████████████████████| 459 kB 72.0 MB/s \n",
            "\u001b[?25hCollecting gast==0.3.3\n",
            "  Downloading gast-0.3.3-py2.py3-none-any.whl (9.7 kB)\n",
            "Requirement already satisfied: astunparse==1.6.3 in /usr/local/lib/python3.7/dist-packages (from tensorflow==2.3.1) (1.6.3)\n",
            "Requirement already satisfied: protobuf>=3.9.2 in /usr/local/lib/python3.7/dist-packages (from tensorflow==2.3.1) (3.17.3)\n",
            "Collecting h5py<2.11.0,>=2.10.0\n",
            "  Downloading h5py-2.10.0-cp37-cp37m-manylinux1_x86_64.whl (2.9 MB)\n",
            "\u001b[K     |████████████████████████████████| 2.9 MB 51.3 MB/s \n",
            "\u001b[?25hRequirement already satisfied: six>=1.12.0 in /usr/local/lib/python3.7/dist-packages (from tensorflow==2.3.1) (1.15.0)\n",
            "Requirement already satisfied: google-pasta>=0.1.8 in /usr/local/lib/python3.7/dist-packages (from tensorflow==2.3.1) (0.2.0)\n",
            "Requirement already satisfied: grpcio>=1.8.6 in /usr/local/lib/python3.7/dist-packages (from tensorflow==2.3.1) (1.47.0)\n",
            "Requirement already satisfied: tensorboard<3,>=2.3.0 in /usr/local/lib/python3.7/dist-packages (from tensorflow==2.3.1) (2.8.0)\n",
            "Requirement already satisfied: keras-preprocessing<1.2,>=1.1.1 in /usr/local/lib/python3.7/dist-packages (from tensorflow==2.3.1) (1.1.2)\n",
            "Requirement already satisfied: wrapt>=1.11.1 in /usr/local/lib/python3.7/dist-packages (from tensorflow==2.3.1) (1.14.1)\n",
            "Collecting numpy<1.19.0,>=1.16.0\n",
            "  Downloading numpy-1.18.5-cp37-cp37m-manylinux1_x86_64.whl (20.1 MB)\n",
            "\u001b[K     |████████████████████████████████| 20.1 MB 1.2 MB/s \n",
            "\u001b[?25hRequirement already satisfied: typeguard>=2.7 in /usr/local/lib/python3.7/dist-packages (from tensorflow-addons==0.11.2) (2.7.1)\n",
            "Requirement already satisfied: tensorboard-data-server<0.7.0,>=0.6.0 in /usr/local/lib/python3.7/dist-packages (from tensorboard<3,>=2.3.0->tensorflow==2.3.1) (0.6.1)\n",
            "Requirement already satisfied: markdown>=2.6.8 in /usr/local/lib/python3.7/dist-packages (from tensorboard<3,>=2.3.0->tensorflow==2.3.1) (3.3.7)\n",
            "Requirement already satisfied: setuptools>=41.0.0 in /usr/local/lib/python3.7/dist-packages (from tensorboard<3,>=2.3.0->tensorflow==2.3.1) (57.4.0)\n",
            "Requirement already satisfied: google-auth<3,>=1.6.3 in /usr/local/lib/python3.7/dist-packages (from tensorboard<3,>=2.3.0->tensorflow==2.3.1) (1.35.0)\n",
            "Requirement already satisfied: werkzeug>=0.11.15 in /usr/local/lib/python3.7/dist-packages (from tensorboard<3,>=2.3.0->tensorflow==2.3.1) (1.0.1)\n",
            "Requirement already satisfied: requests<3,>=2.21.0 in /usr/local/lib/python3.7/dist-packages (from tensorboard<3,>=2.3.0->tensorflow==2.3.1) (2.23.0)\n",
            "Requirement already satisfied: tensorboard-plugin-wit>=1.6.0 in /usr/local/lib/python3.7/dist-packages (from tensorboard<3,>=2.3.0->tensorflow==2.3.1) (1.8.1)\n",
            "Requirement already satisfied: google-auth-oauthlib<0.5,>=0.4.1 in /usr/local/lib/python3.7/dist-packages (from tensorboard<3,>=2.3.0->tensorflow==2.3.1) (0.4.6)\n",
            "Requirement already satisfied: cachetools<5.0,>=2.0.0 in /usr/local/lib/python3.7/dist-packages (from google-auth<3,>=1.6.3->tensorboard<3,>=2.3.0->tensorflow==2.3.1) (4.2.4)\n",
            "Requirement already satisfied: rsa<5,>=3.1.4 in /usr/local/lib/python3.7/dist-packages (from google-auth<3,>=1.6.3->tensorboard<3,>=2.3.0->tensorflow==2.3.1) (4.8)\n",
            "Requirement already satisfied: pyasn1-modules>=0.2.1 in /usr/local/lib/python3.7/dist-packages (from google-auth<3,>=1.6.3->tensorboard<3,>=2.3.0->tensorflow==2.3.1) (0.2.8)\n",
            "Requirement already satisfied: requests-oauthlib>=0.7.0 in /usr/local/lib/python3.7/dist-packages (from google-auth-oauthlib<0.5,>=0.4.1->tensorboard<3,>=2.3.0->tensorflow==2.3.1) (1.3.1)\n",
            "Requirement already satisfied: importlib-metadata>=4.4 in /usr/local/lib/python3.7/dist-packages (from markdown>=2.6.8->tensorboard<3,>=2.3.0->tensorflow==2.3.1) (4.12.0)\n",
            "Requirement already satisfied: typing-extensions>=3.6.4 in /usr/local/lib/python3.7/dist-packages (from importlib-metadata>=4.4->markdown>=2.6.8->tensorboard<3,>=2.3.0->tensorflow==2.3.1) (4.1.1)\n",
            "Requirement already satisfied: zipp>=0.5 in /usr/local/lib/python3.7/dist-packages (from importlib-metadata>=4.4->markdown>=2.6.8->tensorboard<3,>=2.3.0->tensorflow==2.3.1) (3.8.0)\n",
            "Requirement already satisfied: pyasn1<0.5.0,>=0.4.6 in /usr/local/lib/python3.7/dist-packages (from pyasn1-modules>=0.2.1->google-auth<3,>=1.6.3->tensorboard<3,>=2.3.0->tensorflow==2.3.1) (0.4.8)\n",
            "Requirement already satisfied: idna<3,>=2.5 in /usr/local/lib/python3.7/dist-packages (from requests<3,>=2.21.0->tensorboard<3,>=2.3.0->tensorflow==2.3.1) (2.10)\n",
            "Requirement already satisfied: chardet<4,>=3.0.2 in /usr/local/lib/python3.7/dist-packages (from requests<3,>=2.21.0->tensorboard<3,>=2.3.0->tensorflow==2.3.1) (3.0.4)\n",
            "Requirement already satisfied: certifi>=2017.4.17 in /usr/local/lib/python3.7/dist-packages (from requests<3,>=2.21.0->tensorboard<3,>=2.3.0->tensorflow==2.3.1) (2022.6.15)\n",
            "Requirement already satisfied: urllib3!=1.25.0,!=1.25.1,<1.26,>=1.21.1 in /usr/local/lib/python3.7/dist-packages (from requests<3,>=2.21.0->tensorboard<3,>=2.3.0->tensorflow==2.3.1) (1.24.3)\n",
            "Requirement already satisfied: oauthlib>=3.0.0 in /usr/local/lib/python3.7/dist-packages (from requests-oauthlib>=0.7.0->google-auth-oauthlib<0.5,>=0.4.1->tensorboard<3,>=2.3.0->tensorflow==2.3.1) (3.2.0)\n",
            "Installing collected packages: numpy, tensorflow-estimator, h5py, gast, tensorflow-addons, tensorflow\n",
            "  Attempting uninstall: numpy\n",
            "    Found existing installation: numpy 1.21.6\n",
            "    Uninstalling numpy-1.21.6:\n",
            "      Successfully uninstalled numpy-1.21.6\n",
            "  Attempting uninstall: tensorflow-estimator\n",
            "    Found existing installation: tensorflow-estimator 2.8.0\n",
            "    Uninstalling tensorflow-estimator-2.8.0:\n",
            "      Successfully uninstalled tensorflow-estimator-2.8.0\n",
            "  Attempting uninstall: h5py\n",
            "    Found existing installation: h5py 3.1.0\n",
            "    Uninstalling h5py-3.1.0:\n",
            "      Successfully uninstalled h5py-3.1.0\n",
            "  Attempting uninstall: gast\n",
            "    Found existing installation: gast 0.5.3\n",
            "    Uninstalling gast-0.5.3:\n",
            "      Successfully uninstalled gast-0.5.3\n",
            "  Attempting uninstall: tensorflow\n",
            "    Found existing installation: tensorflow 2.8.2+zzzcolab20220629235552\n",
            "    Uninstalling tensorflow-2.8.2+zzzcolab20220629235552:\n",
            "      Successfully uninstalled tensorflow-2.8.2+zzzcolab20220629235552\n",
            "\u001b[31mERROR: pip's dependency resolver does not currently take into account all the packages that are installed. This behaviour is the source of the following dependency conflicts.\n",
            "xarray-einstats 0.2.2 requires numpy>=1.21, but you have numpy 1.18.5 which is incompatible.\n",
            "tables 3.7.0 requires numpy>=1.19.0, but you have numpy 1.18.5 which is incompatible.\n",
            "jaxlib 0.3.14+cuda11.cudnn805 requires numpy>=1.19, but you have numpy 1.18.5 which is incompatible.\n",
            "jax 0.3.14 requires numpy>=1.19, but you have numpy 1.18.5 which is incompatible.\n",
            "datascience 0.10.6 requires folium==0.2.1, but you have folium 0.8.3 which is incompatible.\n",
            "albumentations 0.1.12 requires imgaug<0.2.7,>=0.2.5, but you have imgaug 0.2.9 which is incompatible.\u001b[0m\n",
            "Successfully installed gast-0.3.3 h5py-2.10.0 numpy-1.18.5 tensorflow-2.3.1 tensorflow-addons-0.11.2 tensorflow-estimator-2.3.0\n"
          ]
        },
        {
          "data": {
            "application/vnd.colab-display-data+json": {
              "pip_warning": {
                "packages": [
                  "numpy"
                ]
              }
            }
          },
          "metadata": {},
          "output_type": "display_data"
        }
      ],
      "source": [
        "#COLAB environment setup:\n",
        "!pip install tensorflow-gpu==2.3.1 tensorflow-addons==0.11.2 ## replace to !pip install tensorflow for CPU"
      ]
    },
    {
      "cell_type": "code",
      "execution_count": 2,
      "metadata": {
        "colab": {
          "base_uri": "https://localhost:8080/"
        },
        "id": "__6lirCVVvGt",
        "outputId": "8d90b029-0387-4772-aa1f-18f9995e1db3"
      },
      "outputs": [
        {
          "name": "stdout",
          "output_type": "stream",
          "text": [
            "Cloning into 'super-resolution'...\n",
            "remote: Enumerating objects: 408, done.\u001b[K\n",
            "remote: Counting objects: 100% (3/3), done.\u001b[K\n",
            "remote: Compressing objects: 100% (2/2), done.\u001b[K\n",
            "remote: Total 408 (delta 0), reused 2 (delta 0), pack-reused 405\u001b[K\n",
            "Receiving objects: 100% (408/408), 48.16 MiB | 40.52 MiB/s, done.\n",
            "Resolving deltas: 100% (214/214), done.\n"
          ]
        }
      ],
      "source": [
        "!git clone https://github.com/IritaSee/super-resolution-colab.git"
      ]
    },
    {
      "cell_type": "code",
      "execution_count": 3,
      "metadata": {
        "colab": {
          "base_uri": "https://localhost:8080/"
        },
        "id": "HS3lK49GVvGu",
        "outputId": "19d038ae-bcea-40be-a899-4b3df2bf523d"
      },
      "outputs": [
        {
          "name": "stdout",
          "output_type": "stream",
          "text": [
            "/content/super-resolution\n"
          ]
        }
      ],
      "source": [
        "%cd super-resolution"
      ]
    },
    {
      "cell_type": "code",
      "execution_count": 1,
      "metadata": {
        "colab": {
          "base_uri": "https://localhost:8080/"
        },
        "id": "izMuZBROVvGu",
        "outputId": "2ce523d9-b0fd-4c53-f8b8-a0d4f9a65dbd"
      },
      "outputs": [
        {
          "name": "stdout",
          "output_type": "stream",
          "text": [
            " article.ipynb\t\t        example_wdsr.ipynb\n",
            " data_engineering.ipynb         LICENSE\n",
            " data.py\t\t        model\n",
            " dataset.md\t\t        new_dataset\n",
            " demo\t\t\t        __pycache__\n",
            " docs\t\t\t        README.md\n",
            " environment.yml\t        train.py\n",
            " example_edsr.ipynb\t        utils.py\n",
            " example_srgan.ipynb\t        weights\n",
            "'example_wdsr depth 16.ipynb'   weights-wdsr-b-32-x4.tar.gz\n",
            "'example_wdsr depth 32.ipynb'   weights-wdsr-b-32-x4.tar.gz.1\n"
          ]
        }
      ],
      "source": [
        "!ls"
      ]
    },
    {
      "cell_type": "code",
      "execution_count": 5,
      "metadata": {
        "id": "eYOV_NZTVvGu"
      },
      "outputs": [],
      "source": [
        "import os\n",
        "import matplotlib.pyplot as plt\n",
        "\n",
        "from data import DIV2K\n",
        "from model.wdsr import wdsr_b\n",
        "from train import WdsrTrainer\n",
        "\n",
        "%matplotlib inline"
      ]
    },
    {
      "cell_type": "code",
      "execution_count": 4,
      "metadata": {
        "id": "H3SNNDklVvGu"
      },
      "outputs": [],
      "source": [
        "# Number of residual blocks\n",
        "# depth = 32\n",
        "depth = 16\n",
        "# depth = 64\n",
        "\n",
        "# Super-resolution factor\n",
        "scale = 4 #ini jangan di ganti, ngaruh ke dataset\n",
        "\n",
        "# Downgrade operator\n",
        "downgrade = 'bicubic'"
      ]
    },
    {
      "cell_type": "code",
      "execution_count": 7,
      "metadata": {
        "id": "36Q3IBy_VvGu"
      },
      "outputs": [],
      "source": [
        "# Location of model weights (needed for demo)\n",
        "weights_dir = f'weights/wdsr-b-{depth}-x{scale}'\n",
        "weights_file = os.path.join(weights_dir, 'weights_16_as_depth.h5')\n",
        "\n",
        "os.makedirs(weights_dir, exist_ok=True)"
      ]
    },
    {
      "attachments": {},
      "cell_type": "markdown",
      "metadata": {
        "id": "dBqgGosZVvGu"
      },
      "source": [
        "## Datasets\n",
        "\n",
        "You don't need to download the DIV2K dataset as the required parts are automatically downloaded by the `DIV2K` class. By default, DIV2K images are stored in folder `.div2k` in the project's root directory."
      ]
    },
    {
      "cell_type": "code",
      "execution_count": 8,
      "metadata": {
        "colab": {
          "base_uri": "https://localhost:8080/"
        },
        "id": "eZeJpACsVvGv",
        "outputId": "ab2dfea9-e403-43a3-f890-dc940da08954"
      },
      "outputs": [
        {
          "name": "stdout",
          "output_type": "stream",
          "text": [
            "Mounted at /content/drive\n"
          ]
        }
      ],
      "source": [
        "# from google.colab import drive\n",
        "# drive.mount('/content/drive')"
      ]
    },
    {
      "cell_type": "code",
      "execution_count": 8,
      "metadata": {
        "id": "-2Bwk_EnVvGv"
      },
      "outputs": [],
      "source": [
        "div2k_train = DIV2K(scale=scale, subset='train', downgrade=downgrade)\n",
        "div2k_valid = DIV2K(scale=scale, subset='valid', downgrade=downgrade)"
      ]
    },
    {
      "cell_type": "code",
      "execution_count": 9,
      "metadata": {
        "id": "qO_GFAq5VvGv"
      },
      "outputs": [],
      "source": [
        "train_ds = div2k_train.dataset(batch_size=16, random_transform=True)\n",
        "valid_ds = div2k_valid.dataset(batch_size=1, random_transform=False, repeat_count=1)"
      ]
    },
    {
      "attachments": {},
      "cell_type": "markdown",
      "metadata": {
        "id": "LW5aTX5vVvGv"
      },
      "source": [
        "## Training\n",
        "\n",
        "### Pre-trained models\n",
        "\n",
        "If you want to skip training and directly run the demo below, download [weights-wdsr-b-32-x4.tar.gz](https://martin-krasser.de/sisr/weights-wdsr-b-32-x4.tar.gz) and extract the archive in the project's root directory. This will create a `weights/wdsr-b-32-x4` directory containing the weights of the pre-trained model."
      ]
    },
    {
      "cell_type": "code",
      "execution_count": 7,
      "metadata": {
        "colab": {
          "base_uri": "https://localhost:8080/"
        },
        "id": "WoDa5DRbVvGv",
        "outputId": "b5598af4-630d-403c-9823-e4d43c96ed78"
      },
      "outputs": [
        {
          "name": "stdout",
          "output_type": "stream",
          "text": [
            "--2023-06-21 21:57:35--  https://martin-krasser.de/sisr/weights-wdsr-b-32-x4.tar.gz\n",
            "Resolving martin-krasser.de (martin-krasser.de)... 217.160.0.142, 2001:8d8:100f:f000::209\n",
            "Connecting to martin-krasser.de (martin-krasser.de)|217.160.0.142|:443... connected.\n",
            "HTTP request sent, awaiting response... 200 OK\n",
            "Length: 2328140 (2.2M) [application/gzip]\n",
            "Saving to: ‘weights-wdsr-b-32-x4.tar.gz.1’\n",
            "\n",
            "weights-wdsr-b-32-x 100%[===================>]   2.22M  1.13MB/s    in 2.0s    \n",
            "\n",
            "2023-06-21 21:57:39 (1.13 MB/s) - ‘weights-wdsr-b-32-x4.tar.gz.1’ saved [2328140/2328140]\n",
            "\n"
          ]
        }
      ],
      "source": [
        "!wget https://martin-krasser.de/sisr/weights-wdsr-b-32-x4.tar.gz"
      ]
    },
    {
      "cell_type": "code",
      "execution_count": 8,
      "metadata": {
        "id": "SQ6DAUh0VvGw"
      },
      "outputs": [],
      "source": [
        "! tar -xf weights-wdsr-b-32-x4.tar.gz"
      ]
    },
    {
      "cell_type": "code",
      "execution_count": 12,
      "metadata": {
        "id": "5so1sfCsVvGw"
      },
      "outputs": [],
      "source": [
        "trainer = WdsrTrainer(model=wdsr_b(scale=scale, num_res_blocks=depth), \n",
        "                      checkpoint_dir=f'.ckpt/wdsr-b-{depth}-x{scale}')"
      ]
    },
    {
      "cell_type": "code",
      "execution_count": 13,
      "metadata": {
        "id": "z4qifY3HVvGw",
        "scrolled": true
      },
      "outputs": [
        {
          "name": "stdout",
          "output_type": "stream",
          "text": [
            "1000/300000: loss = 5.014, PSNR = 35.934669 (152.65s)\n",
            "2000/300000: loss = 2.567, PSNR = 37.799564 (137.75s)\n",
            "3000/300000: loss = 2.213, PSNR = 38.849377 (136.51s)\n",
            "4000/300000: loss = 2.072, PSNR = 39.296741 (136.52s)\n",
            "5000/300000: loss = 1.956, PSNR = 39.547318 (136.49s)\n",
            "6000/300000: loss = 1.869, PSNR = 39.840172 (136.57s)\n",
            "7000/300000: loss = 1.831, PSNR = 40.072765 (136.49s)\n",
            "8000/300000: loss = 1.767, PSNR = 39.725182 (136.63s)\n",
            "9000/300000: loss = 1.727, PSNR = 40.167366 (136.59s)\n",
            "10000/300000: loss = 1.687, PSNR = 40.406208 (136.42s)\n",
            "11000/300000: loss = 1.653, PSNR = 40.410816 (136.56s)\n",
            "12000/300000: loss = 1.639, PSNR = 40.493710 (136.36s)\n",
            "13000/300000: loss = 1.611, PSNR = 40.741779 (136.23s)\n",
            "14000/300000: loss = 1.606, PSNR = 40.590374 (136.48s)\n",
            "15000/300000: loss = 1.568, PSNR = 40.779442 (136.52s)\n",
            "16000/300000: loss = 1.556, PSNR = 40.962006 (136.43s)\n",
            "17000/300000: loss = 1.545, PSNR = 41.003475 (136.32s)\n",
            "18000/300000: loss = 1.540, PSNR = 41.106079 (136.28s)\n",
            "19000/300000: loss = 1.517, PSNR = 41.134232 (136.37s)\n",
            "20000/300000: loss = 1.501, PSNR = 41.100185 (136.34s)\n",
            "21000/300000: loss = 1.504, PSNR = 41.135632 (136.31s)\n",
            "22000/300000: loss = 1.504, PSNR = 41.208515 (136.23s)\n",
            "23000/300000: loss = 1.488, PSNR = 41.208416 (136.38s)\n",
            "24000/300000: loss = 1.493, PSNR = 41.223042 (136.37s)\n",
            "25000/300000: loss = 1.474, PSNR = 41.080437 (136.36s)\n",
            "26000/300000: loss = 1.470, PSNR = 41.183945 (136.16s)\n",
            "27000/300000: loss = 1.465, PSNR = 41.245522 (136.41s)\n",
            "28000/300000: loss = 1.461, PSNR = 41.300556 (136.07s)\n",
            "29000/300000: loss = 1.447, PSNR = 41.329380 (136.27s)\n",
            "30000/300000: loss = 1.454, PSNR = 41.419498 (136.38s)\n",
            "31000/300000: loss = 1.444, PSNR = 41.353573 (136.05s)\n",
            "32000/300000: loss = 1.431, PSNR = 41.336277 (135.78s)\n",
            "33000/300000: loss = 1.435, PSNR = 41.399513 (136.00s)\n",
            "34000/300000: loss = 1.437, PSNR = 41.437229 (135.74s)\n",
            "35000/300000: loss = 1.427, PSNR = 41.444397 (135.91s)\n",
            "36000/300000: loss = 1.434, PSNR = 41.247833 (135.98s)\n",
            "37000/300000: loss = 1.423, PSNR = 41.402363 (135.82s)\n",
            "38000/300000: loss = 1.419, PSNR = 41.496571 (135.98s)\n",
            "39000/300000: loss = 1.423, PSNR = 41.511467 (136.07s)\n",
            "40000/300000: loss = 1.413, PSNR = 41.398899 (135.85s)\n",
            "41000/300000: loss = 1.410, PSNR = 41.532166 (136.06s)\n",
            "42000/300000: loss = 1.397, PSNR = 41.538582 (135.95s)\n",
            "43000/300000: loss = 1.405, PSNR = 41.364616 (135.99s)\n",
            "44000/300000: loss = 1.402, PSNR = 41.539482 (135.97s)\n",
            "45000/300000: loss = 1.389, PSNR = 41.511147 (136.08s)\n",
            "46000/300000: loss = 1.405, PSNR = 41.610321 (136.00s)\n",
            "47000/300000: loss = 1.392, PSNR = 41.457607 (135.86s)\n",
            "48000/300000: loss = 1.392, PSNR = 41.501457 (136.08s)\n",
            "49000/300000: loss = 1.390, PSNR = 41.531746 (135.95s)\n",
            "50000/300000: loss = 1.390, PSNR = 41.561974 (135.87s)\n",
            "51000/300000: loss = 1.384, PSNR = 41.601295 (136.01s)\n",
            "52000/300000: loss = 1.388, PSNR = 41.534077 (135.98s)\n",
            "53000/300000: loss = 1.372, PSNR = 41.572083 (135.82s)\n",
            "54000/300000: loss = 1.380, PSNR = 41.531788 (135.99s)\n",
            "55000/300000: loss = 1.382, PSNR = 41.624413 (135.93s)\n",
            "56000/300000: loss = 1.370, PSNR = 41.558784 (135.94s)\n",
            "57000/300000: loss = 1.386, PSNR = 41.582123 (136.12s)\n",
            "58000/300000: loss = 1.380, PSNR = 41.569271 (135.86s)\n",
            "59000/300000: loss = 1.375, PSNR = 41.520805 (135.99s)\n",
            "60000/300000: loss = 1.383, PSNR = 41.572285 (135.93s)\n",
            "61000/300000: loss = 1.373, PSNR = 41.650631 (135.97s)\n",
            "62000/300000: loss = 1.373, PSNR = 41.613716 (135.87s)\n",
            "63000/300000: loss = 1.378, PSNR = 41.611549 (135.96s)\n",
            "64000/300000: loss = 1.361, PSNR = 41.610252 (135.85s)\n",
            "65000/300000: loss = 1.365, PSNR = 41.521576 (135.85s)\n",
            "66000/300000: loss = 1.361, PSNR = 41.605965 (135.79s)\n",
            "67000/300000: loss = 1.375, PSNR = 41.694000 (135.96s)\n",
            "68000/300000: loss = 1.368, PSNR = 41.608070 (135.98s)\n",
            "69000/300000: loss = 1.359, PSNR = 41.570290 (135.79s)\n",
            "70000/300000: loss = 1.365, PSNR = 41.612923 (135.90s)\n",
            "71000/300000: loss = 1.356, PSNR = 41.636017 (135.92s)\n",
            "72000/300000: loss = 1.374, PSNR = 41.570969 (135.78s)\n",
            "73000/300000: loss = 1.343, PSNR = 41.502453 (135.98s)\n",
            "74000/300000: loss = 1.356, PSNR = 41.587666 (135.79s)\n",
            "75000/300000: loss = 1.344, PSNR = 41.669052 (135.85s)\n",
            "76000/300000: loss = 1.345, PSNR = 41.682640 (135.98s)\n",
            "77000/300000: loss = 1.351, PSNR = 41.678825 (135.78s)\n",
            "78000/300000: loss = 1.353, PSNR = 41.665455 (136.05s)\n",
            "79000/300000: loss = 1.351, PSNR = 41.630276 (135.95s)\n",
            "80000/300000: loss = 1.346, PSNR = 41.683144 (135.88s)\n",
            "81000/300000: loss = 1.336, PSNR = 41.717583 (135.94s)\n",
            "82000/300000: loss = 1.346, PSNR = 41.707291 (135.72s)\n",
            "83000/300000: loss = 1.352, PSNR = 41.717262 (135.91s)\n",
            "84000/300000: loss = 1.338, PSNR = 41.640221 (136.06s)\n",
            "85000/300000: loss = 1.347, PSNR = 41.752686 (135.87s)\n",
            "86000/300000: loss = 1.352, PSNR = 41.687584 (135.93s)\n",
            "87000/300000: loss = 1.341, PSNR = 41.690025 (135.79s)\n",
            "88000/300000: loss = 1.348, PSNR = 41.629303 (135.95s)\n",
            "89000/300000: loss = 1.334, PSNR = 41.729267 (136.02s)\n",
            "90000/300000: loss = 1.340, PSNR = 41.665680 (135.79s)\n",
            "91000/300000: loss = 1.334, PSNR = 41.736824 (136.00s)\n",
            "92000/300000: loss = 1.338, PSNR = 41.683758 (135.94s)\n",
            "93000/300000: loss = 1.340, PSNR = 41.750904 (135.80s)\n",
            "94000/300000: loss = 1.338, PSNR = 41.673012 (136.03s)\n",
            "95000/300000: loss = 1.331, PSNR = 41.656063 (135.91s)\n",
            "96000/300000: loss = 1.333, PSNR = 41.656822 (135.94s)\n",
            "97000/300000: loss = 1.331, PSNR = 41.751209 (136.11s)\n",
            "98000/300000: loss = 1.334, PSNR = 41.662056 (136.02s)\n",
            "99000/300000: loss = 1.345, PSNR = 41.634422 (136.02s)\n",
            "100000/300000: loss = 1.319, PSNR = 41.717899 (136.15s)\n",
            "101000/300000: loss = 1.342, PSNR = 41.723305 (135.85s)\n",
            "102000/300000: loss = 1.325, PSNR = 41.634060 (135.98s)\n",
            "103000/300000: loss = 1.322, PSNR = 41.671169 (136.12s)\n",
            "104000/300000: loss = 1.329, PSNR = 41.737511 (136.04s)\n",
            "105000/300000: loss = 1.327, PSNR = 41.672157 (135.78s)\n",
            "106000/300000: loss = 1.323, PSNR = 41.740166 (136.04s)\n",
            "107000/300000: loss = 1.335, PSNR = 41.580544 (136.05s)\n",
            "108000/300000: loss = 1.326, PSNR = 41.656544 (135.89s)\n",
            "109000/300000: loss = 1.335, PSNR = 41.731003 (136.05s)\n",
            "110000/300000: loss = 1.329, PSNR = 41.752434 (136.09s)\n",
            "111000/300000: loss = 1.330, PSNR = 41.741402 (135.88s)\n",
            "112000/300000: loss = 1.315, PSNR = 41.747559 (135.96s)\n",
            "113000/300000: loss = 1.316, PSNR = 41.642632 (135.98s)\n",
            "114000/300000: loss = 1.326, PSNR = 41.689331 (135.94s)\n",
            "115000/300000: loss = 1.332, PSNR = 41.716873 (135.94s)\n",
            "116000/300000: loss = 1.323, PSNR = 41.722759 (135.96s)\n",
            "117000/300000: loss = 1.326, PSNR = 41.721138 (136.00s)\n",
            "118000/300000: loss = 1.319, PSNR = 41.685478 (136.03s)\n",
            "119000/300000: loss = 1.322, PSNR = 41.681286 (135.95s)\n",
            "120000/300000: loss = 1.326, PSNR = 41.735931 (135.93s)\n",
            "121000/300000: loss = 1.316, PSNR = 41.757168 (136.08s)\n",
            "122000/300000: loss = 1.324, PSNR = 41.728115 (136.04s)\n",
            "123000/300000: loss = 1.334, PSNR = 41.661808 (135.88s)\n",
            "124000/300000: loss = 1.322, PSNR = 41.705692 (136.07s)\n",
            "125000/300000: loss = 1.318, PSNR = 41.745689 (135.97s)\n",
            "126000/300000: loss = 1.318, PSNR = 41.689243 (136.03s)\n",
            "127000/300000: loss = 1.316, PSNR = 41.751900 (135.94s)\n",
            "128000/300000: loss = 1.317, PSNR = 41.715908 (135.91s)\n",
            "129000/300000: loss = 1.323, PSNR = 41.642494 (136.05s)\n",
            "130000/300000: loss = 1.324, PSNR = 41.722385 (136.00s)\n",
            "131000/300000: loss = 1.308, PSNR = 41.770851 (136.02s)\n",
            "132000/300000: loss = 1.316, PSNR = 41.747364 (135.98s)\n",
            "133000/300000: loss = 1.301, PSNR = 41.759235 (135.97s)\n",
            "134000/300000: loss = 1.307, PSNR = 41.711479 (135.86s)\n",
            "135000/300000: loss = 1.311, PSNR = 41.746605 (135.94s)\n",
            "136000/300000: loss = 1.316, PSNR = 41.681244 (135.85s)\n",
            "137000/300000: loss = 1.314, PSNR = 41.729340 (135.87s)\n",
            "138000/300000: loss = 1.312, PSNR = 41.732117 (136.11s)\n",
            "139000/300000: loss = 1.306, PSNR = 41.729137 (135.82s)\n",
            "140000/300000: loss = 1.307, PSNR = 41.680973 (135.75s)\n",
            "141000/300000: loss = 1.313, PSNR = 41.760353 (135.86s)\n",
            "142000/300000: loss = 1.294, PSNR = 41.706402 (135.82s)\n",
            "143000/300000: loss = 1.308, PSNR = 41.768009 (135.95s)\n",
            "144000/300000: loss = 1.309, PSNR = 41.725353 (136.03s)\n",
            "145000/300000: loss = 1.303, PSNR = 41.773476 (135.85s)\n",
            "146000/300000: loss = 1.312, PSNR = 41.733955 (136.08s)\n",
            "147000/300000: loss = 1.321, PSNR = 41.747646 (135.92s)\n",
            "148000/300000: loss = 1.315, PSNR = 41.617378 (135.70s)\n",
            "149000/300000: loss = 1.303, PSNR = 41.726295 (135.83s)\n",
            "150000/300000: loss = 1.305, PSNR = 41.777317 (135.55s)\n",
            "151000/300000: loss = 1.309, PSNR = 41.741814 (135.80s)\n",
            "152000/300000: loss = 1.300, PSNR = 41.693775 (135.72s)\n",
            "153000/300000: loss = 1.304, PSNR = 41.745277 (135.73s)\n",
            "154000/300000: loss = 1.308, PSNR = 41.765602 (135.40s)\n",
            "155000/300000: loss = 1.306, PSNR = 41.698479 (135.60s)\n",
            "156000/300000: loss = 1.299, PSNR = 41.783192 (135.62s)\n",
            "157000/300000: loss = 1.307, PSNR = 41.713364 (135.54s)\n",
            "158000/300000: loss = 1.307, PSNR = 41.671604 (135.66s)\n",
            "159000/300000: loss = 1.301, PSNR = 41.745415 (135.04s)\n",
            "160000/300000: loss = 1.311, PSNR = 41.776592 (134.69s)\n",
            "161000/300000: loss = 1.309, PSNR = 41.706928 (134.81s)\n",
            "162000/300000: loss = 1.303, PSNR = 41.779022 (135.42s)\n",
            "163000/300000: loss = 1.307, PSNR = 41.808216 (135.09s)\n",
            "164000/300000: loss = 1.308, PSNR = 41.780651 (134.95s)\n",
            "165000/300000: loss = 1.298, PSNR = 41.754593 (135.26s)\n",
            "166000/300000: loss = 1.304, PSNR = 41.756153 (135.39s)\n",
            "167000/300000: loss = 1.300, PSNR = 41.771759 (135.22s)\n",
            "168000/300000: loss = 1.308, PSNR = 41.733204 (135.55s)\n",
            "169000/300000: loss = 1.304, PSNR = 41.752174 (134.80s)\n",
            "170000/300000: loss = 1.308, PSNR = 41.703609 (135.00s)\n",
            "171000/300000: loss = 1.304, PSNR = 41.815453 (134.76s)\n",
            "172000/300000: loss = 1.309, PSNR = 41.801582 (134.44s)\n",
            "173000/300000: loss = 1.312, PSNR = 41.770008 (135.15s)\n",
            "174000/300000: loss = 1.311, PSNR = 41.745811 (134.75s)\n",
            "175000/300000: loss = 1.292, PSNR = 41.724457 (135.27s)\n",
            "176000/300000: loss = 1.295, PSNR = 41.810890 (134.75s)\n",
            "177000/300000: loss = 1.290, PSNR = 41.795296 (135.31s)\n",
            "178000/300000: loss = 1.290, PSNR = 41.719490 (135.10s)\n",
            "179000/300000: loss = 1.300, PSNR = 41.738148 (135.34s)\n",
            "180000/300000: loss = 1.302, PSNR = 41.785393 (135.06s)\n",
            "181000/300000: loss = 1.295, PSNR = 41.747185 (135.35s)\n",
            "182000/300000: loss = 1.296, PSNR = 41.791821 (135.35s)\n",
            "183000/300000: loss = 1.308, PSNR = 41.704254 (134.55s)\n",
            "184000/300000: loss = 1.303, PSNR = 41.724762 (134.89s)\n",
            "185000/300000: loss = 1.292, PSNR = 41.807648 (134.84s)\n",
            "186000/300000: loss = 1.295, PSNR = 41.757862 (135.42s)\n",
            "187000/300000: loss = 1.303, PSNR = 41.798859 (135.40s)\n",
            "188000/300000: loss = 1.296, PSNR = 41.783543 (135.04s)\n",
            "189000/300000: loss = 1.289, PSNR = 41.816841 (134.99s)\n",
            "190000/300000: loss = 1.302, PSNR = 41.790581 (135.34s)\n",
            "191000/300000: loss = 1.290, PSNR = 41.794594 (134.90s)\n",
            "192000/300000: loss = 1.298, PSNR = 41.754627 (134.94s)\n",
            "193000/300000: loss = 1.294, PSNR = 41.733810 (135.29s)\n",
            "194000/300000: loss = 1.294, PSNR = 41.774139 (135.25s)\n",
            "195000/300000: loss = 1.286, PSNR = 41.708328 (135.03s)\n",
            "196000/300000: loss = 1.299, PSNR = 41.745331 (134.39s)\n",
            "197000/300000: loss = 1.300, PSNR = 41.731083 (135.46s)\n",
            "198000/300000: loss = 1.288, PSNR = 41.714626 (135.19s)\n",
            "199000/300000: loss = 1.294, PSNR = 41.737904 (135.45s)\n",
            "200000/300000: loss = 1.287, PSNR = 41.819908 (134.98s)\n",
            "201000/300000: loss = 1.273, PSNR = 41.792286 (135.26s)\n",
            "202000/300000: loss = 1.263, PSNR = 41.823666 (135.31s)\n",
            "203000/300000: loss = 1.268, PSNR = 41.819592 (135.19s)\n",
            "204000/300000: loss = 1.265, PSNR = 41.783531 (135.43s)\n",
            "205000/300000: loss = 1.264, PSNR = 41.858234 (135.30s)\n",
            "206000/300000: loss = 1.259, PSNR = 41.819275 (135.32s)\n",
            "207000/300000: loss = 1.248, PSNR = 41.803200 (134.84s)\n",
            "208000/300000: loss = 1.265, PSNR = 41.835915 (135.23s)\n",
            "209000/300000: loss = 1.264, PSNR = 41.817890 (134.38s)\n",
            "210000/300000: loss = 1.270, PSNR = 41.813789 (135.29s)\n",
            "211000/300000: loss = 1.259, PSNR = 41.837116 (135.49s)\n",
            "212000/300000: loss = 1.258, PSNR = 41.819904 (134.98s)\n",
            "213000/300000: loss = 1.266, PSNR = 41.830139 (134.51s)\n",
            "214000/300000: loss = 1.267, PSNR = 41.834969 (134.77s)\n",
            "215000/300000: loss = 1.273, PSNR = 41.776070 (134.98s)\n",
            "216000/300000: loss = 1.260, PSNR = 41.857574 (134.97s)\n",
            "217000/300000: loss = 1.263, PSNR = 41.838844 (135.45s)\n",
            "218000/300000: loss = 1.251, PSNR = 41.788109 (134.65s)\n",
            "219000/300000: loss = 1.258, PSNR = 41.804554 (134.49s)\n",
            "220000/300000: loss = 1.265, PSNR = 41.794624 (134.68s)\n",
            "221000/300000: loss = 1.266, PSNR = 41.825287 (134.93s)\n",
            "222000/300000: loss = 1.267, PSNR = 41.804256 (135.47s)\n",
            "223000/300000: loss = 1.269, PSNR = 41.858116 (135.60s)\n",
            "224000/300000: loss = 1.268, PSNR = 41.820015 (134.54s)\n",
            "225000/300000: loss = 1.269, PSNR = 41.814156 (134.54s)\n",
            "226000/300000: loss = 1.274, PSNR = 41.794678 (135.10s)\n",
            "227000/300000: loss = 1.267, PSNR = 41.803535 (134.96s)\n",
            "228000/300000: loss = 1.254, PSNR = 41.829834 (134.65s)\n",
            "229000/300000: loss = 1.267, PSNR = 41.804493 (134.92s)\n",
            "230000/300000: loss = 1.256, PSNR = 41.778313 (134.50s)\n",
            "231000/300000: loss = 1.255, PSNR = 41.783070 (134.62s)\n",
            "232000/300000: loss = 1.264, PSNR = 41.812271 (135.12s)\n",
            "233000/300000: loss = 1.265, PSNR = 41.802731 (134.99s)\n",
            "234000/300000: loss = 1.264, PSNR = 41.812428 (134.73s)\n",
            "235000/300000: loss = 1.263, PSNR = 41.840767 (134.57s)\n",
            "236000/300000: loss = 1.268, PSNR = 41.809063 (134.88s)\n",
            "237000/300000: loss = 1.262, PSNR = 41.831711 (134.95s)\n",
            "238000/300000: loss = 1.262, PSNR = 41.848061 (135.34s)\n",
            "239000/300000: loss = 1.258, PSNR = 41.787712 (135.14s)\n",
            "240000/300000: loss = 1.269, PSNR = 41.775124 (134.79s)\n",
            "241000/300000: loss = 1.258, PSNR = 41.803505 (135.29s)\n",
            "242000/300000: loss = 1.267, PSNR = 41.790081 (134.49s)\n",
            "243000/300000: loss = 1.262, PSNR = 41.770531 (135.59s)\n",
            "244000/300000: loss = 1.262, PSNR = 41.830910 (134.69s)\n",
            "245000/300000: loss = 1.256, PSNR = 41.797310 (135.18s)\n",
            "246000/300000: loss = 1.266, PSNR = 41.826530 (135.52s)\n",
            "247000/300000: loss = 1.256, PSNR = 41.807732 (135.28s)\n",
            "248000/300000: loss = 1.260, PSNR = 41.800514 (134.79s)\n",
            "249000/300000: loss = 1.257, PSNR = 41.842983 (134.58s)\n",
            "250000/300000: loss = 1.259, PSNR = 41.778900 (135.10s)\n",
            "251000/300000: loss = 1.258, PSNR = 41.831245 (134.40s)\n",
            "252000/300000: loss = 1.263, PSNR = 41.789906 (135.29s)\n",
            "253000/300000: loss = 1.256, PSNR = 41.837929 (134.53s)\n",
            "254000/300000: loss = 1.260, PSNR = 41.848358 (135.02s)\n",
            "255000/300000: loss = 1.263, PSNR = 41.793034 (135.32s)\n",
            "256000/300000: loss = 1.261, PSNR = 41.799534 (134.69s)\n",
            "257000/300000: loss = 1.265, PSNR = 41.829716 (134.84s)\n",
            "258000/300000: loss = 1.259, PSNR = 41.746563 (135.15s)\n",
            "259000/300000: loss = 1.256, PSNR = 41.817406 (135.32s)\n",
            "260000/300000: loss = 1.249, PSNR = 41.794994 (135.40s)\n",
            "261000/300000: loss = 1.257, PSNR = 41.824459 (134.78s)\n",
            "262000/300000: loss = 1.262, PSNR = 41.803932 (134.79s)\n",
            "263000/300000: loss = 1.258, PSNR = 41.818848 (135.11s)\n",
            "264000/300000: loss = 1.253, PSNR = 41.800438 (135.67s)\n",
            "265000/300000: loss = 1.263, PSNR = 41.822002 (134.84s)\n",
            "266000/300000: loss = 1.257, PSNR = 41.816216 (135.35s)\n",
            "267000/300000: loss = 1.252, PSNR = 41.795162 (135.09s)\n",
            "268000/300000: loss = 1.255, PSNR = 41.827644 (135.37s)\n",
            "269000/300000: loss = 1.253, PSNR = 41.829323 (135.05s)\n",
            "270000/300000: loss = 1.261, PSNR = 41.835918 (135.30s)\n",
            "271000/300000: loss = 1.247, PSNR = 41.795898 (134.46s)\n",
            "272000/300000: loss = 1.259, PSNR = 41.786522 (134.95s)\n",
            "273000/300000: loss = 1.250, PSNR = 41.831635 (134.82s)\n",
            "274000/300000: loss = 1.258, PSNR = 41.815228 (134.51s)\n",
            "275000/300000: loss = 1.264, PSNR = 41.844273 (135.39s)\n",
            "276000/300000: loss = 1.264, PSNR = 41.810230 (135.13s)\n",
            "277000/300000: loss = 1.253, PSNR = 41.764431 (135.62s)\n",
            "278000/300000: loss = 1.267, PSNR = 41.837471 (134.98s)\n",
            "279000/300000: loss = 1.254, PSNR = 41.831093 (134.84s)\n",
            "280000/300000: loss = 1.261, PSNR = 41.804604 (134.61s)\n",
            "281000/300000: loss = 1.252, PSNR = 41.789555 (135.20s)\n",
            "282000/300000: loss = 1.250, PSNR = 41.792812 (135.31s)\n",
            "283000/300000: loss = 1.257, PSNR = 41.816406 (134.95s)\n",
            "284000/300000: loss = 1.258, PSNR = 41.815708 (134.60s)\n",
            "285000/300000: loss = 1.260, PSNR = 41.804901 (134.78s)\n",
            "286000/300000: loss = 1.255, PSNR = 41.788170 (134.97s)\n",
            "287000/300000: loss = 1.257, PSNR = 41.801746 (134.67s)\n",
            "288000/300000: loss = 1.268, PSNR = 41.846710 (134.84s)\n",
            "289000/300000: loss = 1.252, PSNR = 41.824608 (135.32s)\n",
            "290000/300000: loss = 1.256, PSNR = 41.834068 (134.49s)\n",
            "291000/300000: loss = 1.257, PSNR = 41.802795 (134.65s)\n",
            "292000/300000: loss = 1.256, PSNR = 41.800423 (134.74s)\n",
            "293000/300000: loss = 1.255, PSNR = 41.831913 (134.99s)\n",
            "294000/300000: loss = 1.262, PSNR = 41.828163 (135.28s)\n",
            "295000/300000: loss = 1.247, PSNR = 41.784744 (134.68s)\n",
            "296000/300000: loss = 1.255, PSNR = 41.815086 (134.54s)\n",
            "297000/300000: loss = 1.259, PSNR = 41.817593 (134.61s)\n",
            "298000/300000: loss = 1.268, PSNR = 41.798279 (134.81s)\n",
            "299000/300000: loss = 1.255, PSNR = 41.831810 (134.82s)\n",
            "300000/300000: loss = 1.255, PSNR = 41.782402 (134.70s)\n"
          ]
        }
      ],
      "source": [
        "# Train WDSR B model for 300,000 steps and evaluate model\n",
        "# every 1000 steps on the first 10 images of the DIV2K\n",
        "# validation set. Save a checkpoint only if evaluation\n",
        "# PSNR has improved.\n",
        "# uncomment code below to train!\n",
        "trainer.train(train_ds,\n",
        "              valid_ds.take(10),\n",
        "              steps=300000, \n",
        "              evaluate_every=1000, \n",
        "              save_best_only=True)"
      ]
    },
    {
      "cell_type": "code",
      "execution_count": 14,
      "metadata": {
        "id": "COlp9NbtVvGw"
      },
      "outputs": [
        {
          "name": "stdout",
          "output_type": "stream",
          "text": [
            "Model restored from checkpoint at step 205000.\n"
          ]
        }
      ],
      "source": [
        "# Restore from checkpoint with highest PSNR\n",
        "trainer.restore()"
      ]
    },
    {
      "cell_type": "code",
      "execution_count": 15,
      "metadata": {
        "id": "n4E2Qt_tVvGw"
      },
      "outputs": [],
      "source": [
        "# Save weights to separate location (needed for demo)\n",
        "trainer.model.save_weights(weights_file)"
      ]
    },
    {
      "attachments": {},
      "cell_type": "markdown",
      "metadata": {
        "id": "yjYWjmedVvGx"
      },
      "source": [
        "## Evaluation (PSNR Score)"
      ]
    },
    {
      "cell_type": "code",
      "execution_count": 16,
      "metadata": {
        "id": "KXHoZJnOVvGx"
      },
      "outputs": [
        {
          "name": "stdout",
          "output_type": "stream",
          "text": [
            "PSNR = 42.010365\n"
          ]
        }
      ],
      "source": [
        "# Evaluate model on full validation set\n",
        "psnr = trainer.evaluate(valid_ds)\n",
        "print(f'PSNR = {psnr.numpy():3f}')"
      ]
    },
    {
      "attachments": {},
      "cell_type": "markdown",
      "metadata": {
        "id": "WW8nT4kvVvGx"
      },
      "source": [
        "## Demo"
      ]
    },
    {
      "cell_type": "code",
      "execution_count": 17,
      "metadata": {
        "id": "r9FVmwN_VvGx"
      },
      "outputs": [],
      "source": [
        "model = wdsr_b(scale=scale, num_res_blocks=depth)\n",
        "model.load_weights(weights_file)"
      ]
    },
    {
      "cell_type": "code",
      "execution_count": 18,
      "metadata": {
        "id": "ze6-YVkXVvGx"
      },
      "outputs": [],
      "source": [
        "from model import resolve_single\n",
        "from utils import load_image, plot_sample\n",
        "from PIL import Image\n",
        "import numpy as np\n",
        "\n",
        "def convert_and_plot(lr_image_path):\n",
        "    lr = np.array(Image.open(lr_image_path).convert('RGB'))\n",
        "    \n",
        "    sr = resolve_single(model, lr)\n",
        "    plot_sample(lr, sr)"
      ]
    },
    {
      "cell_type": "code",
      "execution_count": 19,
      "metadata": {
        "id": "nb4qM5VjVvGx"
      },
      "outputs": [],
      "source": [
        "from model import resolve_single\n",
        "from utils import load_image, plot_sample\n",
        "\n",
        "def resolve_and_plot(lr_image_path):\n",
        "    lr = load_image(lr_image_path)\n",
        "    sr = resolve_single(model, lr)\n",
        "    plot_sample(lr, sr)"
      ]
    },
    {
      "cell_type": "code",
      "execution_count": 20,
      "metadata": {
        "colab": {
          "base_uri": "https://localhost:8080/",
          "height": 558
        },
        "id": "zy2v6Nx-VvGy",
        "outputId": "fa690689-65fb-46f2-b60b-844208ce5ab0"
      },
      "outputs": [
        {
          "data": {
            "image/png": "[encoded data removed]",
            "text/plain": [
              "<Figure size 1440x720 with 2 Axes>"
            ]
          },
          "metadata": {},
          "output_type": "display_data"
        }
      ],
      "source": [
        "new_image = './new_dataset/PET-radiomics-challenges-kaggle/Training/1.3.6.1.4.1.14519.5.2.1.1707.8040.10059866353110167322451781.png'\n",
        "convert_and_plot(new_image)"
      ]
    },
    {
      "cell_type": "code",
      "execution_count": 19,
      "metadata": {},
      "outputs": [],
      "source": [
        "# !conda install -c conda-forge gcc=12.1.0\n"
      ]
    },
    {
      "cell_type": "code",
      "execution_count": 21,
      "metadata": {
        "id": "pYOvgdbeVvGz"
      },
      "outputs": [
        {
          "name": "stdout",
          "output_type": "stream",
          "text": [
            "SSIM: 0.9768972750923017\n"
          ]
        }
      ],
      "source": [
        "from skimage.metrics import structural_similarity as compare_ssim\n",
        "import argparse\n",
        "import imutils\n",
        "import cv2\n",
        "new_image = './new_dataset/Y-90/downscaled/0150x4.png'\n",
        "# load the two input images\n",
        "lr = np.array(Image.open(new_image).convert('RGB'))\n",
        "sr = resolve_single(model, lr)\n",
        "imageA = cv2.imread('./new_dataset/Y-90/normal/0150.png')\n",
        "imageB = np.array(sr)\n",
        "# convert the images to grayscale\n",
        "grayA = cv2.cvtColor(imageA, cv2.COLOR_RGB2GRAY)\n",
        "grayB = cv2.cvtColor(imageB, cv2.COLOR_RGB2GRAY)\n",
        "\n",
        "# compute the Structural Similarity Index (SSIM) between the two\n",
        "# images, ensuring that the difference image is returned\n",
        "(score, diff) = compare_ssim(grayA, grayB, full=True)\n",
        "diff = (diff * 255).astype(\"uint8\")\n",
        "print(\"SSIM: {}\".format(score))"
      ]
    }
  ],
  "metadata": {
    "accelerator": "GPU",
    "colab": {
      "name": "example-wdsr.ipynb",
      "provenance": []
    },
    "gpuClass": "standard",
    "interpreter": {
      "hash": "f63f6c5a1e439ec046f8b97d4e79145db6c2c86b7d748c10c29c9441a4011ee3"
    },
    "kernelspec": {
      "display_name": "Python 3.8.0 ('super-resolution')",
      "language": "python",
      "name": "python3"
    },
    "language_info": {
      "codemirror_mode": {
        "name": "ipython",
        "version": 3
      },
      "file_extension": ".py",
      "mimetype": "text/x-python",
      "name": "python",
      "nbconvert_exporter": "python",
      "pygments_lexer": "ipython3",
      "version": "3.6.13"
    },
    "vscode": {
      "interpreter": {
        "hash": "610c699f0cd8c4f129acd9140687fff6866bed0eb8e82f249fc8848b827b628c"
      }
    }
  },
  "nbformat": 4,
  "nbformat_minor": 0
}
