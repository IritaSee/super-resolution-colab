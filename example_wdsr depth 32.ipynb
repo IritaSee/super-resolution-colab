{
  "cells": [
    {
      "attachments": {},
      "cell_type": "markdown",
      "metadata": {
        "id": "LwtSCfE-VvGr"
      },
      "source": [
        "# WDSR"
      ]
    },
    {
      "cell_type": "code",
      "execution_count": null,
      "metadata": {},
      "outputs": [],
      "source": [
        "## for colab, make sure it uses python 3.8\n",
        "!sudo update-alternatives --config python3\n",
        "!sudo apt install python3-pip"
      ]
    },
    {
      "cell_type": "code",
      "execution_count": 1,
      "metadata": {
        "colab": {
          "base_uri": "https://localhost:8080/",
          "height": 1000
        },
        "id": "KFSI0pnyVvGt",
        "outputId": "27ecf32f-5c2b-4956-ea68-3a337ec2ffa5"
      },
      "outputs": [
        {
          "name": "stdout",
          "output_type": "stream",
          "text": [
            "Looking in indexes: https://pypi.org/simple, https://us-python.pkg.dev/colab-wheels/public/simple/\n",
            "Collecting tensorflow==2.3.1\n",
            "  Downloading tensorflow-2.3.1-cp37-cp37m-manylinux2010_x86_64.whl (320.4 MB)\n",
            "\u001b[K     |████████████████████████████████| 320.4 MB 24 kB/s \n",
            "\u001b[?25hCollecting tensorflow-addons==0.11.2\n",
            "  Downloading tensorflow_addons-0.11.2-cp37-cp37m-manylinux2010_x86_64.whl (1.1 MB)\n",
            "\u001b[K     |████████████████████████████████| 1.1 MB 11.3 MB/s \n",
            "\u001b[?25hRequirement already satisfied: absl-py>=0.7.0 in /usr/local/lib/python3.7/dist-packages (from tensorflow==2.3.1) (1.1.0)\n",
            "Requirement already satisfied: opt-einsum>=2.3.2 in /usr/local/lib/python3.7/dist-packages (from tensorflow==2.3.1) (3.3.0)\n",
            "Requirement already satisfied: wheel>=0.26 in /usr/local/lib/python3.7/dist-packages (from tensorflow==2.3.1) (0.37.1)\n",
            "Requirement already satisfied: termcolor>=1.1.0 in /usr/local/lib/python3.7/dist-packages (from tensorflow==2.3.1) (1.1.0)\n",
            "Collecting tensorflow-estimator<2.4.0,>=2.3.0\n",
            "  Downloading tensorflow_estimator-2.3.0-py2.py3-none-any.whl (459 kB)\n",
            "\u001b[K     |████████████████████████████████| 459 kB 72.0 MB/s \n",
            "\u001b[?25hCollecting gast==0.3.3\n",
            "  Downloading gast-0.3.3-py2.py3-none-any.whl (9.7 kB)\n",
            "Requirement already satisfied: astunparse==1.6.3 in /usr/local/lib/python3.7/dist-packages (from tensorflow==2.3.1) (1.6.3)\n",
            "Requirement already satisfied: protobuf>=3.9.2 in /usr/local/lib/python3.7/dist-packages (from tensorflow==2.3.1) (3.17.3)\n",
            "Collecting h5py<2.11.0,>=2.10.0\n",
            "  Downloading h5py-2.10.0-cp37-cp37m-manylinux1_x86_64.whl (2.9 MB)\n",
            "\u001b[K     |████████████████████████████████| 2.9 MB 51.3 MB/s \n",
            "\u001b[?25hRequirement already satisfied: six>=1.12.0 in /usr/local/lib/python3.7/dist-packages (from tensorflow==2.3.1) (1.15.0)\n",
            "Requirement already satisfied: google-pasta>=0.1.8 in /usr/local/lib/python3.7/dist-packages (from tensorflow==2.3.1) (0.2.0)\n",
            "Requirement already satisfied: grpcio>=1.8.6 in /usr/local/lib/python3.7/dist-packages (from tensorflow==2.3.1) (1.47.0)\n",
            "Requirement already satisfied: tensorboard<3,>=2.3.0 in /usr/local/lib/python3.7/dist-packages (from tensorflow==2.3.1) (2.8.0)\n",
            "Requirement already satisfied: keras-preprocessing<1.2,>=1.1.1 in /usr/local/lib/python3.7/dist-packages (from tensorflow==2.3.1) (1.1.2)\n",
            "Requirement already satisfied: wrapt>=1.11.1 in /usr/local/lib/python3.7/dist-packages (from tensorflow==2.3.1) (1.14.1)\n",
            "Collecting numpy<1.19.0,>=1.16.0\n",
            "  Downloading numpy-1.18.5-cp37-cp37m-manylinux1_x86_64.whl (20.1 MB)\n",
            "\u001b[K     |████████████████████████████████| 20.1 MB 1.2 MB/s \n",
            "\u001b[?25hRequirement already satisfied: typeguard>=2.7 in /usr/local/lib/python3.7/dist-packages (from tensorflow-addons==0.11.2) (2.7.1)\n",
            "Requirement already satisfied: tensorboard-data-server<0.7.0,>=0.6.0 in /usr/local/lib/python3.7/dist-packages (from tensorboard<3,>=2.3.0->tensorflow==2.3.1) (0.6.1)\n",
            "Requirement already satisfied: markdown>=2.6.8 in /usr/local/lib/python3.7/dist-packages (from tensorboard<3,>=2.3.0->tensorflow==2.3.1) (3.3.7)\n",
            "Requirement already satisfied: setuptools>=41.0.0 in /usr/local/lib/python3.7/dist-packages (from tensorboard<3,>=2.3.0->tensorflow==2.3.1) (57.4.0)\n",
            "Requirement already satisfied: google-auth<3,>=1.6.3 in /usr/local/lib/python3.7/dist-packages (from tensorboard<3,>=2.3.0->tensorflow==2.3.1) (1.35.0)\n",
            "Requirement already satisfied: werkzeug>=0.11.15 in /usr/local/lib/python3.7/dist-packages (from tensorboard<3,>=2.3.0->tensorflow==2.3.1) (1.0.1)\n",
            "Requirement already satisfied: requests<3,>=2.21.0 in /usr/local/lib/python3.7/dist-packages (from tensorboard<3,>=2.3.0->tensorflow==2.3.1) (2.23.0)\n",
            "Requirement already satisfied: tensorboard-plugin-wit>=1.6.0 in /usr/local/lib/python3.7/dist-packages (from tensorboard<3,>=2.3.0->tensorflow==2.3.1) (1.8.1)\n",
            "Requirement already satisfied: google-auth-oauthlib<0.5,>=0.4.1 in /usr/local/lib/python3.7/dist-packages (from tensorboard<3,>=2.3.0->tensorflow==2.3.1) (0.4.6)\n",
            "Requirement already satisfied: cachetools<5.0,>=2.0.0 in /usr/local/lib/python3.7/dist-packages (from google-auth<3,>=1.6.3->tensorboard<3,>=2.3.0->tensorflow==2.3.1) (4.2.4)\n",
            "Requirement already satisfied: rsa<5,>=3.1.4 in /usr/local/lib/python3.7/dist-packages (from google-auth<3,>=1.6.3->tensorboard<3,>=2.3.0->tensorflow==2.3.1) (4.8)\n",
            "Requirement already satisfied: pyasn1-modules>=0.2.1 in /usr/local/lib/python3.7/dist-packages (from google-auth<3,>=1.6.3->tensorboard<3,>=2.3.0->tensorflow==2.3.1) (0.2.8)\n",
            "Requirement already satisfied: requests-oauthlib>=0.7.0 in /usr/local/lib/python3.7/dist-packages (from google-auth-oauthlib<0.5,>=0.4.1->tensorboard<3,>=2.3.0->tensorflow==2.3.1) (1.3.1)\n",
            "Requirement already satisfied: importlib-metadata>=4.4 in /usr/local/lib/python3.7/dist-packages (from markdown>=2.6.8->tensorboard<3,>=2.3.0->tensorflow==2.3.1) (4.12.0)\n",
            "Requirement already satisfied: typing-extensions>=3.6.4 in /usr/local/lib/python3.7/dist-packages (from importlib-metadata>=4.4->markdown>=2.6.8->tensorboard<3,>=2.3.0->tensorflow==2.3.1) (4.1.1)\n",
            "Requirement already satisfied: zipp>=0.5 in /usr/local/lib/python3.7/dist-packages (from importlib-metadata>=4.4->markdown>=2.6.8->tensorboard<3,>=2.3.0->tensorflow==2.3.1) (3.8.0)\n",
            "Requirement already satisfied: pyasn1<0.5.0,>=0.4.6 in /usr/local/lib/python3.7/dist-packages (from pyasn1-modules>=0.2.1->google-auth<3,>=1.6.3->tensorboard<3,>=2.3.0->tensorflow==2.3.1) (0.4.8)\n",
            "Requirement already satisfied: idna<3,>=2.5 in /usr/local/lib/python3.7/dist-packages (from requests<3,>=2.21.0->tensorboard<3,>=2.3.0->tensorflow==2.3.1) (2.10)\n",
            "Requirement already satisfied: chardet<4,>=3.0.2 in /usr/local/lib/python3.7/dist-packages (from requests<3,>=2.21.0->tensorboard<3,>=2.3.0->tensorflow==2.3.1) (3.0.4)\n",
            "Requirement already satisfied: certifi>=2017.4.17 in /usr/local/lib/python3.7/dist-packages (from requests<3,>=2.21.0->tensorboard<3,>=2.3.0->tensorflow==2.3.1) (2022.6.15)\n",
            "Requirement already satisfied: urllib3!=1.25.0,!=1.25.1,<1.26,>=1.21.1 in /usr/local/lib/python3.7/dist-packages (from requests<3,>=2.21.0->tensorboard<3,>=2.3.0->tensorflow==2.3.1) (1.24.3)\n",
            "Requirement already satisfied: oauthlib>=3.0.0 in /usr/local/lib/python3.7/dist-packages (from requests-oauthlib>=0.7.0->google-auth-oauthlib<0.5,>=0.4.1->tensorboard<3,>=2.3.0->tensorflow==2.3.1) (3.2.0)\n",
            "Installing collected packages: numpy, tensorflow-estimator, h5py, gast, tensorflow-addons, tensorflow\n",
            "  Attempting uninstall: numpy\n",
            "    Found existing installation: numpy 1.21.6\n",
            "    Uninstalling numpy-1.21.6:\n",
            "      Successfully uninstalled numpy-1.21.6\n",
            "  Attempting uninstall: tensorflow-estimator\n",
            "    Found existing installation: tensorflow-estimator 2.8.0\n",
            "    Uninstalling tensorflow-estimator-2.8.0:\n",
            "      Successfully uninstalled tensorflow-estimator-2.8.0\n",
            "  Attempting uninstall: h5py\n",
            "    Found existing installation: h5py 3.1.0\n",
            "    Uninstalling h5py-3.1.0:\n",
            "      Successfully uninstalled h5py-3.1.0\n",
            "  Attempting uninstall: gast\n",
            "    Found existing installation: gast 0.5.3\n",
            "    Uninstalling gast-0.5.3:\n",
            "      Successfully uninstalled gast-0.5.3\n",
            "  Attempting uninstall: tensorflow\n",
            "    Found existing installation: tensorflow 2.8.2+zzzcolab20220629235552\n",
            "    Uninstalling tensorflow-2.8.2+zzzcolab20220629235552:\n",
            "      Successfully uninstalled tensorflow-2.8.2+zzzcolab20220629235552\n",
            "\u001b[31mERROR: pip's dependency resolver does not currently take into account all the packages that are installed. This behaviour is the source of the following dependency conflicts.\n",
            "xarray-einstats 0.2.2 requires numpy>=1.21, but you have numpy 1.18.5 which is incompatible.\n",
            "tables 3.7.0 requires numpy>=1.19.0, but you have numpy 1.18.5 which is incompatible.\n",
            "jaxlib 0.3.14+cuda11.cudnn805 requires numpy>=1.19, but you have numpy 1.18.5 which is incompatible.\n",
            "jax 0.3.14 requires numpy>=1.19, but you have numpy 1.18.5 which is incompatible.\n",
            "datascience 0.10.6 requires folium==0.2.1, but you have folium 0.8.3 which is incompatible.\n",
            "albumentations 0.1.12 requires imgaug<0.2.7,>=0.2.5, but you have imgaug 0.2.9 which is incompatible.\u001b[0m\n",
            "Successfully installed gast-0.3.3 h5py-2.10.0 numpy-1.18.5 tensorflow-2.3.1 tensorflow-addons-0.11.2 tensorflow-estimator-2.3.0\n"
          ]
        },
        {
          "data": {
            "application/vnd.colab-display-data+json": {
              "pip_warning": {
                "packages": [
                  "numpy"
                ]
              }
            }
          },
          "metadata": {},
          "output_type": "display_data"
        }
      ],
      "source": [
        "#COLAB environment setup:\n",
        "!pip install tensorflow-gpu==2.3.1 tensorflow-addons==0.11.2 ## replace to !pip install tensorflow for CPU"
      ]
    },
    {
      "cell_type": "code",
      "execution_count": 2,
      "metadata": {
        "colab": {
          "base_uri": "https://localhost:8080/"
        },
        "id": "__6lirCVVvGt",
        "outputId": "8d90b029-0387-4772-aa1f-18f9995e1db3"
      },
      "outputs": [
        {
          "name": "stdout",
          "output_type": "stream",
          "text": [
            "Cloning into 'super-resolution'...\n",
            "remote: Enumerating objects: 408, done.\u001b[K\n",
            "remote: Counting objects: 100% (3/3), done.\u001b[K\n",
            "remote: Compressing objects: 100% (2/2), done.\u001b[K\n",
            "remote: Total 408 (delta 0), reused 2 (delta 0), pack-reused 405\u001b[K\n",
            "Receiving objects: 100% (408/408), 48.16 MiB | 40.52 MiB/s, done.\n",
            "Resolving deltas: 100% (214/214), done.\n"
          ]
        }
      ],
      "source": [
        "!git clone https://github.com/IritaSee/super-resolution-colab.git"
      ]
    },
    {
      "cell_type": "code",
      "execution_count": 3,
      "metadata": {
        "colab": {
          "base_uri": "https://localhost:8080/"
        },
        "id": "HS3lK49GVvGu",
        "outputId": "19d038ae-bcea-40be-a899-4b3df2bf523d"
      },
      "outputs": [
        {
          "name": "stdout",
          "output_type": "stream",
          "text": [
            "/content/super-resolution\n"
          ]
        }
      ],
      "source": [
        "%cd super-resolution"
      ]
    },
    {
      "cell_type": "code",
      "execution_count": 4,
      "metadata": {
        "colab": {
          "base_uri": "https://localhost:8080/"
        },
        "id": "izMuZBROVvGu",
        "outputId": "2ce523d9-b0fd-4c53-f8b8-a0d4f9a65dbd"
      },
      "outputs": [
        {
          "name": "stdout",
          "output_type": "stream",
          "text": [
            " article.ipynb\t\t       LICENSE\n",
            " data_engineering.ipynb        model\n",
            " data.py\t\t       new_dataset\n",
            " dataset.md\t\t       __pycache__\n",
            " demo\t\t\t       README.md\n",
            " docs\t\t\t       train.py\n",
            " environment.yml\t       utils.py\n",
            " example_edsr.ipynb\t       weights\n",
            " example_srgan.ipynb\t       weights-wdsr-b-32-x4.tar.gz\n",
            "'example_wdsr depth 8.ipynb'   weights-wdsr-b-32-x4.tar.gz.1\n",
            " example_wdsr.ipynb\n"
          ]
        }
      ],
      "source": [
        "!ls"
      ]
    },
    {
      "cell_type": "code",
      "execution_count": 5,
      "metadata": {
        "id": "eYOV_NZTVvGu"
      },
      "outputs": [],
      "source": [
        "import os\n",
        "import matplotlib.pyplot as plt\n",
        "\n",
        "from data import DIV2K\n",
        "from model.wdsr import wdsr_b\n",
        "from train import WdsrTrainer\n",
        "\n",
        "%matplotlib inline"
      ]
    },
    {
      "cell_type": "code",
      "execution_count": 6,
      "metadata": {
        "id": "H3SNNDklVvGu"
      },
      "outputs": [],
      "source": [
        "# Number of residual blocks\n",
        "depth = 32\n",
        "# depth = 16\n",
        "# depth = 64\n",
        "\n",
        "# Super-resolution factor\n",
        "scale = 4 #ini jangan di ganti, ngaruh ke dataset\n",
        "\n",
        "# Downgrade operator\n",
        "downgrade = 'bicubic'"
      ]
    },
    {
      "cell_type": "code",
      "execution_count": 7,
      "metadata": {
        "id": "36Q3IBy_VvGu"
      },
      "outputs": [],
      "source": [
        "# Location of model weights (needed for demo)\n",
        "weights_dir = f'weights/wdsr-b-{depth}-x{scale}'\n",
        "weights_file = os.path.join(weights_dir, 'weights_32_as_depth.h5')\n",
        "\n",
        "os.makedirs(weights_dir, exist_ok=True)"
      ]
    },
    {
      "attachments": {},
      "cell_type": "markdown",
      "metadata": {
        "id": "dBqgGosZVvGu"
      },
      "source": [
        "## Datasets\n",
        "\n",
        "You don't need to download the DIV2K dataset as the required parts are automatically downloaded by the `DIV2K` class. By default, DIV2K images are stored in folder `.div2k` in the project's root directory."
      ]
    },
    {
      "cell_type": "code",
      "execution_count": 8,
      "metadata": {
        "colab": {
          "base_uri": "https://localhost:8080/"
        },
        "id": "eZeJpACsVvGv",
        "outputId": "ab2dfea9-e403-43a3-f890-dc940da08954"
      },
      "outputs": [
        {
          "name": "stdout",
          "output_type": "stream",
          "text": [
            "Mounted at /content/drive\n"
          ]
        }
      ],
      "source": [
        "# from google.colab import drive\n",
        "# drive.mount('/content/drive')"
      ]
    },
    {
      "cell_type": "code",
      "execution_count": 8,
      "metadata": {
        "id": "-2Bwk_EnVvGv"
      },
      "outputs": [],
      "source": [
        "div2k_train = DIV2K(scale=scale, subset='train', downgrade=downgrade)\n",
        "div2k_valid = DIV2K(scale=scale, subset='valid', downgrade=downgrade)"
      ]
    },
    {
      "cell_type": "code",
      "execution_count": 9,
      "metadata": {
        "id": "qO_GFAq5VvGv"
      },
      "outputs": [],
      "source": [
        "train_ds = div2k_train.dataset(batch_size=16, random_transform=True)\n",
        "valid_ds = div2k_valid.dataset(batch_size=1, random_transform=False, repeat_count=1)"
      ]
    },
    {
      "attachments": {},
      "cell_type": "markdown",
      "metadata": {
        "id": "LW5aTX5vVvGv"
      },
      "source": [
        "## Training\n",
        "\n",
        "### Pre-trained models\n",
        "\n",
        "If you want to skip training and directly run the demo below, download [weights-wdsr-b-32-x4.tar.gz](https://martin-krasser.de/sisr/weights-wdsr-b-32-x4.tar.gz) and extract the archive in the project's root directory. This will create a `weights/wdsr-b-32-x4` directory containing the weights of the pre-trained model."
      ]
    },
    {
      "cell_type": "code",
      "execution_count": 7,
      "metadata": {
        "colab": {
          "base_uri": "https://localhost:8080/"
        },
        "id": "WoDa5DRbVvGv",
        "outputId": "b5598af4-630d-403c-9823-e4d43c96ed78"
      },
      "outputs": [
        {
          "name": "stdout",
          "output_type": "stream",
          "text": [
            "--2023-06-21 21:57:35--  https://martin-krasser.de/sisr/weights-wdsr-b-32-x4.tar.gz\n",
            "Resolving martin-krasser.de (martin-krasser.de)... 217.160.0.142, 2001:8d8:100f:f000::209\n",
            "Connecting to martin-krasser.de (martin-krasser.de)|217.160.0.142|:443... connected.\n",
            "HTTP request sent, awaiting response... 200 OK\n",
            "Length: 2328140 (2.2M) [application/gzip]\n",
            "Saving to: ‘weights-wdsr-b-32-x4.tar.gz.1’\n",
            "\n",
            "weights-wdsr-b-32-x 100%[===================>]   2.22M  1.13MB/s    in 2.0s    \n",
            "\n",
            "2023-06-21 21:57:39 (1.13 MB/s) - ‘weights-wdsr-b-32-x4.tar.gz.1’ saved [2328140/2328140]\n",
            "\n"
          ]
        }
      ],
      "source": [
        "!wget https://martin-krasser.de/sisr/weights-wdsr-b-32-x4.tar.gz"
      ]
    },
    {
      "cell_type": "code",
      "execution_count": 8,
      "metadata": {
        "id": "SQ6DAUh0VvGw"
      },
      "outputs": [],
      "source": [
        "! tar -xf weights-wdsr-b-32-x4.tar.gz"
      ]
    },
    {
      "cell_type": "code",
      "execution_count": 10,
      "metadata": {
        "id": "5so1sfCsVvGw"
      },
      "outputs": [],
      "source": [
        "trainer = WdsrTrainer(model=wdsr_b(scale=scale, num_res_blocks=depth), \n",
        "                      checkpoint_dir=f'.ckpt/wdsr-b-{depth}-x{scale}')"
      ]
    },
    {
      "cell_type": "code",
      "execution_count": 11,
      "metadata": {
        "id": "z4qifY3HVvGw",
        "scrolled": true
      },
      "outputs": [
        {
          "name": "stdout",
          "output_type": "stream",
          "text": [
            "1000/300000: loss = 8.194, PSNR = 33.510025 (282.90s)\n",
            "2000/300000: loss = 3.132, PSNR = 36.176449 (260.98s)\n",
            "3000/300000: loss = 2.593, PSNR = 37.771111 (261.26s)\n",
            "4000/300000: loss = 2.309, PSNR = 38.459217 (261.25s)\n",
            "5000/300000: loss = 2.134, PSNR = 38.740570 (260.93s)\n",
            "6000/300000: loss = 2.033, PSNR = 39.290337 (261.14s)\n",
            "7000/300000: loss = 1.961, PSNR = 39.315289 (261.50s)\n",
            "8000/300000: loss = 1.888, PSNR = 39.712772 (261.08s)\n",
            "9000/300000: loss = 1.807, PSNR = 39.665672 (261.18s)\n",
            "10000/300000: loss = 1.773, PSNR = 40.167809 (260.68s)\n",
            "11000/300000: loss = 1.713, PSNR = 40.153736 (261.51s)\n",
            "12000/300000: loss = 1.677, PSNR = 40.299046 (261.13s)\n",
            "13000/300000: loss = 1.644, PSNR = 40.648956 (260.74s)\n",
            "14000/300000: loss = 1.624, PSNR = 40.556110 (261.15s)\n",
            "15000/300000: loss = 1.584, PSNR = 40.479156 (260.90s)\n",
            "16000/300000: loss = 1.574, PSNR = 40.761951 (260.63s)\n",
            "17000/300000: loss = 1.545, PSNR = 40.792339 (260.86s)\n",
            "18000/300000: loss = 1.535, PSNR = 41.043602 (260.67s)\n",
            "19000/300000: loss = 1.525, PSNR = 41.134754 (260.35s)\n",
            "20000/300000: loss = 1.518, PSNR = 41.083961 (260.39s)\n",
            "21000/300000: loss = 1.502, PSNR = 41.202354 (260.08s)\n",
            "22000/300000: loss = 1.482, PSNR = 41.028271 (260.35s)\n",
            "23000/300000: loss = 1.483, PSNR = 41.131081 (260.33s)\n",
            "24000/300000: loss = 1.463, PSNR = 41.359993 (260.28s)\n",
            "25000/300000: loss = 1.463, PSNR = 41.339752 (260.27s)\n",
            "26000/300000: loss = 1.454, PSNR = 41.405861 (260.37s)\n",
            "27000/300000: loss = 1.442, PSNR = 41.199841 (260.43s)\n",
            "28000/300000: loss = 1.436, PSNR = 41.036205 (259.78s)\n",
            "29000/300000: loss = 1.433, PSNR = 41.594109 (259.78s)\n",
            "30000/300000: loss = 1.422, PSNR = 41.550159 (260.40s)\n",
            "31000/300000: loss = 1.408, PSNR = 41.523983 (260.21s)\n",
            "32000/300000: loss = 1.417, PSNR = 41.590363 (260.01s)\n",
            "33000/300000: loss = 1.400, PSNR = 41.603882 (259.90s)\n",
            "34000/300000: loss = 1.400, PSNR = 41.604874 (259.79s)\n",
            "35000/300000: loss = 1.386, PSNR = 41.549480 (260.50s)\n",
            "36000/300000: loss = 1.412, PSNR = 41.455025 (259.85s)\n",
            "37000/300000: loss = 1.394, PSNR = 41.300987 (259.90s)\n",
            "38000/300000: loss = 1.396, PSNR = 41.626293 (260.03s)\n",
            "39000/300000: loss = 1.378, PSNR = 41.640408 (260.00s)\n",
            "40000/300000: loss = 1.384, PSNR = 41.631409 (259.87s)\n",
            "41000/300000: loss = 1.376, PSNR = 41.633091 (260.08s)\n",
            "42000/300000: loss = 1.371, PSNR = 41.686222 (260.00s)\n",
            "43000/300000: loss = 1.369, PSNR = 41.638596 (260.22s)\n",
            "44000/300000: loss = 1.369, PSNR = 41.655426 (260.10s)\n",
            "45000/300000: loss = 1.376, PSNR = 41.713226 (260.19s)\n",
            "46000/300000: loss = 1.369, PSNR = 41.680744 (259.95s)\n",
            "47000/300000: loss = 1.373, PSNR = 41.711067 (259.95s)\n",
            "48000/300000: loss = 1.351, PSNR = 41.678406 (259.97s)\n",
            "49000/300000: loss = 1.351, PSNR = 41.730637 (260.14s)\n",
            "50000/300000: loss = 1.353, PSNR = 41.586945 (259.75s)\n",
            "51000/300000: loss = 1.337, PSNR = 41.697090 (260.42s)\n",
            "52000/300000: loss = 1.359, PSNR = 41.807159 (260.14s)\n",
            "53000/300000: loss = 1.348, PSNR = 41.747261 (259.90s)\n",
            "54000/300000: loss = 1.340, PSNR = 41.623322 (260.19s)\n",
            "55000/300000: loss = 1.344, PSNR = 41.730568 (260.08s)\n",
            "56000/300000: loss = 1.345, PSNR = 41.770744 (259.82s)\n",
            "57000/300000: loss = 1.339, PSNR = 41.706898 (260.03s)\n",
            "58000/300000: loss = 1.338, PSNR = 41.852913 (259.96s)\n",
            "59000/300000: loss = 1.323, PSNR = 41.823311 (259.99s)\n",
            "60000/300000: loss = 1.335, PSNR = 41.825481 (260.38s)\n",
            "61000/300000: loss = 1.330, PSNR = 41.790909 (260.22s)\n",
            "62000/300000: loss = 1.338, PSNR = 41.816547 (260.14s)\n",
            "63000/300000: loss = 1.329, PSNR = 41.809551 (260.33s)\n",
            "64000/300000: loss = 1.336, PSNR = 41.697166 (260.19s)\n",
            "65000/300000: loss = 1.329, PSNR = 41.830303 (260.06s)\n",
            "66000/300000: loss = 1.320, PSNR = 41.730145 (259.94s)\n",
            "67000/300000: loss = 1.319, PSNR = 41.805523 (260.36s)\n",
            "68000/300000: loss = 1.329, PSNR = 41.808380 (260.41s)\n",
            "69000/300000: loss = 1.321, PSNR = 41.811394 (259.81s)\n",
            "70000/300000: loss = 1.315, PSNR = 41.799679 (260.27s)\n",
            "71000/300000: loss = 1.314, PSNR = 41.814209 (260.09s)\n",
            "72000/300000: loss = 1.313, PSNR = 41.832413 (260.07s)\n",
            "73000/300000: loss = 1.316, PSNR = 41.805805 (260.24s)\n",
            "74000/300000: loss = 1.301, PSNR = 41.837837 (259.92s)\n",
            "75000/300000: loss = 1.303, PSNR = 41.852921 (260.35s)\n",
            "76000/300000: loss = 1.309, PSNR = 41.806183 (259.84s)\n",
            "77000/300000: loss = 1.299, PSNR = 41.812679 (259.60s)\n",
            "78000/300000: loss = 1.302, PSNR = 41.762852 (259.56s)\n",
            "79000/300000: loss = 1.299, PSNR = 41.833340 (259.84s)\n",
            "80000/300000: loss = 1.307, PSNR = 41.754303 (259.69s)\n",
            "81000/300000: loss = 1.306, PSNR = 41.823769 (259.88s)\n",
            "82000/300000: loss = 1.301, PSNR = 41.801788 (259.46s)\n",
            "83000/300000: loss = 1.301, PSNR = 41.909931 (260.11s)\n",
            "84000/300000: loss = 1.299, PSNR = 41.835732 (260.50s)\n",
            "85000/300000: loss = 1.299, PSNR = 41.784260 (260.19s)\n",
            "86000/300000: loss = 1.295, PSNR = 41.848591 (260.25s)\n",
            "87000/300000: loss = 1.302, PSNR = 41.899052 (260.11s)\n",
            "88000/300000: loss = 1.293, PSNR = 41.828724 (260.18s)\n",
            "89000/300000: loss = 1.295, PSNR = 41.797302 (260.08s)\n",
            "90000/300000: loss = 1.297, PSNR = 41.753807 (260.08s)\n",
            "91000/300000: loss = 1.301, PSNR = 41.799400 (260.27s)\n",
            "92000/300000: loss = 1.297, PSNR = 41.845070 (260.29s)\n",
            "93000/300000: loss = 1.297, PSNR = 41.823494 (260.06s)\n",
            "94000/300000: loss = 1.296, PSNR = 41.851631 (260.44s)\n",
            "95000/300000: loss = 1.297, PSNR = 41.802959 (260.26s)\n",
            "96000/300000: loss = 1.287, PSNR = 41.868362 (260.34s)\n",
            "97000/300000: loss = 1.291, PSNR = 41.852261 (260.31s)\n",
            "98000/300000: loss = 1.289, PSNR = 41.871758 (260.03s)\n",
            "99000/300000: loss = 1.300, PSNR = 41.863873 (260.50s)\n",
            "100000/300000: loss = 1.287, PSNR = 41.887436 (260.37s)\n",
            "101000/300000: loss = 1.289, PSNR = 41.790855 (260.21s)\n",
            "102000/300000: loss = 1.278, PSNR = 41.856758 (260.23s)\n",
            "103000/300000: loss = 1.283, PSNR = 41.766869 (260.09s)\n",
            "104000/300000: loss = 1.283, PSNR = 41.793949 (260.40s)\n",
            "105000/300000: loss = 1.282, PSNR = 41.867546 (260.33s)\n",
            "106000/300000: loss = 1.282, PSNR = 41.907887 (259.76s)\n",
            "107000/300000: loss = 1.294, PSNR = 41.823936 (260.19s)\n",
            "108000/300000: loss = 1.279, PSNR = 41.828590 (260.36s)\n",
            "109000/300000: loss = 1.282, PSNR = 41.849617 (260.00s)\n",
            "110000/300000: loss = 1.286, PSNR = 41.874115 (260.19s)\n",
            "111000/300000: loss = 1.286, PSNR = 41.832977 (260.24s)\n",
            "112000/300000: loss = 1.272, PSNR = 41.839500 (260.43s)\n",
            "113000/300000: loss = 1.280, PSNR = 41.875828 (260.25s)\n",
            "114000/300000: loss = 1.266, PSNR = 41.833336 (260.09s)\n",
            "115000/300000: loss = 1.283, PSNR = 41.851650 (260.20s)\n",
            "116000/300000: loss = 1.274, PSNR = 41.877583 (260.33s)\n",
            "117000/300000: loss = 1.274, PSNR = 41.858910 (260.18s)\n",
            "118000/300000: loss = 1.273, PSNR = 41.808907 (260.30s)\n",
            "119000/300000: loss = 1.268, PSNR = 41.916985 (260.15s)\n",
            "120000/300000: loss = 1.269, PSNR = 41.761143 (260.55s)\n",
            "121000/300000: loss = 1.265, PSNR = 41.854546 (260.33s)\n",
            "122000/300000: loss = 1.279, PSNR = 41.878632 (259.94s)\n",
            "123000/300000: loss = 1.272, PSNR = 41.885979 (260.25s)\n",
            "124000/300000: loss = 1.275, PSNR = 41.733818 (260.38s)\n",
            "125000/300000: loss = 1.273, PSNR = 41.827293 (261.13s)\n",
            "126000/300000: loss = 1.267, PSNR = 41.833038 (260.55s)\n",
            "127000/300000: loss = 1.269, PSNR = 41.815197 (260.29s)\n",
            "128000/300000: loss = 1.263, PSNR = 41.870625 (260.30s)\n",
            "129000/300000: loss = 1.261, PSNR = 41.838356 (260.39s)\n",
            "130000/300000: loss = 1.271, PSNR = 41.918282 (259.90s)\n",
            "131000/300000: loss = 1.260, PSNR = 41.816570 (260.32s)\n",
            "132000/300000: loss = 1.268, PSNR = 41.777534 (260.21s)\n",
            "133000/300000: loss = 1.266, PSNR = 41.804653 (260.33s)\n",
            "134000/300000: loss = 1.267, PSNR = 41.834705 (260.06s)\n",
            "135000/300000: loss = 1.261, PSNR = 41.854774 (260.09s)\n",
            "136000/300000: loss = 1.275, PSNR = 41.816811 (260.46s)\n",
            "137000/300000: loss = 1.268, PSNR = 41.875961 (260.35s)\n",
            "138000/300000: loss = 1.264, PSNR = 41.890369 (260.04s)\n",
            "139000/300000: loss = 1.272, PSNR = 41.798943 (260.44s)\n",
            "140000/300000: loss = 1.264, PSNR = 41.860828 (260.43s)\n",
            "141000/300000: loss = 1.260, PSNR = 41.846107 (260.19s)\n",
            "142000/300000: loss = 1.261, PSNR = 41.834740 (260.40s)\n",
            "143000/300000: loss = 1.262, PSNR = 41.841255 (260.25s)\n",
            "144000/300000: loss = 1.260, PSNR = 41.886566 (260.36s)\n",
            "145000/300000: loss = 1.258, PSNR = 41.826763 (262.42s)\n",
            "146000/300000: loss = 1.268, PSNR = 41.901592 (260.15s)\n",
            "147000/300000: loss = 1.254, PSNR = 41.925362 (260.20s)\n",
            "148000/300000: loss = 1.256, PSNR = 41.820343 (260.52s)\n",
            "149000/300000: loss = 1.268, PSNR = 41.920277 (260.16s)\n",
            "150000/300000: loss = 1.255, PSNR = 41.885021 (260.11s)\n",
            "151000/300000: loss = 1.251, PSNR = 41.808922 (260.17s)\n",
            "152000/300000: loss = 1.266, PSNR = 41.865715 (260.47s)\n",
            "153000/300000: loss = 1.255, PSNR = 41.799675 (260.32s)\n",
            "154000/300000: loss = 1.248, PSNR = 41.840065 (259.98s)\n",
            "155000/300000: loss = 1.266, PSNR = 41.910175 (260.43s)\n",
            "156000/300000: loss = 1.249, PSNR = 41.865025 (260.37s)\n",
            "157000/300000: loss = 1.254, PSNR = 41.878811 (260.06s)\n",
            "158000/300000: loss = 1.256, PSNR = 41.883007 (260.34s)\n",
            "159000/300000: loss = 1.253, PSNR = 41.906654 (260.30s)\n",
            "160000/300000: loss = 1.255, PSNR = 41.868702 (260.30s)\n",
            "161000/300000: loss = 1.255, PSNR = 41.887569 (260.56s)\n",
            "162000/300000: loss = 1.252, PSNR = 41.862587 (260.04s)\n",
            "163000/300000: loss = 1.254, PSNR = 41.817440 (260.41s)\n",
            "164000/300000: loss = 1.255, PSNR = 41.865368 (260.39s)\n",
            "165000/300000: loss = 1.256, PSNR = 41.890972 (259.99s)\n",
            "166000/300000: loss = 1.249, PSNR = 41.888500 (260.19s)\n",
            "167000/300000: loss = 1.249, PSNR = 41.852646 (260.23s)\n",
            "168000/300000: loss = 1.251, PSNR = 41.861633 (260.30s)\n",
            "169000/300000: loss = 1.248, PSNR = 41.902424 (260.30s)\n",
            "170000/300000: loss = 1.245, PSNR = 41.841167 (259.79s)\n",
            "171000/300000: loss = 1.255, PSNR = 41.811317 (260.27s)\n",
            "172000/300000: loss = 1.248, PSNR = 41.895458 (260.59s)\n",
            "173000/300000: loss = 1.247, PSNR = 41.836422 (260.13s)\n",
            "174000/300000: loss = 1.250, PSNR = 41.873436 (260.22s)\n",
            "175000/300000: loss = 1.244, PSNR = 41.831169 (260.24s)\n",
            "176000/300000: loss = 1.251, PSNR = 41.866405 (260.46s)\n",
            "177000/300000: loss = 1.242, PSNR = 41.857857 (260.32s)\n",
            "178000/300000: loss = 1.256, PSNR = 41.944038 (260.07s)\n",
            "179000/300000: loss = 1.250, PSNR = 41.866768 (260.42s)\n",
            "180000/300000: loss = 1.241, PSNR = 41.873451 (260.44s)\n",
            "181000/300000: loss = 1.248, PSNR = 41.853790 (259.88s)\n",
            "182000/300000: loss = 1.245, PSNR = 41.869160 (260.35s)\n",
            "183000/300000: loss = 1.245, PSNR = 41.911690 (260.40s)\n",
            "184000/300000: loss = 1.239, PSNR = 41.872467 (260.38s)\n",
            "185000/300000: loss = 1.245, PSNR = 41.890553 (260.40s)\n",
            "186000/300000: loss = 1.249, PSNR = 41.828709 (260.17s)\n",
            "187000/300000: loss = 1.255, PSNR = 41.908207 (260.18s)\n",
            "188000/300000: loss = 1.238, PSNR = 41.841103 (260.10s)\n",
            "189000/300000: loss = 1.241, PSNR = 41.848553 (260.02s)\n",
            "190000/300000: loss = 1.252, PSNR = 41.864185 (260.49s)\n",
            "191000/300000: loss = 1.240, PSNR = 41.841789 (260.36s)\n",
            "192000/300000: loss = 1.245, PSNR = 41.862225 (260.53s)\n",
            "193000/300000: loss = 1.248, PSNR = 41.912933 (260.52s)\n",
            "194000/300000: loss = 1.248, PSNR = 41.832508 (259.96s)\n",
            "195000/300000: loss = 1.243, PSNR = 41.840797 (260.64s)\n",
            "196000/300000: loss = 1.248, PSNR = 41.814049 (260.47s)\n",
            "197000/300000: loss = 1.237, PSNR = 41.846844 (260.23s)\n",
            "198000/300000: loss = 1.234, PSNR = 41.838005 (260.78s)\n",
            "199000/300000: loss = 1.233, PSNR = 41.781677 (260.30s)\n",
            "200000/300000: loss = 1.239, PSNR = 41.906265 (260.32s)\n",
            "201000/300000: loss = 1.209, PSNR = 41.915977 (260.29s)\n",
            "202000/300000: loss = 1.218, PSNR = 41.906780 (259.82s)\n",
            "203000/300000: loss = 1.205, PSNR = 41.905594 (260.47s)\n",
            "204000/300000: loss = 1.215, PSNR = 41.906715 (260.67s)\n",
            "205000/300000: loss = 1.201, PSNR = 41.948174 (260.26s)\n",
            "206000/300000: loss = 1.211, PSNR = 41.893848 (260.48s)\n",
            "207000/300000: loss = 1.202, PSNR = 41.871235 (260.21s)\n",
            "208000/300000: loss = 1.206, PSNR = 41.886532 (260.59s)\n",
            "209000/300000: loss = 1.212, PSNR = 41.900696 (260.49s)\n",
            "210000/300000: loss = 1.202, PSNR = 41.924435 (260.07s)\n",
            "211000/300000: loss = 1.208, PSNR = 41.872608 (260.61s)\n",
            "212000/300000: loss = 1.207, PSNR = 41.899975 (260.45s)\n",
            "213000/300000: loss = 1.213, PSNR = 41.903271 (260.39s)\n",
            "214000/300000: loss = 1.208, PSNR = 41.903858 (260.59s)\n",
            "215000/300000: loss = 1.204, PSNR = 41.889935 (260.28s)\n",
            "216000/300000: loss = 1.195, PSNR = 41.910656 (260.47s)\n",
            "217000/300000: loss = 1.203, PSNR = 41.873997 (260.57s)\n",
            "218000/300000: loss = 1.205, PSNR = 41.931572 (259.96s)\n",
            "219000/300000: loss = 1.199, PSNR = 41.925709 (260.52s)\n",
            "220000/300000: loss = 1.207, PSNR = 41.882008 (260.53s)\n",
            "221000/300000: loss = 1.205, PSNR = 41.855518 (260.24s)\n",
            "222000/300000: loss = 1.200, PSNR = 41.876617 (260.47s)\n",
            "223000/300000: loss = 1.206, PSNR = 41.956696 (260.52s)\n",
            "224000/300000: loss = 1.201, PSNR = 41.905647 (260.62s)\n",
            "225000/300000: loss = 1.202, PSNR = 41.862820 (260.56s)\n",
            "226000/300000: loss = 1.211, PSNR = 41.887318 (260.34s)\n",
            "227000/300000: loss = 1.202, PSNR = 41.899529 (260.52s)\n",
            "228000/300000: loss = 1.201, PSNR = 41.914711 (260.52s)\n",
            "229000/300000: loss = 1.195, PSNR = 41.910240 (260.35s)\n",
            "230000/300000: loss = 1.197, PSNR = 41.906029 (260.47s)\n",
            "231000/300000: loss = 1.206, PSNR = 41.888031 (260.97s)\n",
            "232000/300000: loss = 1.203, PSNR = 41.943810 (260.71s)\n",
            "233000/300000: loss = 1.200, PSNR = 41.897926 (262.13s)\n",
            "234000/300000: loss = 1.194, PSNR = 41.886696 (261.46s)\n",
            "235000/300000: loss = 1.209, PSNR = 41.870869 (261.38s)\n",
            "236000/300000: loss = 1.200, PSNR = 41.892616 (261.47s)\n",
            "237000/300000: loss = 1.205, PSNR = 41.887558 (263.07s)\n",
            "238000/300000: loss = 1.205, PSNR = 41.873070 (260.99s)\n",
            "239000/300000: loss = 1.200, PSNR = 41.929451 (261.62s)\n",
            "240000/300000: loss = 1.187, PSNR = 41.921101 (260.87s)\n",
            "241000/300000: loss = 1.198, PSNR = 41.921608 (261.04s)\n",
            "242000/300000: loss = 1.200, PSNR = 41.876598 (261.44s)\n",
            "243000/300000: loss = 1.200, PSNR = 41.884140 (260.83s)\n",
            "244000/300000: loss = 1.205, PSNR = 41.897041 (260.88s)\n",
            "245000/300000: loss = 1.202, PSNR = 41.904804 (262.69s)\n",
            "246000/300000: loss = 1.202, PSNR = 41.900326 (261.19s)\n",
            "247000/300000: loss = 1.209, PSNR = 41.845100 (262.30s)\n",
            "248000/300000: loss = 1.189, PSNR = 41.890072 (261.19s)\n",
            "249000/300000: loss = 1.199, PSNR = 41.884624 (260.86s)\n",
            "250000/300000: loss = 1.203, PSNR = 41.901775 (263.05s)\n",
            "251000/300000: loss = 1.207, PSNR = 41.873627 (261.55s)\n",
            "252000/300000: loss = 1.195, PSNR = 41.845776 (262.50s)\n",
            "253000/300000: loss = 1.209, PSNR = 41.863247 (261.21s)\n",
            "254000/300000: loss = 1.205, PSNR = 41.887875 (260.76s)\n",
            "255000/300000: loss = 1.200, PSNR = 41.878033 (261.26s)\n",
            "256000/300000: loss = 1.196, PSNR = 41.889870 (260.93s)\n",
            "257000/300000: loss = 1.198, PSNR = 41.848049 (261.05s)\n",
            "258000/300000: loss = 1.201, PSNR = 41.884991 (261.50s)\n",
            "259000/300000: loss = 1.193, PSNR = 41.877445 (261.09s)\n",
            "260000/300000: loss = 1.199, PSNR = 41.881111 (260.91s)\n",
            "261000/300000: loss = 1.194, PSNR = 41.846077 (261.25s)\n",
            "262000/300000: loss = 1.200, PSNR = 41.906380 (260.90s)\n",
            "263000/300000: loss = 1.193, PSNR = 41.888901 (260.85s)\n",
            "264000/300000: loss = 1.201, PSNR = 41.868507 (260.62s)\n",
            "265000/300000: loss = 1.199, PSNR = 41.855003 (260.49s)\n",
            "266000/300000: loss = 1.200, PSNR = 41.843323 (260.65s)\n",
            "267000/300000: loss = 1.194, PSNR = 41.882217 (260.52s)\n",
            "268000/300000: loss = 1.202, PSNR = 41.839546 (260.92s)\n",
            "269000/300000: loss = 1.197, PSNR = 41.850777 (261.11s)\n",
            "270000/300000: loss = 1.207, PSNR = 41.844715 (261.04s)\n",
            "271000/300000: loss = 1.193, PSNR = 41.847439 (261.04s)\n",
            "272000/300000: loss = 1.204, PSNR = 41.867271 (260.74s)\n",
            "273000/300000: loss = 1.206, PSNR = 41.846661 (260.98s)\n",
            "274000/300000: loss = 1.205, PSNR = 41.901073 (261.25s)\n",
            "275000/300000: loss = 1.195, PSNR = 41.858040 (260.80s)\n",
            "276000/300000: loss = 1.198, PSNR = 41.839836 (261.05s)\n",
            "277000/300000: loss = 1.193, PSNR = 41.885181 (261.26s)\n",
            "278000/300000: loss = 1.197, PSNR = 41.854397 (260.82s)\n",
            "279000/300000: loss = 1.195, PSNR = 41.847618 (261.30s)\n",
            "280000/300000: loss = 1.203, PSNR = 41.857765 (261.13s)\n",
            "281000/300000: loss = 1.198, PSNR = 41.838406 (260.71s)\n",
            "282000/300000: loss = 1.195, PSNR = 41.830421 (261.40s)\n",
            "283000/300000: loss = 1.197, PSNR = 41.869255 (260.72s)\n",
            "284000/300000: loss = 1.197, PSNR = 41.900806 (260.91s)\n",
            "285000/300000: loss = 1.189, PSNR = 41.884777 (261.35s)\n",
            "286000/300000: loss = 1.197, PSNR = 41.841099 (260.93s)\n",
            "287000/300000: loss = 1.192, PSNR = 41.850143 (260.96s)\n",
            "288000/300000: loss = 1.183, PSNR = 41.889923 (261.27s)\n",
            "289000/300000: loss = 1.197, PSNR = 41.874138 (260.95s)\n",
            "290000/300000: loss = 1.202, PSNR = 41.869400 (261.95s)\n",
            "291000/300000: loss = 1.192, PSNR = 41.918316 (261.02s)\n",
            "292000/300000: loss = 1.195, PSNR = 41.867264 (260.76s)\n",
            "293000/300000: loss = 1.195, PSNR = 41.881664 (261.18s)\n",
            "294000/300000: loss = 1.193, PSNR = 41.861259 (260.77s)\n",
            "295000/300000: loss = 1.199, PSNR = 41.908684 (260.95s)\n",
            "296000/300000: loss = 1.197, PSNR = 41.856087 (260.96s)\n",
            "297000/300000: loss = 1.194, PSNR = 41.796448 (260.57s)\n",
            "298000/300000: loss = 1.197, PSNR = 41.811760 (261.38s)\n",
            "299000/300000: loss = 1.195, PSNR = 41.900158 (260.96s)\n",
            "300000/300000: loss = 1.199, PSNR = 41.847321 (260.82s)\n"
          ]
        }
      ],
      "source": [
        "# Train WDSR B model for 300,000 steps and evaluate model\n",
        "# every 1000 steps on the first 10 images of the DIV2K\n",
        "# validation set. Save a checkpoint only if evaluation\n",
        "# PSNR has improved.\n",
        "# uncomment code below to train!\n",
        "trainer.train(train_ds,\n",
        "              valid_ds.take(10),\n",
        "              steps=300000, \n",
        "              evaluate_every=1000, \n",
        "              save_best_only=True)"
      ]
    },
    {
      "cell_type": "code",
      "execution_count": 12,
      "metadata": {
        "id": "COlp9NbtVvGw"
      },
      "outputs": [
        {
          "name": "stdout",
          "output_type": "stream",
          "text": [
            "Model restored from checkpoint at step 223000.\n"
          ]
        }
      ],
      "source": [
        "# Restore from checkpoint with highest PSNR\n",
        "trainer.restore()"
      ]
    },
    {
      "cell_type": "code",
      "execution_count": 13,
      "metadata": {
        "id": "n4E2Qt_tVvGw"
      },
      "outputs": [],
      "source": [
        "# Save weights to separate location (needed for demo)\n",
        "trainer.model.save_weights(weights_file)"
      ]
    },
    {
      "attachments": {},
      "cell_type": "markdown",
      "metadata": {
        "id": "yjYWjmedVvGx"
      },
      "source": [
        "## Evaluation (PSNR Score)"
      ]
    },
    {
      "cell_type": "code",
      "execution_count": 14,
      "metadata": {
        "id": "KXHoZJnOVvGx"
      },
      "outputs": [
        {
          "name": "stdout",
          "output_type": "stream",
          "text": [
            "PSNR = 42.173054\n"
          ]
        }
      ],
      "source": [
        "# Evaluate model on full validation set\n",
        "psnr = trainer.evaluate(valid_ds)\n",
        "print(f'PSNR = {psnr.numpy():3f}')"
      ]
    },
    {
      "attachments": {},
      "cell_type": "markdown",
      "metadata": {
        "id": "WW8nT4kvVvGx"
      },
      "source": [
        "## Demo"
      ]
    },
    {
      "cell_type": "code",
      "execution_count": 15,
      "metadata": {
        "id": "r9FVmwN_VvGx"
      },
      "outputs": [],
      "source": [
        "model = wdsr_b(scale=scale, num_res_blocks=depth)\n",
        "model.load_weights(weights_file)"
      ]
    },
    {
      "cell_type": "code",
      "execution_count": 16,
      "metadata": {
        "id": "ze6-YVkXVvGx"
      },
      "outputs": [],
      "source": [
        "from model import resolve_single\n",
        "from utils import load_image, plot_sample\n",
        "from PIL import Image\n",
        "import numpy as np\n",
        "\n",
        "def convert_and_plot(lr_image_path):\n",
        "    lr = np.array(Image.open(lr_image_path).convert('RGB'))\n",
        "    \n",
        "    sr = resolve_single(model, lr)\n",
        "    plot_sample(lr, sr)"
      ]
    },
    {
      "cell_type": "code",
      "execution_count": 17,
      "metadata": {
        "id": "nb4qM5VjVvGx"
      },
      "outputs": [],
      "source": [
        "from model import resolve_single\n",
        "from utils import load_image, plot_sample\n",
        "\n",
        "def resolve_and_plot(lr_image_path):\n",
        "    lr = load_image(lr_image_path)\n",
        "    sr = resolve_single(model, lr)\n",
        "    plot_sample(lr, sr)"
      ]
    },
    {
      "cell_type": "code",
      "execution_count": 18,
      "metadata": {
        "colab": {
          "base_uri": "https://localhost:8080/",
          "height": 558
        },
        "id": "zy2v6Nx-VvGy",
        "outputId": "fa690689-65fb-46f2-b60b-844208ce5ab0"
      },
      "outputs": [
        {
          "data": {
            "image/png": "[encoded data removed]",
            "text/plain": [
              "<Figure size 1440x720 with 2 Axes>"
            ]
          },
          "metadata": {},
          "output_type": "display_data"
        }
      ],
      "source": [
        "new_image = './new_dataset/PET-radiomics-challenges-kaggle/Training/1.3.6.1.4.1.14519.5.2.1.1707.8040.10059866353110167322451781.png'\n",
        "convert_and_plot(new_image)"
      ]
    },
    {
      "cell_type": "code",
      "execution_count": 19,
      "metadata": {},
      "outputs": [],
      "source": [
        "# !conda install -c conda-forge gcc=12.1.0\n"
      ]
    },
    {
      "cell_type": "code",
      "execution_count": 20,
      "metadata": {
        "id": "pYOvgdbeVvGz"
      },
      "outputs": [
        {
          "name": "stdout",
          "output_type": "stream",
          "text": [
            "SSIM: 0.9773823963595214\n"
          ]
        }
      ],
      "source": [
        "from skimage.metrics import structural_similarity as compare_ssim\n",
        "import argparse\n",
        "import imutils\n",
        "import cv2\n",
        "new_image = './new_dataset/Y-90/downscaled/0150x4.png'\n",
        "# load the two input images\n",
        "lr = np.array(Image.open(new_image).convert('RGB'))\n",
        "sr = resolve_single(model, lr)\n",
        "imageA = cv2.imread('./new_dataset/Y-90/normal/0150.png')\n",
        "imageB = np.array(sr)\n",
        "# convert the images to grayscale\n",
        "grayA = cv2.cvtColor(imageA, cv2.COLOR_RGB2GRAY)\n",
        "grayB = cv2.cvtColor(imageB, cv2.COLOR_RGB2GRAY)\n",
        "\n",
        "# compute the Structural Similarity Index (SSIM) between the two\n",
        "# images, ensuring that the difference image is returned\n",
        "(score, diff) = compare_ssim(grayA, grayB, full=True)\n",
        "diff = (diff * 255).astype(\"uint8\")\n",
        "print(\"SSIM: {}\".format(score))"
      ]
    }
  ],
  "metadata": {
    "accelerator": "GPU",
    "colab": {
      "name": "example-wdsr.ipynb",
      "provenance": []
    },
    "gpuClass": "standard",
    "interpreter": {
      "hash": "f63f6c5a1e439ec046f8b97d4e79145db6c2c86b7d748c10c29c9441a4011ee3"
    },
    "kernelspec": {
      "display_name": "Python 3.8.0 ('super-resolution')",
      "language": "python",
      "name": "python3"
    },
    "language_info": {
      "codemirror_mode": {
        "name": "ipython",
        "version": 3
      },
      "file_extension": ".py",
      "mimetype": "text/x-python",
      "name": "python",
      "nbconvert_exporter": "python",
      "pygments_lexer": "ipython3",
      "version": "3.6.13"
    },
    "vscode": {
      "interpreter": {
        "hash": "610c699f0cd8c4f129acd9140687fff6866bed0eb8e82f249fc8848b827b628c"
      }
    }
  },
  "nbformat": 4,
  "nbformat_minor": 0
}
