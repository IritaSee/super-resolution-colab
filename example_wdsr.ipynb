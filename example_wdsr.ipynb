{
  "cells": [
    {
      "cell_type": "markdown",
      "metadata": {
        "id": "LwtSCfE-VvGr"
      },
      "source": [
        "# WDSR"
      ]
    },
    {
      "cell_type": "code",
      "execution_count": 1,
      "metadata": {
        "colab": {
          "base_uri": "https://localhost:8080/",
          "height": 1000
        },
        "id": "KFSI0pnyVvGt",
        "outputId": "27ecf32f-5c2b-4956-ea68-3a337ec2ffa5"
      },
      "outputs": [
        {
          "name": "stdout",
          "output_type": "stream",
          "text": [
            "Looking in indexes: https://pypi.org/simple, https://us-python.pkg.dev/colab-wheels/public/simple/\n",
            "Collecting tensorflow==2.3.1\n",
            "  Downloading tensorflow-2.3.1-cp37-cp37m-manylinux2010_x86_64.whl (320.4 MB)\n",
            "\u001b[K     |████████████████████████████████| 320.4 MB 24 kB/s \n",
            "\u001b[?25hCollecting tensorflow-addons==0.11.2\n",
            "  Downloading tensorflow_addons-0.11.2-cp37-cp37m-manylinux2010_x86_64.whl (1.1 MB)\n",
            "\u001b[K     |████████████████████████████████| 1.1 MB 11.3 MB/s \n",
            "\u001b[?25hRequirement already satisfied: absl-py>=0.7.0 in /usr/local/lib/python3.7/dist-packages (from tensorflow==2.3.1) (1.1.0)\n",
            "Requirement already satisfied: opt-einsum>=2.3.2 in /usr/local/lib/python3.7/dist-packages (from tensorflow==2.3.1) (3.3.0)\n",
            "Requirement already satisfied: wheel>=0.26 in /usr/local/lib/python3.7/dist-packages (from tensorflow==2.3.1) (0.37.1)\n",
            "Requirement already satisfied: termcolor>=1.1.0 in /usr/local/lib/python3.7/dist-packages (from tensorflow==2.3.1) (1.1.0)\n",
            "Collecting tensorflow-estimator<2.4.0,>=2.3.0\n",
            "  Downloading tensorflow_estimator-2.3.0-py2.py3-none-any.whl (459 kB)\n",
            "\u001b[K     |████████████████████████████████| 459 kB 72.0 MB/s \n",
            "\u001b[?25hCollecting gast==0.3.3\n",
            "  Downloading gast-0.3.3-py2.py3-none-any.whl (9.7 kB)\n",
            "Requirement already satisfied: astunparse==1.6.3 in /usr/local/lib/python3.7/dist-packages (from tensorflow==2.3.1) (1.6.3)\n",
            "Requirement already satisfied: protobuf>=3.9.2 in /usr/local/lib/python3.7/dist-packages (from tensorflow==2.3.1) (3.17.3)\n",
            "Collecting h5py<2.11.0,>=2.10.0\n",
            "  Downloading h5py-2.10.0-cp37-cp37m-manylinux1_x86_64.whl (2.9 MB)\n",
            "\u001b[K     |████████████████████████████████| 2.9 MB 51.3 MB/s \n",
            "\u001b[?25hRequirement already satisfied: six>=1.12.0 in /usr/local/lib/python3.7/dist-packages (from tensorflow==2.3.1) (1.15.0)\n",
            "Requirement already satisfied: google-pasta>=0.1.8 in /usr/local/lib/python3.7/dist-packages (from tensorflow==2.3.1) (0.2.0)\n",
            "Requirement already satisfied: grpcio>=1.8.6 in /usr/local/lib/python3.7/dist-packages (from tensorflow==2.3.1) (1.47.0)\n",
            "Requirement already satisfied: tensorboard<3,>=2.3.0 in /usr/local/lib/python3.7/dist-packages (from tensorflow==2.3.1) (2.8.0)\n",
            "Requirement already satisfied: keras-preprocessing<1.2,>=1.1.1 in /usr/local/lib/python3.7/dist-packages (from tensorflow==2.3.1) (1.1.2)\n",
            "Requirement already satisfied: wrapt>=1.11.1 in /usr/local/lib/python3.7/dist-packages (from tensorflow==2.3.1) (1.14.1)\n",
            "Collecting numpy<1.19.0,>=1.16.0\n",
            "  Downloading numpy-1.18.5-cp37-cp37m-manylinux1_x86_64.whl (20.1 MB)\n",
            "\u001b[K     |████████████████████████████████| 20.1 MB 1.2 MB/s \n",
            "\u001b[?25hRequirement already satisfied: typeguard>=2.7 in /usr/local/lib/python3.7/dist-packages (from tensorflow-addons==0.11.2) (2.7.1)\n",
            "Requirement already satisfied: tensorboard-data-server<0.7.0,>=0.6.0 in /usr/local/lib/python3.7/dist-packages (from tensorboard<3,>=2.3.0->tensorflow==2.3.1) (0.6.1)\n",
            "Requirement already satisfied: markdown>=2.6.8 in /usr/local/lib/python3.7/dist-packages (from tensorboard<3,>=2.3.0->tensorflow==2.3.1) (3.3.7)\n",
            "Requirement already satisfied: setuptools>=41.0.0 in /usr/local/lib/python3.7/dist-packages (from tensorboard<3,>=2.3.0->tensorflow==2.3.1) (57.4.0)\n",
            "Requirement already satisfied: google-auth<3,>=1.6.3 in /usr/local/lib/python3.7/dist-packages (from tensorboard<3,>=2.3.0->tensorflow==2.3.1) (1.35.0)\n",
            "Requirement already satisfied: werkzeug>=0.11.15 in /usr/local/lib/python3.7/dist-packages (from tensorboard<3,>=2.3.0->tensorflow==2.3.1) (1.0.1)\n",
            "Requirement already satisfied: requests<3,>=2.21.0 in /usr/local/lib/python3.7/dist-packages (from tensorboard<3,>=2.3.0->tensorflow==2.3.1) (2.23.0)\n",
            "Requirement already satisfied: tensorboard-plugin-wit>=1.6.0 in /usr/local/lib/python3.7/dist-packages (from tensorboard<3,>=2.3.0->tensorflow==2.3.1) (1.8.1)\n",
            "Requirement already satisfied: google-auth-oauthlib<0.5,>=0.4.1 in /usr/local/lib/python3.7/dist-packages (from tensorboard<3,>=2.3.0->tensorflow==2.3.1) (0.4.6)\n",
            "Requirement already satisfied: cachetools<5.0,>=2.0.0 in /usr/local/lib/python3.7/dist-packages (from google-auth<3,>=1.6.3->tensorboard<3,>=2.3.0->tensorflow==2.3.1) (4.2.4)\n",
            "Requirement already satisfied: rsa<5,>=3.1.4 in /usr/local/lib/python3.7/dist-packages (from google-auth<3,>=1.6.3->tensorboard<3,>=2.3.0->tensorflow==2.3.1) (4.8)\n",
            "Requirement already satisfied: pyasn1-modules>=0.2.1 in /usr/local/lib/python3.7/dist-packages (from google-auth<3,>=1.6.3->tensorboard<3,>=2.3.0->tensorflow==2.3.1) (0.2.8)\n",
            "Requirement already satisfied: requests-oauthlib>=0.7.0 in /usr/local/lib/python3.7/dist-packages (from google-auth-oauthlib<0.5,>=0.4.1->tensorboard<3,>=2.3.0->tensorflow==2.3.1) (1.3.1)\n",
            "Requirement already satisfied: importlib-metadata>=4.4 in /usr/local/lib/python3.7/dist-packages (from markdown>=2.6.8->tensorboard<3,>=2.3.0->tensorflow==2.3.1) (4.12.0)\n",
            "Requirement already satisfied: typing-extensions>=3.6.4 in /usr/local/lib/python3.7/dist-packages (from importlib-metadata>=4.4->markdown>=2.6.8->tensorboard<3,>=2.3.0->tensorflow==2.3.1) (4.1.1)\n",
            "Requirement already satisfied: zipp>=0.5 in /usr/local/lib/python3.7/dist-packages (from importlib-metadata>=4.4->markdown>=2.6.8->tensorboard<3,>=2.3.0->tensorflow==2.3.1) (3.8.0)\n",
            "Requirement already satisfied: pyasn1<0.5.0,>=0.4.6 in /usr/local/lib/python3.7/dist-packages (from pyasn1-modules>=0.2.1->google-auth<3,>=1.6.3->tensorboard<3,>=2.3.0->tensorflow==2.3.1) (0.4.8)\n",
            "Requirement already satisfied: idna<3,>=2.5 in /usr/local/lib/python3.7/dist-packages (from requests<3,>=2.21.0->tensorboard<3,>=2.3.0->tensorflow==2.3.1) (2.10)\n",
            "Requirement already satisfied: chardet<4,>=3.0.2 in /usr/local/lib/python3.7/dist-packages (from requests<3,>=2.21.0->tensorboard<3,>=2.3.0->tensorflow==2.3.1) (3.0.4)\n",
            "Requirement already satisfied: certifi>=2017.4.17 in /usr/local/lib/python3.7/dist-packages (from requests<3,>=2.21.0->tensorboard<3,>=2.3.0->tensorflow==2.3.1) (2022.6.15)\n",
            "Requirement already satisfied: urllib3!=1.25.0,!=1.25.1,<1.26,>=1.21.1 in /usr/local/lib/python3.7/dist-packages (from requests<3,>=2.21.0->tensorboard<3,>=2.3.0->tensorflow==2.3.1) (1.24.3)\n",
            "Requirement already satisfied: oauthlib>=3.0.0 in /usr/local/lib/python3.7/dist-packages (from requests-oauthlib>=0.7.0->google-auth-oauthlib<0.5,>=0.4.1->tensorboard<3,>=2.3.0->tensorflow==2.3.1) (3.2.0)\n",
            "Installing collected packages: numpy, tensorflow-estimator, h5py, gast, tensorflow-addons, tensorflow\n",
            "  Attempting uninstall: numpy\n",
            "    Found existing installation: numpy 1.21.6\n",
            "    Uninstalling numpy-1.21.6:\n",
            "      Successfully uninstalled numpy-1.21.6\n",
            "  Attempting uninstall: tensorflow-estimator\n",
            "    Found existing installation: tensorflow-estimator 2.8.0\n",
            "    Uninstalling tensorflow-estimator-2.8.0:\n",
            "      Successfully uninstalled tensorflow-estimator-2.8.0\n",
            "  Attempting uninstall: h5py\n",
            "    Found existing installation: h5py 3.1.0\n",
            "    Uninstalling h5py-3.1.0:\n",
            "      Successfully uninstalled h5py-3.1.0\n",
            "  Attempting uninstall: gast\n",
            "    Found existing installation: gast 0.5.3\n",
            "    Uninstalling gast-0.5.3:\n",
            "      Successfully uninstalled gast-0.5.3\n",
            "  Attempting uninstall: tensorflow\n",
            "    Found existing installation: tensorflow 2.8.2+zzzcolab20220629235552\n",
            "    Uninstalling tensorflow-2.8.2+zzzcolab20220629235552:\n",
            "      Successfully uninstalled tensorflow-2.8.2+zzzcolab20220629235552\n",
            "\u001b[31mERROR: pip's dependency resolver does not currently take into account all the packages that are installed. This behaviour is the source of the following dependency conflicts.\n",
            "xarray-einstats 0.2.2 requires numpy>=1.21, but you have numpy 1.18.5 which is incompatible.\n",
            "tables 3.7.0 requires numpy>=1.19.0, but you have numpy 1.18.5 which is incompatible.\n",
            "jaxlib 0.3.14+cuda11.cudnn805 requires numpy>=1.19, but you have numpy 1.18.5 which is incompatible.\n",
            "jax 0.3.14 requires numpy>=1.19, but you have numpy 1.18.5 which is incompatible.\n",
            "datascience 0.10.6 requires folium==0.2.1, but you have folium 0.8.3 which is incompatible.\n",
            "albumentations 0.1.12 requires imgaug<0.2.7,>=0.2.5, but you have imgaug 0.2.9 which is incompatible.\u001b[0m\n",
            "Successfully installed gast-0.3.3 h5py-2.10.0 numpy-1.18.5 tensorflow-2.3.1 tensorflow-addons-0.11.2 tensorflow-estimator-2.3.0\n"
          ]
        },
        {
          "data": {
            "application/vnd.colab-display-data+json": {
              "pip_warning": {
                "packages": [
                  "numpy"
                ]
              }
            }
          },
          "metadata": {},
          "output_type": "display_data"
        }
      ],
      "source": [
        "#COLAB environment setup:\n",
        "!pip install tensorflow-gpu==2.3.1 tensorflow-addons==0.11.2 ## replace to !pip install tensorflow for CPU"
      ]
    },
    {
      "cell_type": "code",
      "execution_count": 2,
      "metadata": {
        "colab": {
          "base_uri": "https://localhost:8080/"
        },
        "id": "__6lirCVVvGt",
        "outputId": "8d90b029-0387-4772-aa1f-18f9995e1db3"
      },
      "outputs": [
        {
          "name": "stdout",
          "output_type": "stream",
          "text": [
            "Cloning into 'super-resolution'...\n",
            "remote: Enumerating objects: 408, done.\u001b[K\n",
            "remote: Counting objects: 100% (3/3), done.\u001b[K\n",
            "remote: Compressing objects: 100% (2/2), done.\u001b[K\n",
            "remote: Total 408 (delta 0), reused 2 (delta 0), pack-reused 405\u001b[K\n",
            "Receiving objects: 100% (408/408), 48.16 MiB | 40.52 MiB/s, done.\n",
            "Resolving deltas: 100% (214/214), done.\n"
          ]
        }
      ],
      "source": [
        "!git clone https://github.com/IritaSee/super-resolution-colab.git"
      ]
    },
    {
      "cell_type": "code",
      "execution_count": 3,
      "metadata": {
        "colab": {
          "base_uri": "https://localhost:8080/"
        },
        "id": "HS3lK49GVvGu",
        "outputId": "19d038ae-bcea-40be-a899-4b3df2bf523d"
      },
      "outputs": [
        {
          "name": "stdout",
          "output_type": "stream",
          "text": [
            "/content/super-resolution\n"
          ]
        }
      ],
      "source": [
        "%cd super-resolution"
      ]
    },
    {
      "cell_type": "code",
      "execution_count": 1,
      "metadata": {
        "colab": {
          "base_uri": "https://localhost:8080/"
        },
        "id": "izMuZBROVvGu",
        "outputId": "2ce523d9-b0fd-4c53-f8b8-a0d4f9a65dbd"
      },
      "outputs": [
        {
          "name": "stdout",
          "output_type": "stream",
          "text": [
            "article.ipynb\t\texample_edsr.ipynb   README.md\n",
            "data_engineering.ipynb\texample_srgan.ipynb  train.py\n",
            "data.py\t\t\texample_wdsr.ipynb   utils.py\n",
            "demo\t\t\tLICENSE\t\t     weights\n",
            "docs\t\t\tmodel\t\t     weights-edsr-16-x4.tar.gz\n",
            "environment.yml\t\t__pycache__\n"
          ]
        }
      ],
      "source": [
        "!ls"
      ]
    },
    {
      "cell_type": "code",
      "execution_count": 19,
      "metadata": {
        "id": "eYOV_NZTVvGu"
      },
      "outputs": [],
      "source": [
        "import os\n",
        "import matplotlib.pyplot as plt\n",
        "\n",
        "from data import DIV2K\n",
        "from model.wdsr import wdsr_b\n",
        "from train import WdsrTrainer\n",
        "\n",
        "%matplotlib inline"
      ]
    },
    {
      "cell_type": "code",
      "execution_count": 20,
      "metadata": {
        "id": "H3SNNDklVvGu"
      },
      "outputs": [],
      "source": [
        "# Number of residual blocks\n",
        "# depth = 32\n",
        "depth = 16\n",
        "\n",
        "# Super-resolution factor\n",
        "scale = 4 #ini jangan di ganti, ngaruh ke dataset\n",
        "\n",
        "# Downgrade operator\n",
        "downgrade = 'bicubic'"
      ]
    },
    {
      "cell_type": "code",
      "execution_count": 21,
      "metadata": {
        "id": "36Q3IBy_VvGu"
      },
      "outputs": [],
      "source": [
        "# Location of model weights (needed for demo)\n",
        "weights_dir = f'weights/wdsr-b-{depth}-x{scale}'\n",
        "weights_file = os.path.join(weights_dir, 'weights_16_as_depth.h5')\n",
        "\n",
        "os.makedirs(weights_dir, exist_ok=True)"
      ]
    },
    {
      "cell_type": "markdown",
      "metadata": {
        "id": "dBqgGosZVvGu"
      },
      "source": [
        "## Datasets\n",
        "\n",
        "You don't need to download the DIV2K dataset as the required parts are automatically downloaded by the `DIV2K` class. By default, DIV2K images are stored in folder `.div2k` in the project's root directory."
      ]
    },
    {
      "cell_type": "code",
      "execution_count": 8,
      "metadata": {
        "colab": {
          "base_uri": "https://localhost:8080/"
        },
        "id": "eZeJpACsVvGv",
        "outputId": "ab2dfea9-e403-43a3-f890-dc940da08954"
      },
      "outputs": [
        {
          "name": "stdout",
          "output_type": "stream",
          "text": [
            "Mounted at /content/drive\n"
          ]
        }
      ],
      "source": [
        "# from google.colab import drive\n",
        "# drive.mount('/content/drive')"
      ]
    },
    {
      "cell_type": "code",
      "execution_count": 6,
      "metadata": {
        "id": "-2Bwk_EnVvGv"
      },
      "outputs": [],
      "source": [
        "div2k_train = DIV2K(scale=scale, subset='train', downgrade=downgrade)\n",
        "div2k_valid = DIV2K(scale=scale, subset='valid', downgrade=downgrade)"
      ]
    },
    {
      "cell_type": "code",
      "execution_count": 7,
      "metadata": {
        "id": "qO_GFAq5VvGv"
      },
      "outputs": [
        {
          "name": "stderr",
          "output_type": "stream",
          "text": [
            "2022-12-22 00:11:28.810350: I tensorflow/stream_executor/platform/default/dso_loader.cc:48] Successfully opened dynamic library libcuda.so.1\n",
            "2022-12-22 00:11:28.992793: I tensorflow/stream_executor/cuda/cuda_gpu_executor.cc:982] successful NUMA node read from SysFS had negative value (-1), but there must be at least one NUMA node, so returning NUMA node zero\n",
            "2022-12-22 00:11:28.993561: I tensorflow/core/common_runtime/gpu/gpu_device.cc:1716] Found device 0 with properties: \n",
            "pciBusID: 0000:01:00.0 name: NVIDIA GeForce GTX 1660 Ti with Max-Q Design computeCapability: 7.5\n",
            "coreClock: 1.335GHz coreCount: 24 deviceMemorySize: 5.80GiB deviceMemoryBandwidth: 268.26GiB/s\n",
            "2022-12-22 00:11:28.993670: I tensorflow/stream_executor/platform/default/dso_loader.cc:48] Successfully opened dynamic library libcudart.so.10.1\n",
            "2022-12-22 00:11:29.668119: I tensorflow/stream_executor/platform/default/dso_loader.cc:48] Successfully opened dynamic library libcublas.so.10\n",
            "2022-12-22 00:11:29.925693: I tensorflow/stream_executor/platform/default/dso_loader.cc:48] Successfully opened dynamic library libcufft.so.10\n",
            "2022-12-22 00:11:29.997482: I tensorflow/stream_executor/platform/default/dso_loader.cc:48] Successfully opened dynamic library libcurand.so.10\n",
            "2022-12-22 00:11:30.421989: I tensorflow/stream_executor/platform/default/dso_loader.cc:48] Successfully opened dynamic library libcusolver.so.10\n",
            "2022-12-22 00:11:30.481788: I tensorflow/stream_executor/platform/default/dso_loader.cc:48] Successfully opened dynamic library libcusparse.so.10\n",
            "2022-12-22 00:11:30.482646: W tensorflow/stream_executor/platform/default/dso_loader.cc:59] Could not load dynamic library 'libcudnn.so.7'; dlerror: libcudnn.so.7: cannot open shared object file: No such file or directory\n",
            "2022-12-22 00:11:30.482685: W tensorflow/core/common_runtime/gpu/gpu_device.cc:1753] Cannot dlopen some GPU libraries. Please make sure the missing libraries mentioned above are installed properly if you would like to use GPU. Follow the guide at https://www.tensorflow.org/install/gpu for how to download and setup the required libraries for your platform.\n",
            "Skipping registering GPU devices...\n",
            "2022-12-22 00:11:30.520425: I tensorflow/core/platform/cpu_feature_guard.cc:142] This TensorFlow binary is optimized with oneAPI Deep Neural Network Library (oneDNN)to use the following CPU instructions in performance-critical operations:  AVX2 FMA\n",
            "To enable them in other operations, rebuild TensorFlow with the appropriate compiler flags.\n",
            "2022-12-22 00:11:30.718100: I tensorflow/core/platform/profile_utils/cpu_utils.cc:104] CPU Frequency: 2599990000 Hz\n",
            "2022-12-22 00:11:30.720709: I tensorflow/compiler/xla/service/service.cc:168] XLA service 0x555ef5373000 initialized for platform Host (this does not guarantee that XLA will be used). Devices:\n",
            "2022-12-22 00:11:30.720776: I tensorflow/compiler/xla/service/service.cc:176]   StreamExecutor device (0): Host, Default Version\n",
            "2022-12-22 00:11:30.741816: I tensorflow/core/common_runtime/gpu/gpu_device.cc:1257] Device interconnect StreamExecutor with strength 1 edge matrix:\n",
            "2022-12-22 00:11:30.741885: I tensorflow/core/common_runtime/gpu/gpu_device.cc:1263]      \n"
          ]
        }
      ],
      "source": [
        "train_ds = div2k_train.dataset(batch_size=16, random_transform=True)\n",
        "valid_ds = div2k_valid.dataset(batch_size=1, random_transform=False, repeat_count=1)"
      ]
    },
    {
      "cell_type": "markdown",
      "metadata": {
        "id": "LW5aTX5vVvGv"
      },
      "source": [
        "## Training\n",
        "\n",
        "### Pre-trained models\n",
        "\n",
        "If you want to skip training and directly run the demo below, download [weights-wdsr-b-32-x4.tar.gz](https://martin-krasser.de/sisr/weights-wdsr-b-32-x4.tar.gz) and extract the archive in the project's root directory. This will create a `weights/wdsr-b-32-x4` directory containing the weights of the pre-trained model."
      ]
    },
    {
      "cell_type": "code",
      "execution_count": 9,
      "metadata": {
        "colab": {
          "base_uri": "https://localhost:8080/"
        },
        "id": "WoDa5DRbVvGv",
        "outputId": "b5598af4-630d-403c-9823-e4d43c96ed78"
      },
      "outputs": [
        {
          "name": "stdout",
          "output_type": "stream",
          "text": [
            "--2022-07-13 20:56:58--  https://martin-krasser.de/sisr/weights-wdsr-b-32-x4.tar.gz\n",
            "Resolving martin-krasser.de (martin-krasser.de)... 217.160.0.142, 2001:8d8:100f:f000::209\n",
            "Connecting to martin-krasser.de (martin-krasser.de)|217.160.0.142|:443... connected.\n",
            "HTTP request sent, awaiting response... 200 OK\n",
            "Length: 2328140 (2.2M) [application/gzip]\n",
            "Saving to: ‘weights-wdsr-b-32-x4.tar.gz’\n",
            "\n",
            "weights-wdsr-b-32-x 100%[===================>]   2.22M  3.46MB/s    in 0.6s    \n",
            "\n",
            "2022-07-13 20:56:59 (3.46 MB/s) - ‘weights-wdsr-b-32-x4.tar.gz’ saved [2328140/2328140]\n",
            "\n"
          ]
        }
      ],
      "source": [
        "!wget https://martin-krasser.de/sisr/weights-wdsr-b-32-x4.tar.gz"
      ]
    },
    {
      "cell_type": "code",
      "execution_count": 10,
      "metadata": {
        "id": "SQ6DAUh0VvGw"
      },
      "outputs": [],
      "source": [
        "! tar -xf weights-wdsr-b-32-x4.tar.gz"
      ]
    },
    {
      "cell_type": "code",
      "execution_count": 8,
      "metadata": {
        "id": "5so1sfCsVvGw"
      },
      "outputs": [],
      "source": [
        "trainer = WdsrTrainer(model=wdsr_b(scale=scale, num_res_blocks=depth), \n",
        "                      checkpoint_dir=f'.ckpt/wdsr-b-{depth}-x{scale}')"
      ]
    },
    {
      "cell_type": "code",
      "execution_count": 9,
      "metadata": {
        "id": "z4qifY3HVvGw",
        "scrolled": true
      },
      "outputs": [
        {
          "name": "stdout",
          "output_type": "stream",
          "text": [
            "1000/300000: loss = 4.966, PSNR = 35.381752 (207.13s)\n",
            "2000/300000: loss = 2.568, PSNR = 37.939171 (182.51s)\n",
            "3000/300000: loss = 2.220, PSNR = 38.751186 (176.28s)\n",
            "4000/300000: loss = 2.049, PSNR = 39.266197 (174.77s)\n",
            "5000/300000: loss = 1.954, PSNR = 39.592152 (173.05s)\n",
            "6000/300000: loss = 1.886, PSNR = 39.789886 (173.91s)\n",
            "7000/300000: loss = 1.830, PSNR = 40.163818 (173.61s)\n",
            "8000/300000: loss = 1.771, PSNR = 40.263680 (173.73s)\n",
            "9000/300000: loss = 1.726, PSNR = 40.404633 (173.57s)\n",
            "10000/300000: loss = 1.713, PSNR = 40.477776 (173.94s)\n",
            "11000/300000: loss = 1.655, PSNR = 40.464127 (172.79s)\n",
            "12000/300000: loss = 1.646, PSNR = 40.589424 (173.13s)\n",
            "13000/300000: loss = 1.624, PSNR = 40.819580 (174.42s)\n",
            "14000/300000: loss = 1.597, PSNR = 40.835701 (174.18s)\n",
            "15000/300000: loss = 1.571, PSNR = 41.083057 (173.68s)\n",
            "16000/300000: loss = 1.570, PSNR = 40.953926 (174.16s)\n",
            "17000/300000: loss = 1.548, PSNR = 41.189190 (172.96s)\n",
            "18000/300000: loss = 1.544, PSNR = 41.163097 (173.57s)\n",
            "19000/300000: loss = 1.525, PSNR = 41.297676 (172.83s)\n",
            "20000/300000: loss = 1.509, PSNR = 41.332619 (173.57s)\n",
            "21000/300000: loss = 1.513, PSNR = 41.322426 (172.96s)\n",
            "22000/300000: loss = 1.496, PSNR = 41.394955 (172.47s)\n",
            "23000/300000: loss = 1.507, PSNR = 41.417816 (173.32s)\n",
            "24000/300000: loss = 1.497, PSNR = 41.285538 (172.82s)\n",
            "25000/300000: loss = 1.480, PSNR = 41.587891 (172.41s)\n",
            "26000/300000: loss = 1.461, PSNR = 41.591599 (172.59s)\n",
            "27000/300000: loss = 1.466, PSNR = 41.500599 (171.73s)\n",
            "28000/300000: loss = 1.467, PSNR = 41.672680 (171.93s)\n",
            "29000/300000: loss = 1.456, PSNR = 41.637241 (171.84s)\n",
            "30000/300000: loss = 1.449, PSNR = 41.595135 (171.92s)\n",
            "31000/300000: loss = 1.439, PSNR = 41.614967 (172.34s)\n",
            "32000/300000: loss = 1.434, PSNR = 41.675850 (172.39s)\n",
            "33000/300000: loss = 1.442, PSNR = 41.433556 (171.83s)\n",
            "34000/300000: loss = 1.430, PSNR = 41.676342 (172.03s)\n",
            "35000/300000: loss = 1.424, PSNR = 41.739723 (171.55s)\n",
            "36000/300000: loss = 1.436, PSNR = 41.593349 (172.43s)\n",
            "37000/300000: loss = 1.430, PSNR = 41.630806 (172.65s)\n",
            "38000/300000: loss = 1.423, PSNR = 41.774281 (171.73s)\n",
            "39000/300000: loss = 1.422, PSNR = 41.646240 (172.28s)\n",
            "40000/300000: loss = 1.429, PSNR = 41.851646 (173.10s)\n",
            "41000/300000: loss = 1.403, PSNR = 41.802692 (172.12s)\n",
            "42000/300000: loss = 1.414, PSNR = 41.706642 (171.78s)\n",
            "43000/300000: loss = 1.415, PSNR = 41.837440 (172.12s)\n",
            "44000/300000: loss = 1.411, PSNR = 41.854431 (172.19s)\n",
            "45000/300000: loss = 1.417, PSNR = 41.838554 (171.79s)\n",
            "46000/300000: loss = 1.399, PSNR = 41.795654 (171.47s)\n",
            "47000/300000: loss = 1.401, PSNR = 41.800552 (172.04s)\n",
            "48000/300000: loss = 1.399, PSNR = 41.856659 (171.83s)\n",
            "49000/300000: loss = 1.393, PSNR = 41.948833 (171.47s)\n",
            "50000/300000: loss = 1.388, PSNR = 41.827370 (172.59s)\n",
            "51000/300000: loss = 1.393, PSNR = 41.890209 (172.11s)\n",
            "52000/300000: loss = 1.393, PSNR = 41.905636 (171.71s)\n",
            "53000/300000: loss = 1.401, PSNR = 41.917000 (171.21s)\n",
            "54000/300000: loss = 1.406, PSNR = 41.946941 (170.98s)\n",
            "55000/300000: loss = 1.390, PSNR = 41.980907 (172.34s)\n",
            "56000/300000: loss = 1.387, PSNR = 41.959488 (170.98s)\n",
            "57000/300000: loss = 1.376, PSNR = 41.995270 (171.51s)\n",
            "58000/300000: loss = 1.368, PSNR = 41.934593 (172.46s)\n",
            "59000/300000: loss = 1.372, PSNR = 41.891182 (170.85s)\n",
            "60000/300000: loss = 1.371, PSNR = 41.816658 (172.20s)\n",
            "61000/300000: loss = 1.374, PSNR = 41.975979 (171.20s)\n",
            "62000/300000: loss = 1.373, PSNR = 42.065174 (171.46s)\n",
            "63000/300000: loss = 1.372, PSNR = 41.930164 (171.41s)\n",
            "64000/300000: loss = 1.372, PSNR = 42.037071 (171.92s)\n",
            "65000/300000: loss = 1.359, PSNR = 42.078003 (171.78s)\n",
            "66000/300000: loss = 1.373, PSNR = 42.081776 (171.74s)\n",
            "67000/300000: loss = 1.373, PSNR = 42.049164 (171.46s)\n",
            "68000/300000: loss = 1.363, PSNR = 42.085392 (171.86s)\n",
            "69000/300000: loss = 1.361, PSNR = 42.018841 (172.42s)\n",
            "70000/300000: loss = 1.364, PSNR = 42.009010 (171.58s)\n",
            "71000/300000: loss = 1.360, PSNR = 42.085136 (171.90s)\n",
            "72000/300000: loss = 1.361, PSNR = 42.049789 (170.99s)\n",
            "73000/300000: loss = 1.360, PSNR = 41.996471 (171.70s)\n",
            "74000/300000: loss = 1.372, PSNR = 42.003223 (172.00s)\n",
            "75000/300000: loss = 1.366, PSNR = 42.122620 (171.44s)\n",
            "76000/300000: loss = 1.344, PSNR = 42.133991 (171.27s)\n",
            "77000/300000: loss = 1.357, PSNR = 42.176338 (171.35s)\n",
            "78000/300000: loss = 1.356, PSNR = 42.058838 (172.07s)\n",
            "79000/300000: loss = 1.358, PSNR = 42.080605 (172.01s)\n",
            "80000/300000: loss = 1.361, PSNR = 42.112389 (171.49s)\n",
            "81000/300000: loss = 1.350, PSNR = 42.145851 (172.31s)\n",
            "82000/300000: loss = 1.357, PSNR = 42.075157 (171.41s)\n",
            "83000/300000: loss = 1.351, PSNR = 42.047119 (171.51s)\n",
            "84000/300000: loss = 1.351, PSNR = 42.142647 (171.80s)\n",
            "85000/300000: loss = 1.347, PSNR = 42.166275 (171.27s)\n",
            "86000/300000: loss = 1.346, PSNR = 42.176517 (172.05s)\n",
            "87000/300000: loss = 1.357, PSNR = 42.091789 (172.47s)\n",
            "88000/300000: loss = 1.343, PSNR = 42.216564 (171.20s)\n",
            "89000/300000: loss = 1.344, PSNR = 42.233017 (171.69s)\n",
            "90000/300000: loss = 1.339, PSNR = 42.192249 (170.26s)\n",
            "91000/300000: loss = 1.347, PSNR = 42.121117 (170.74s)\n",
            "92000/300000: loss = 1.339, PSNR = 42.209160 (171.07s)\n",
            "93000/300000: loss = 1.345, PSNR = 42.232536 (171.76s)\n",
            "94000/300000: loss = 1.347, PSNR = 42.232338 (172.03s)\n",
            "95000/300000: loss = 1.329, PSNR = 42.263649 (171.42s)\n",
            "96000/300000: loss = 1.340, PSNR = 42.179188 (171.76s)\n",
            "97000/300000: loss = 1.341, PSNR = 42.211597 (171.58s)\n",
            "98000/300000: loss = 1.342, PSNR = 42.145042 (172.27s)\n",
            "99000/300000: loss = 1.343, PSNR = 42.127789 (172.06s)\n",
            "100000/300000: loss = 1.339, PSNR = 42.242992 (171.85s)\n",
            "101000/300000: loss = 1.340, PSNR = 42.211765 (172.18s)\n",
            "102000/300000: loss = 1.336, PSNR = 42.160992 (172.26s)\n",
            "103000/300000: loss = 1.334, PSNR = 42.231800 (171.75s)\n",
            "104000/300000: loss = 1.338, PSNR = 42.248337 (172.14s)\n",
            "105000/300000: loss = 1.339, PSNR = 42.279900 (172.56s)\n",
            "106000/300000: loss = 1.345, PSNR = 42.296844 (172.38s)\n",
            "107000/300000: loss = 1.336, PSNR = 42.215099 (171.84s)\n",
            "108000/300000: loss = 1.342, PSNR = 42.309025 (172.01s)\n",
            "109000/300000: loss = 1.325, PSNR = 42.289310 (172.22s)\n",
            "110000/300000: loss = 1.331, PSNR = 42.257038 (172.03s)\n",
            "111000/300000: loss = 1.320, PSNR = 42.278366 (171.36s)\n",
            "112000/300000: loss = 1.337, PSNR = 42.232796 (171.51s)\n",
            "113000/300000: loss = 1.341, PSNR = 42.297737 (172.52s)\n",
            "114000/300000: loss = 1.334, PSNR = 42.247486 (171.30s)\n",
            "115000/300000: loss = 1.325, PSNR = 42.287849 (172.08s)\n",
            "116000/300000: loss = 1.322, PSNR = 42.282928 (171.44s)\n",
            "117000/300000: loss = 1.334, PSNR = 42.259224 (171.84s)\n",
            "118000/300000: loss = 1.330, PSNR = 42.294098 (171.62s)\n",
            "119000/300000: loss = 1.331, PSNR = 42.337780 (171.74s)\n",
            "120000/300000: loss = 1.325, PSNR = 42.310822 (172.41s)\n",
            "121000/300000: loss = 1.317, PSNR = 42.235741 (171.25s)\n",
            "122000/300000: loss = 1.334, PSNR = 42.303535 (171.48s)\n",
            "123000/300000: loss = 1.323, PSNR = 42.291374 (172.43s)\n",
            "124000/300000: loss = 1.331, PSNR = 42.363319 (171.15s)\n",
            "125000/300000: loss = 1.334, PSNR = 42.299252 (171.74s)\n",
            "126000/300000: loss = 1.324, PSNR = 42.298508 (172.04s)\n",
            "127000/300000: loss = 1.328, PSNR = 42.345798 (173.74s)\n",
            "128000/300000: loss = 1.318, PSNR = 42.199093 (173.46s)\n",
            "129000/300000: loss = 1.311, PSNR = 42.326286 (172.31s)\n",
            "130000/300000: loss = 1.327, PSNR = 42.344521 (171.53s)\n",
            "131000/300000: loss = 1.326, PSNR = 42.279179 (171.94s)\n",
            "132000/300000: loss = 1.336, PSNR = 42.318703 (172.45s)\n",
            "133000/300000: loss = 1.314, PSNR = 42.362957 (171.82s)\n",
            "134000/300000: loss = 1.313, PSNR = 42.391766 (171.41s)\n",
            "135000/300000: loss = 1.325, PSNR = 42.307129 (171.66s)\n",
            "136000/300000: loss = 1.320, PSNR = 42.388481 (171.58s)\n",
            "137000/300000: loss = 1.320, PSNR = 42.372063 (171.86s)\n",
            "138000/300000: loss = 1.312, PSNR = 42.350086 (171.60s)\n",
            "139000/300000: loss = 1.306, PSNR = 42.404438 (173.51s)\n",
            "140000/300000: loss = 1.318, PSNR = 42.394283 (172.29s)\n",
            "141000/300000: loss = 1.322, PSNR = 42.351463 (172.33s)\n",
            "142000/300000: loss = 1.322, PSNR = 42.310780 (171.95s)\n",
            "143000/300000: loss = 1.320, PSNR = 42.394371 (171.43s)\n",
            "144000/300000: loss = 1.314, PSNR = 42.372379 (172.51s)\n",
            "145000/300000: loss = 1.312, PSNR = 42.386604 (171.67s)\n",
            "146000/300000: loss = 1.302, PSNR = 42.404869 (172.32s)\n",
            "147000/300000: loss = 1.312, PSNR = 42.392708 (172.10s)\n",
            "148000/300000: loss = 1.317, PSNR = 42.368484 (171.72s)\n",
            "149000/300000: loss = 1.307, PSNR = 42.370003 (172.26s)\n",
            "150000/300000: loss = 1.309, PSNR = 42.388271 (171.43s)\n",
            "151000/300000: loss = 1.310, PSNR = 42.424122 (171.91s)\n",
            "152000/300000: loss = 1.311, PSNR = 42.398849 (171.86s)\n",
            "153000/300000: loss = 1.330, PSNR = 42.425270 (171.95s)\n",
            "154000/300000: loss = 1.305, PSNR = 42.367134 (171.83s)\n",
            "155000/300000: loss = 1.306, PSNR = 42.347366 (172.32s)\n",
            "156000/300000: loss = 1.320, PSNR = 42.415405 (172.40s)\n",
            "157000/300000: loss = 1.300, PSNR = 42.399830 (171.80s)\n",
            "158000/300000: loss = 1.306, PSNR = 42.352619 (171.56s)\n",
            "159000/300000: loss = 1.311, PSNR = 42.420372 (171.99s)\n",
            "160000/300000: loss = 1.317, PSNR = 42.417561 (171.91s)\n",
            "161000/300000: loss = 1.310, PSNR = 42.402500 (171.98s)\n",
            "162000/300000: loss = 1.310, PSNR = 42.463524 (171.90s)\n",
            "163000/300000: loss = 1.309, PSNR = 42.341759 (172.04s)\n",
            "164000/300000: loss = 1.306, PSNR = 42.419228 (171.52s)\n",
            "165000/300000: loss = 1.322, PSNR = 42.390717 (172.19s)\n",
            "166000/300000: loss = 1.300, PSNR = 42.384827 (171.66s)\n",
            "167000/300000: loss = 1.303, PSNR = 42.456257 (171.71s)\n",
            "168000/300000: loss = 1.302, PSNR = 42.449295 (172.78s)\n",
            "169000/300000: loss = 1.301, PSNR = 42.369072 (171.77s)\n",
            "170000/300000: loss = 1.313, PSNR = 42.447548 (172.47s)\n",
            "171000/300000: loss = 1.306, PSNR = 42.417065 (172.49s)\n",
            "172000/300000: loss = 1.304, PSNR = 42.445183 (171.66s)\n",
            "173000/300000: loss = 1.296, PSNR = 42.437531 (172.26s)\n",
            "174000/300000: loss = 1.310, PSNR = 42.422401 (172.18s)\n",
            "175000/300000: loss = 1.310, PSNR = 42.433849 (172.07s)\n",
            "176000/300000: loss = 1.311, PSNR = 42.379581 (172.24s)\n",
            "177000/300000: loss = 1.295, PSNR = 42.444206 (171.82s)\n",
            "178000/300000: loss = 1.307, PSNR = 42.443836 (172.69s)\n",
            "179000/300000: loss = 1.303, PSNR = 42.436668 (172.01s)\n",
            "180000/300000: loss = 1.304, PSNR = 42.465374 (172.38s)\n",
            "181000/300000: loss = 1.320, PSNR = 42.420826 (172.12s)\n",
            "182000/300000: loss = 1.296, PSNR = 42.459373 (171.82s)\n",
            "183000/300000: loss = 1.312, PSNR = 42.467518 (171.64s)\n",
            "184000/300000: loss = 1.301, PSNR = 42.466339 (171.66s)\n",
            "185000/300000: loss = 1.299, PSNR = 42.487053 (172.39s)\n",
            "186000/300000: loss = 1.308, PSNR = 42.433022 (172.72s)\n",
            "187000/300000: loss = 1.292, PSNR = 42.439510 (172.11s)\n",
            "188000/300000: loss = 1.313, PSNR = 42.468483 (171.99s)\n",
            "189000/300000: loss = 1.296, PSNR = 42.455357 (172.02s)\n",
            "190000/300000: loss = 1.300, PSNR = 42.490879 (172.13s)\n",
            "191000/300000: loss = 1.306, PSNR = 42.467785 (174.04s)\n",
            "192000/300000: loss = 1.305, PSNR = 42.490040 (174.44s)\n",
            "193000/300000: loss = 1.304, PSNR = 42.486401 (174.05s)\n",
            "194000/300000: loss = 1.311, PSNR = 42.504345 (173.78s)\n",
            "195000/300000: loss = 1.300, PSNR = 42.480797 (173.27s)\n",
            "196000/300000: loss = 1.300, PSNR = 42.501060 (173.87s)\n",
            "197000/300000: loss = 1.307, PSNR = 42.459087 (174.42s)\n",
            "198000/300000: loss = 1.296, PSNR = 42.499062 (173.24s)\n",
            "199000/300000: loss = 1.300, PSNR = 42.460609 (174.09s)\n",
            "200000/300000: loss = 1.295, PSNR = 42.478729 (173.87s)\n",
            "201000/300000: loss = 1.268, PSNR = 42.567738 (173.05s)\n",
            "202000/300000: loss = 1.270, PSNR = 42.594074 (173.70s)\n",
            "203000/300000: loss = 1.277, PSNR = 42.550850 (172.95s)\n",
            "204000/300000: loss = 1.272, PSNR = 42.599503 (173.55s)\n",
            "205000/300000: loss = 1.268, PSNR = 42.608391 (173.87s)\n",
            "206000/300000: loss = 1.260, PSNR = 42.601112 (173.24s)\n",
            "207000/300000: loss = 1.268, PSNR = 42.572491 (173.83s)\n",
            "208000/300000: loss = 1.280, PSNR = 42.597206 (173.43s)\n",
            "209000/300000: loss = 1.270, PSNR = 42.611980 (173.43s)\n",
            "210000/300000: loss = 1.265, PSNR = 42.612820 (173.83s)\n",
            "211000/300000: loss = 1.274, PSNR = 42.642986 (174.19s)\n",
            "212000/300000: loss = 1.271, PSNR = 42.610146 (173.53s)\n",
            "213000/300000: loss = 1.258, PSNR = 42.595123 (173.80s)\n",
            "214000/300000: loss = 1.278, PSNR = 42.613476 (173.95s)\n",
            "215000/300000: loss = 1.268, PSNR = 42.627056 (173.87s)\n",
            "216000/300000: loss = 1.275, PSNR = 42.595787 (174.03s)\n",
            "217000/300000: loss = 1.264, PSNR = 42.620182 (173.36s)\n",
            "218000/300000: loss = 1.264, PSNR = 42.615906 (174.38s)\n",
            "219000/300000: loss = 1.256, PSNR = 42.626373 (173.28s)\n",
            "220000/300000: loss = 1.262, PSNR = 42.610615 (173.99s)\n",
            "221000/300000: loss = 1.273, PSNR = 42.635193 (174.51s)\n",
            "222000/300000: loss = 1.278, PSNR = 42.610554 (173.83s)\n",
            "223000/300000: loss = 1.268, PSNR = 42.637764 (173.84s)\n",
            "224000/300000: loss = 1.269, PSNR = 42.618374 (173.73s)\n",
            "225000/300000: loss = 1.257, PSNR = 42.621586 (174.21s)\n",
            "226000/300000: loss = 1.265, PSNR = 42.620838 (173.92s)\n",
            "227000/300000: loss = 1.258, PSNR = 42.640911 (173.05s)\n",
            "228000/300000: loss = 1.261, PSNR = 42.596577 (173.36s)\n",
            "229000/300000: loss = 1.266, PSNR = 42.602234 (173.94s)\n",
            "230000/300000: loss = 1.271, PSNR = 42.646492 (172.88s)\n",
            "231000/300000: loss = 1.264, PSNR = 42.624306 (174.08s)\n",
            "232000/300000: loss = 1.262, PSNR = 42.648232 (173.88s)\n",
            "233000/300000: loss = 1.274, PSNR = 42.656967 (173.72s)\n",
            "234000/300000: loss = 1.266, PSNR = 42.651131 (173.54s)\n",
            "235000/300000: loss = 1.268, PSNR = 42.627419 (173.85s)\n",
            "236000/300000: loss = 1.263, PSNR = 42.583038 (173.48s)\n",
            "237000/300000: loss = 1.269, PSNR = 42.651146 (173.66s)\n",
            "238000/300000: loss = 1.264, PSNR = 42.634071 (173.41s)\n",
            "239000/300000: loss = 1.264, PSNR = 42.621025 (173.45s)\n",
            "240000/300000: loss = 1.264, PSNR = 42.626896 (173.87s)\n",
            "241000/300000: loss = 1.263, PSNR = 42.624264 (172.99s)\n",
            "242000/300000: loss = 1.273, PSNR = 42.649323 (173.72s)\n",
            "243000/300000: loss = 1.263, PSNR = 42.613815 (174.33s)\n",
            "244000/300000: loss = 1.267, PSNR = 42.629089 (173.28s)\n",
            "245000/300000: loss = 1.258, PSNR = 42.629959 (173.83s)\n",
            "246000/300000: loss = 1.275, PSNR = 42.638977 (173.84s)\n",
            "247000/300000: loss = 1.258, PSNR = 42.639336 (173.50s)\n",
            "248000/300000: loss = 1.265, PSNR = 42.638847 (173.65s)\n",
            "249000/300000: loss = 1.276, PSNR = 42.656715 (173.48s)\n",
            "250000/300000: loss = 1.253, PSNR = 42.640144 (174.55s)\n",
            "251000/300000: loss = 1.251, PSNR = 42.654762 (174.49s)\n",
            "252000/300000: loss = 1.260, PSNR = 42.652046 (173.66s)\n",
            "253000/300000: loss = 1.270, PSNR = 42.649300 (173.70s)\n",
            "254000/300000: loss = 1.263, PSNR = 42.668190 (173.26s)\n",
            "255000/300000: loss = 1.257, PSNR = 42.653221 (174.21s)\n",
            "256000/300000: loss = 1.263, PSNR = 42.666103 (173.92s)\n",
            "257000/300000: loss = 1.256, PSNR = 42.663620 (174.45s)\n",
            "258000/300000: loss = 1.270, PSNR = 42.663349 (174.49s)\n",
            "259000/300000: loss = 1.273, PSNR = 42.646629 (173.92s)\n",
            "260000/300000: loss = 1.265, PSNR = 42.654942 (174.04s)\n",
            "261000/300000: loss = 1.260, PSNR = 42.660664 (173.96s)\n",
            "262000/300000: loss = 1.272, PSNR = 42.673695 (173.82s)\n",
            "263000/300000: loss = 1.259, PSNR = 42.636295 (173.77s)\n",
            "264000/300000: loss = 1.270, PSNR = 42.633656 (173.48s)\n",
            "265000/300000: loss = 1.260, PSNR = 42.680298 (174.15s)\n",
            "266000/300000: loss = 1.260, PSNR = 42.642281 (174.06s)\n",
            "267000/300000: loss = 1.265, PSNR = 42.631901 (174.70s)\n",
            "268000/300000: loss = 1.270, PSNR = 42.645710 (173.96s)\n",
            "269000/300000: loss = 1.262, PSNR = 42.656212 (174.10s)\n",
            "270000/300000: loss = 1.266, PSNR = 42.678658 (174.14s)\n",
            "271000/300000: loss = 1.258, PSNR = 42.694214 (174.39s)\n",
            "272000/300000: loss = 1.262, PSNR = 42.677742 (173.12s)\n",
            "273000/300000: loss = 1.268, PSNR = 42.679863 (174.19s)\n",
            "274000/300000: loss = 1.276, PSNR = 42.686699 (173.80s)\n",
            "275000/300000: loss = 1.260, PSNR = 42.693882 (173.53s)\n",
            "276000/300000: loss = 1.274, PSNR = 42.693623 (173.48s)\n",
            "277000/300000: loss = 1.263, PSNR = 42.703392 (174.84s)\n",
            "278000/300000: loss = 1.261, PSNR = 42.675961 (174.04s)\n",
            "279000/300000: loss = 1.265, PSNR = 42.693230 (173.64s)\n",
            "280000/300000: loss = 1.257, PSNR = 42.656544 (173.89s)\n",
            "281000/300000: loss = 1.268, PSNR = 42.681065 (173.93s)\n",
            "282000/300000: loss = 1.261, PSNR = 42.693844 (174.20s)\n",
            "283000/300000: loss = 1.263, PSNR = 42.707619 (174.02s)\n",
            "284000/300000: loss = 1.263, PSNR = 42.674847 (173.59s)\n",
            "285000/300000: loss = 1.264, PSNR = 42.706001 (174.18s)\n",
            "286000/300000: loss = 1.262, PSNR = 42.727516 (174.15s)\n",
            "287000/300000: loss = 1.256, PSNR = 42.707775 (174.35s)\n",
            "288000/300000: loss = 1.254, PSNR = 42.675812 (174.03s)\n",
            "289000/300000: loss = 1.257, PSNR = 42.705006 (174.25s)\n",
            "290000/300000: loss = 1.259, PSNR = 42.698769 (174.50s)\n",
            "291000/300000: loss = 1.259, PSNR = 42.700230 (174.05s)\n",
            "292000/300000: loss = 1.258, PSNR = 42.696812 (173.93s)\n",
            "293000/300000: loss = 1.251, PSNR = 42.723022 (173.84s)\n",
            "294000/300000: loss = 1.253, PSNR = 42.707108 (173.65s)\n",
            "295000/300000: loss = 1.264, PSNR = 42.693291 (173.54s)\n",
            "296000/300000: loss = 1.260, PSNR = 42.644634 (175.65s)\n",
            "297000/300000: loss = 1.260, PSNR = 42.687019 (175.70s)\n",
            "298000/300000: loss = 1.267, PSNR = 42.706268 (173.99s)\n",
            "299000/300000: loss = 1.262, PSNR = 42.690258 (173.47s)\n",
            "300000/300000: loss = 1.258, PSNR = 42.681313 (173.61s)\n"
          ]
        }
      ],
      "source": [
        "# Train WDSR B model for 300,000 steps and evaluate model\n",
        "# every 1000 steps on the first 10 images of the DIV2K\n",
        "# validation set. Save a checkpoint only if evaluation\n",
        "# PSNR has improved.\n",
        "# uncomment code below to train!\n",
        "trainer.train(train_ds,\n",
        "              valid_ds.take(10),\n",
        "              steps=300000, \n",
        "              evaluate_every=1000, \n",
        "              save_best_only=True)"
      ]
    },
    {
      "cell_type": "code",
      "execution_count": 13,
      "metadata": {
        "id": "COlp9NbtVvGw"
      },
      "outputs": [],
      "source": [
        "# Restore from checkpoint with highest PSNR\n",
        "trainer.restore()"
      ]
    },
    {
      "cell_type": "code",
      "execution_count": 10,
      "metadata": {
        "id": "n4E2Qt_tVvGw"
      },
      "outputs": [],
      "source": [
        "# Save weights to separate location (needed for demo)\n",
        "trainer.model.save_weights(weights_file)"
      ]
    },
    {
      "cell_type": "markdown",
      "metadata": {
        "id": "yjYWjmedVvGx"
      },
      "source": [
        "## Evaluation (PSNR Score)"
      ]
    },
    {
      "cell_type": "code",
      "execution_count": 11,
      "metadata": {
        "id": "KXHoZJnOVvGx"
      },
      "outputs": [
        {
          "name": "stdout",
          "output_type": "stream",
          "text": [
            "PSNR = 42.995735\n"
          ]
        }
      ],
      "source": [
        "# Evaluate model on full validation set\n",
        "psnr = trainer.evaluate(valid_ds)\n",
        "print(f'PSNR = {psnr.numpy():3f}')"
      ]
    },
    {
      "cell_type": "markdown",
      "metadata": {
        "id": "WW8nT4kvVvGx"
      },
      "source": [
        "## Demo"
      ]
    },
    {
      "cell_type": "code",
      "execution_count": 22,
      "metadata": {
        "id": "r9FVmwN_VvGx"
      },
      "outputs": [],
      "source": [
        "model = wdsr_b(scale=scale, num_res_blocks=depth)\n",
        "model.load_weights(weights_file)"
      ]
    },
    {
      "cell_type": "code",
      "execution_count": 23,
      "metadata": {
        "id": "ze6-YVkXVvGx"
      },
      "outputs": [],
      "source": [
        "from model import resolve_single\n",
        "from utils import load_image\n",
        "from PIL import Image\n",
        "import numpy as np\n",
        "\n",
        "def convert_and_plot(lr_image_path):\n",
        "    lr = np.array(Image.open(lr_image_path).convert('RGB'))\n",
        "    \n",
        "    sr = resolve_single(model, lr)\n",
        "    plot_sample(lr, sr)"
      ]
    },
    {
      "cell_type": "code",
      "execution_count": 24,
      "metadata": {
        "id": "nb4qM5VjVvGx"
      },
      "outputs": [],
      "source": [
        "from model import resolve_single\n",
        "from utils import load_image, plot_sample\n",
        "\n",
        "def resolve_and_plot(lr_image_path):\n",
        "    lr = load_image(lr_image_path)\n",
        "    sr = resolve_single(model, lr)\n",
        "    plot_sample(lr, sr)"
      ]
    },
    {
      "cell_type": "code",
      "execution_count": 25,
      "metadata": {
        "colab": {
          "base_uri": "https://localhost:8080/",
          "height": 558
        },
        "id": "zy2v6Nx-VvGy",
        "outputId": "fa690689-65fb-46f2-b60b-844208ce5ab0"
      },
      "outputs": [
        {
          "data": {
            "image/png": "[encoded data removed]",
            "text/plain": [
              "<Figure size 2000x1000 with 2 Axes>"
            ]
          },
          "metadata": {},
          "output_type": "display_data"
        }
      ],
      "source": [
        "new_image = '../new_dataset/PET-radiomics-challenges-kaggle/Training/1.3.6.1.4.1.14519.5.2.1.1707.8040.10059866353110167322451781.png'\n",
        "convert_and_plot(new_image)"
      ]
    },
    {
      "cell_type": "code",
      "execution_count": 26,
      "metadata": {
        "id": "pYOvgdbeVvGz"
      },
      "outputs": [
        {
          "name": "stdout",
          "output_type": "stream",
          "text": [
            "SSIM: 0.9767681294912379\n"
          ]
        }
      ],
      "source": [
        "from skimage.metrics import structural_similarity as compare_ssim\n",
        "import argparse\n",
        "import imutils\n",
        "import cv2\n",
        "new_image = '/home/iga/super-resolution-master/new_dataset/Y-90/downscaled/0150x4.png'\n",
        "# load the two input images\n",
        "lr = np.array(Image.open(new_image).convert('RGB'))\n",
        "sr = resolve_single(model, lr)\n",
        "imageA = cv2.imread('/home/iga/super-resolution-master/new_dataset/Y-90/normal/0150.png')\n",
        "imageB = np.array(sr)\n",
        "# convert the images to grayscale\n",
        "grayA = cv2.cvtColor(imageA, cv2.COLOR_RGB2GRAY)\n",
        "grayB = cv2.cvtColor(imageB, cv2.COLOR_RGB2GRAY)\n",
        "\n",
        "# compute the Structural Similarity Index (SSIM) between the two\n",
        "# images, ensuring that the difference image is returned\n",
        "(score, diff) = compare_ssim(grayA, grayB, full=True)\n",
        "diff = (diff * 255).astype(\"uint8\")\n",
        "print(\"SSIM: {}\".format(score))"
      ]
    }
  ],
  "metadata": {
    "accelerator": "GPU",
    "colab": {
      "name": "example-wdsr.ipynb",
      "provenance": []
    },
    "gpuClass": "standard",
    "interpreter": {
      "hash": "f63f6c5a1e439ec046f8b97d4e79145db6c2c86b7d748c10c29c9441a4011ee3"
    },
    "kernelspec": {
      "display_name": "Python 3.8.0 ('super-resolution')",
      "language": "python",
      "name": "python3"
    },
    "language_info": {
      "codemirror_mode": {
        "name": "ipython",
        "version": 3
      },
      "file_extension": ".py",
      "mimetype": "text/x-python",
      "name": "python",
      "nbconvert_exporter": "python",
      "pygments_lexer": "ipython3",
      "version": "3.8.0"
    },
    "vscode": {
      "interpreter": {
        "hash": "610c699f0cd8c4f129acd9140687fff6866bed0eb8e82f249fc8848b827b628c"
      }
    }
  },
  "nbformat": 4,
  "nbformat_minor": 0
}
