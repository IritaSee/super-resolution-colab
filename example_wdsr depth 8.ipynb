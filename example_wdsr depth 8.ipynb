{
  "cells": [
    {
      "cell_type": "markdown",
      "metadata": {
        "id": "LwtSCfE-VvGr"
      },
      "source": [
        "# WDSR"
      ]
    },
    {
      "cell_type": "code",
      "execution_count": null,
      "metadata": {},
      "outputs": [],
      "source": [
        "## for colab, make sure it uses python 3.8\n",
        "!sudo update-alternatives --config python3\n",
        "!sudo apt install python3-pip"
      ]
    },
    {
      "cell_type": "code",
      "execution_count": 1,
      "metadata": {
        "colab": {
          "base_uri": "https://localhost:8080/",
          "height": 1000
        },
        "id": "KFSI0pnyVvGt",
        "outputId": "27ecf32f-5c2b-4956-ea68-3a337ec2ffa5"
      },
      "outputs": [
        {
          "name": "stdout",
          "output_type": "stream",
          "text": [
            "Looking in indexes: https://pypi.org/simple, https://us-python.pkg.dev/colab-wheels/public/simple/\n",
            "Collecting tensorflow==2.3.1\n",
            "  Downloading tensorflow-2.3.1-cp37-cp37m-manylinux2010_x86_64.whl (320.4 MB)\n",
            "\u001b[K     |████████████████████████████████| 320.4 MB 24 kB/s \n",
            "\u001b[?25hCollecting tensorflow-addons==0.11.2\n",
            "  Downloading tensorflow_addons-0.11.2-cp37-cp37m-manylinux2010_x86_64.whl (1.1 MB)\n",
            "\u001b[K     |████████████████████████████████| 1.1 MB 11.3 MB/s \n",
            "\u001b[?25hRequirement already satisfied: absl-py>=0.7.0 in /usr/local/lib/python3.7/dist-packages (from tensorflow==2.3.1) (1.1.0)\n",
            "Requirement already satisfied: opt-einsum>=2.3.2 in /usr/local/lib/python3.7/dist-packages (from tensorflow==2.3.1) (3.3.0)\n",
            "Requirement already satisfied: wheel>=0.26 in /usr/local/lib/python3.7/dist-packages (from tensorflow==2.3.1) (0.37.1)\n",
            "Requirement already satisfied: termcolor>=1.1.0 in /usr/local/lib/python3.7/dist-packages (from tensorflow==2.3.1) (1.1.0)\n",
            "Collecting tensorflow-estimator<2.4.0,>=2.3.0\n",
            "  Downloading tensorflow_estimator-2.3.0-py2.py3-none-any.whl (459 kB)\n",
            "\u001b[K     |████████████████████████████████| 459 kB 72.0 MB/s \n",
            "\u001b[?25hCollecting gast==0.3.3\n",
            "  Downloading gast-0.3.3-py2.py3-none-any.whl (9.7 kB)\n",
            "Requirement already satisfied: astunparse==1.6.3 in /usr/local/lib/python3.7/dist-packages (from tensorflow==2.3.1) (1.6.3)\n",
            "Requirement already satisfied: protobuf>=3.9.2 in /usr/local/lib/python3.7/dist-packages (from tensorflow==2.3.1) (3.17.3)\n",
            "Collecting h5py<2.11.0,>=2.10.0\n",
            "  Downloading h5py-2.10.0-cp37-cp37m-manylinux1_x86_64.whl (2.9 MB)\n",
            "\u001b[K     |████████████████████████████████| 2.9 MB 51.3 MB/s \n",
            "\u001b[?25hRequirement already satisfied: six>=1.12.0 in /usr/local/lib/python3.7/dist-packages (from tensorflow==2.3.1) (1.15.0)\n",
            "Requirement already satisfied: google-pasta>=0.1.8 in /usr/local/lib/python3.7/dist-packages (from tensorflow==2.3.1) (0.2.0)\n",
            "Requirement already satisfied: grpcio>=1.8.6 in /usr/local/lib/python3.7/dist-packages (from tensorflow==2.3.1) (1.47.0)\n",
            "Requirement already satisfied: tensorboard<3,>=2.3.0 in /usr/local/lib/python3.7/dist-packages (from tensorflow==2.3.1) (2.8.0)\n",
            "Requirement already satisfied: keras-preprocessing<1.2,>=1.1.1 in /usr/local/lib/python3.7/dist-packages (from tensorflow==2.3.1) (1.1.2)\n",
            "Requirement already satisfied: wrapt>=1.11.1 in /usr/local/lib/python3.7/dist-packages (from tensorflow==2.3.1) (1.14.1)\n",
            "Collecting numpy<1.19.0,>=1.16.0\n",
            "  Downloading numpy-1.18.5-cp37-cp37m-manylinux1_x86_64.whl (20.1 MB)\n",
            "\u001b[K     |████████████████████████████████| 20.1 MB 1.2 MB/s \n",
            "\u001b[?25hRequirement already satisfied: typeguard>=2.7 in /usr/local/lib/python3.7/dist-packages (from tensorflow-addons==0.11.2) (2.7.1)\n",
            "Requirement already satisfied: tensorboard-data-server<0.7.0,>=0.6.0 in /usr/local/lib/python3.7/dist-packages (from tensorboard<3,>=2.3.0->tensorflow==2.3.1) (0.6.1)\n",
            "Requirement already satisfied: markdown>=2.6.8 in /usr/local/lib/python3.7/dist-packages (from tensorboard<3,>=2.3.0->tensorflow==2.3.1) (3.3.7)\n",
            "Requirement already satisfied: setuptools>=41.0.0 in /usr/local/lib/python3.7/dist-packages (from tensorboard<3,>=2.3.0->tensorflow==2.3.1) (57.4.0)\n",
            "Requirement already satisfied: google-auth<3,>=1.6.3 in /usr/local/lib/python3.7/dist-packages (from tensorboard<3,>=2.3.0->tensorflow==2.3.1) (1.35.0)\n",
            "Requirement already satisfied: werkzeug>=0.11.15 in /usr/local/lib/python3.7/dist-packages (from tensorboard<3,>=2.3.0->tensorflow==2.3.1) (1.0.1)\n",
            "Requirement already satisfied: requests<3,>=2.21.0 in /usr/local/lib/python3.7/dist-packages (from tensorboard<3,>=2.3.0->tensorflow==2.3.1) (2.23.0)\n",
            "Requirement already satisfied: tensorboard-plugin-wit>=1.6.0 in /usr/local/lib/python3.7/dist-packages (from tensorboard<3,>=2.3.0->tensorflow==2.3.1) (1.8.1)\n",
            "Requirement already satisfied: google-auth-oauthlib<0.5,>=0.4.1 in /usr/local/lib/python3.7/dist-packages (from tensorboard<3,>=2.3.0->tensorflow==2.3.1) (0.4.6)\n",
            "Requirement already satisfied: cachetools<5.0,>=2.0.0 in /usr/local/lib/python3.7/dist-packages (from google-auth<3,>=1.6.3->tensorboard<3,>=2.3.0->tensorflow==2.3.1) (4.2.4)\n",
            "Requirement already satisfied: rsa<5,>=3.1.4 in /usr/local/lib/python3.7/dist-packages (from google-auth<3,>=1.6.3->tensorboard<3,>=2.3.0->tensorflow==2.3.1) (4.8)\n",
            "Requirement already satisfied: pyasn1-modules>=0.2.1 in /usr/local/lib/python3.7/dist-packages (from google-auth<3,>=1.6.3->tensorboard<3,>=2.3.0->tensorflow==2.3.1) (0.2.8)\n",
            "Requirement already satisfied: requests-oauthlib>=0.7.0 in /usr/local/lib/python3.7/dist-packages (from google-auth-oauthlib<0.5,>=0.4.1->tensorboard<3,>=2.3.0->tensorflow==2.3.1) (1.3.1)\n",
            "Requirement already satisfied: importlib-metadata>=4.4 in /usr/local/lib/python3.7/dist-packages (from markdown>=2.6.8->tensorboard<3,>=2.3.0->tensorflow==2.3.1) (4.12.0)\n",
            "Requirement already satisfied: typing-extensions>=3.6.4 in /usr/local/lib/python3.7/dist-packages (from importlib-metadata>=4.4->markdown>=2.6.8->tensorboard<3,>=2.3.0->tensorflow==2.3.1) (4.1.1)\n",
            "Requirement already satisfied: zipp>=0.5 in /usr/local/lib/python3.7/dist-packages (from importlib-metadata>=4.4->markdown>=2.6.8->tensorboard<3,>=2.3.0->tensorflow==2.3.1) (3.8.0)\n",
            "Requirement already satisfied: pyasn1<0.5.0,>=0.4.6 in /usr/local/lib/python3.7/dist-packages (from pyasn1-modules>=0.2.1->google-auth<3,>=1.6.3->tensorboard<3,>=2.3.0->tensorflow==2.3.1) (0.4.8)\n",
            "Requirement already satisfied: idna<3,>=2.5 in /usr/local/lib/python3.7/dist-packages (from requests<3,>=2.21.0->tensorboard<3,>=2.3.0->tensorflow==2.3.1) (2.10)\n",
            "Requirement already satisfied: chardet<4,>=3.0.2 in /usr/local/lib/python3.7/dist-packages (from requests<3,>=2.21.0->tensorboard<3,>=2.3.0->tensorflow==2.3.1) (3.0.4)\n",
            "Requirement already satisfied: certifi>=2017.4.17 in /usr/local/lib/python3.7/dist-packages (from requests<3,>=2.21.0->tensorboard<3,>=2.3.0->tensorflow==2.3.1) (2022.6.15)\n",
            "Requirement already satisfied: urllib3!=1.25.0,!=1.25.1,<1.26,>=1.21.1 in /usr/local/lib/python3.7/dist-packages (from requests<3,>=2.21.0->tensorboard<3,>=2.3.0->tensorflow==2.3.1) (1.24.3)\n",
            "Requirement already satisfied: oauthlib>=3.0.0 in /usr/local/lib/python3.7/dist-packages (from requests-oauthlib>=0.7.0->google-auth-oauthlib<0.5,>=0.4.1->tensorboard<3,>=2.3.0->tensorflow==2.3.1) (3.2.0)\n",
            "Installing collected packages: numpy, tensorflow-estimator, h5py, gast, tensorflow-addons, tensorflow\n",
            "  Attempting uninstall: numpy\n",
            "    Found existing installation: numpy 1.21.6\n",
            "    Uninstalling numpy-1.21.6:\n",
            "      Successfully uninstalled numpy-1.21.6\n",
            "  Attempting uninstall: tensorflow-estimator\n",
            "    Found existing installation: tensorflow-estimator 2.8.0\n",
            "    Uninstalling tensorflow-estimator-2.8.0:\n",
            "      Successfully uninstalled tensorflow-estimator-2.8.0\n",
            "  Attempting uninstall: h5py\n",
            "    Found existing installation: h5py 3.1.0\n",
            "    Uninstalling h5py-3.1.0:\n",
            "      Successfully uninstalled h5py-3.1.0\n",
            "  Attempting uninstall: gast\n",
            "    Found existing installation: gast 0.5.3\n",
            "    Uninstalling gast-0.5.3:\n",
            "      Successfully uninstalled gast-0.5.3\n",
            "  Attempting uninstall: tensorflow\n",
            "    Found existing installation: tensorflow 2.8.2+zzzcolab20220629235552\n",
            "    Uninstalling tensorflow-2.8.2+zzzcolab20220629235552:\n",
            "      Successfully uninstalled tensorflow-2.8.2+zzzcolab20220629235552\n",
            "\u001b[31mERROR: pip's dependency resolver does not currently take into account all the packages that are installed. This behaviour is the source of the following dependency conflicts.\n",
            "xarray-einstats 0.2.2 requires numpy>=1.21, but you have numpy 1.18.5 which is incompatible.\n",
            "tables 3.7.0 requires numpy>=1.19.0, but you have numpy 1.18.5 which is incompatible.\n",
            "jaxlib 0.3.14+cuda11.cudnn805 requires numpy>=1.19, but you have numpy 1.18.5 which is incompatible.\n",
            "jax 0.3.14 requires numpy>=1.19, but you have numpy 1.18.5 which is incompatible.\n",
            "datascience 0.10.6 requires folium==0.2.1, but you have folium 0.8.3 which is incompatible.\n",
            "albumentations 0.1.12 requires imgaug<0.2.7,>=0.2.5, but you have imgaug 0.2.9 which is incompatible.\u001b[0m\n",
            "Successfully installed gast-0.3.3 h5py-2.10.0 numpy-1.18.5 tensorflow-2.3.1 tensorflow-addons-0.11.2 tensorflow-estimator-2.3.0\n"
          ]
        },
        {
          "data": {
            "application/vnd.colab-display-data+json": {
              "pip_warning": {
                "packages": [
                  "numpy"
                ]
              }
            }
          },
          "metadata": {},
          "output_type": "display_data"
        }
      ],
      "source": [
        "#COLAB environment setup:\n",
        "!pip install tensorflow-gpu==2.3.1 tensorflow-addons==0.11.2 ## replace to !pip install tensorflow for CPU"
      ]
    },
    {
      "cell_type": "code",
      "execution_count": 2,
      "metadata": {
        "colab": {
          "base_uri": "https://localhost:8080/"
        },
        "id": "__6lirCVVvGt",
        "outputId": "8d90b029-0387-4772-aa1f-18f9995e1db3"
      },
      "outputs": [
        {
          "name": "stdout",
          "output_type": "stream",
          "text": [
            "Cloning into 'super-resolution'...\n",
            "remote: Enumerating objects: 408, done.\u001b[K\n",
            "remote: Counting objects: 100% (3/3), done.\u001b[K\n",
            "remote: Compressing objects: 100% (2/2), done.\u001b[K\n",
            "remote: Total 408 (delta 0), reused 2 (delta 0), pack-reused 405\u001b[K\n",
            "Receiving objects: 100% (408/408), 48.16 MiB | 40.52 MiB/s, done.\n",
            "Resolving deltas: 100% (214/214), done.\n"
          ]
        }
      ],
      "source": [
        "!git clone https://github.com/IritaSee/super-resolution-colab.git"
      ]
    },
    {
      "cell_type": "code",
      "execution_count": 3,
      "metadata": {
        "colab": {
          "base_uri": "https://localhost:8080/"
        },
        "id": "HS3lK49GVvGu",
        "outputId": "19d038ae-bcea-40be-a899-4b3df2bf523d"
      },
      "outputs": [
        {
          "name": "stdout",
          "output_type": "stream",
          "text": [
            "/content/super-resolution\n"
          ]
        }
      ],
      "source": [
        "%cd super-resolution"
      ]
    },
    {
      "cell_type": "code",
      "execution_count": 1,
      "metadata": {
        "colab": {
          "base_uri": "https://localhost:8080/"
        },
        "id": "izMuZBROVvGu",
        "outputId": "2ce523d9-b0fd-4c53-f8b8-a0d4f9a65dbd"
      },
      "outputs": [
        {
          "name": "stdout",
          "output_type": "stream",
          "text": [
            "article.ipynb\t\texample_edsr.ipynb   README.md\n",
            "data_engineering.ipynb\texample_srgan.ipynb  train.py\n",
            "data.py\t\t\texample_wdsr.ipynb   utils.py\n",
            "demo\t\t\tLICENSE\t\t     weights\n",
            "docs\t\t\tmodel\t\t     weights-edsr-16-x4.tar.gz\n",
            "environment.yml\t\t__pycache__\n"
          ]
        }
      ],
      "source": [
        "!ls"
      ]
    },
    {
      "cell_type": "code",
      "execution_count": 1,
      "metadata": {
        "id": "eYOV_NZTVvGu"
      },
      "outputs": [
        {
          "name": "stderr",
          "output_type": "stream",
          "text": [
            "2022-12-22 20:31:18.221512: I tensorflow/stream_executor/platform/default/dso_loader.cc:48] Successfully opened dynamic library libcudart.so.10.1\n"
          ]
        }
      ],
      "source": [
        "import os\n",
        "import matplotlib.pyplot as plt\n",
        "\n",
        "from data import DIV2K\n",
        "from model.wdsr import wdsr_b\n",
        "from train import WdsrTrainer\n",
        "\n",
        "%matplotlib inline"
      ]
    },
    {
      "cell_type": "code",
      "execution_count": 2,
      "metadata": {
        "id": "H3SNNDklVvGu"
      },
      "outputs": [],
      "source": [
        "# Number of residual blocks\n",
        "# depth = 32\n",
        "# depth = 16\n",
        "depth = 8\n",
        "\n",
        "# Super-resolution factor\n",
        "scale = 4 #ini jangan di ganti, ngaruh ke dataset\n",
        "\n",
        "# Downgrade operator\n",
        "downgrade = 'bicubic'"
      ]
    },
    {
      "cell_type": "code",
      "execution_count": 3,
      "metadata": {
        "id": "36Q3IBy_VvGu"
      },
      "outputs": [],
      "source": [
        "# Location of model weights (needed for demo)\n",
        "weights_dir = f'weights/wdsr-b-{depth}-x{scale}'\n",
        "weights_file = os.path.join(weights_dir, 'weights_16_as_depth.h5')\n",
        "\n",
        "os.makedirs(weights_dir, exist_ok=True)"
      ]
    },
    {
      "cell_type": "markdown",
      "metadata": {
        "id": "dBqgGosZVvGu"
      },
      "source": [
        "## Datasets\n",
        "\n",
        "You don't need to download the DIV2K dataset as the required parts are automatically downloaded by the `DIV2K` class. By default, DIV2K images are stored in folder `.div2k` in the project's root directory."
      ]
    },
    {
      "cell_type": "code",
      "execution_count": 8,
      "metadata": {
        "colab": {
          "base_uri": "https://localhost:8080/"
        },
        "id": "eZeJpACsVvGv",
        "outputId": "ab2dfea9-e403-43a3-f890-dc940da08954"
      },
      "outputs": [
        {
          "name": "stdout",
          "output_type": "stream",
          "text": [
            "Mounted at /content/drive\n"
          ]
        }
      ],
      "source": [
        "# from google.colab import drive\n",
        "# drive.mount('/content/drive')"
      ]
    },
    {
      "cell_type": "code",
      "execution_count": 4,
      "metadata": {
        "id": "-2Bwk_EnVvGv"
      },
      "outputs": [],
      "source": [
        "div2k_train = DIV2K(scale=scale, subset='train', downgrade=downgrade)\n",
        "div2k_valid = DIV2K(scale=scale, subset='valid', downgrade=downgrade)"
      ]
    },
    {
      "cell_type": "code",
      "execution_count": 5,
      "metadata": {
        "id": "qO_GFAq5VvGv"
      },
      "outputs": [
        {
          "name": "stderr",
          "output_type": "stream",
          "text": [
            "2022-12-22 20:31:39.338828: I tensorflow/stream_executor/platform/default/dso_loader.cc:48] Successfully opened dynamic library libcuda.so.1\n",
            "2022-12-22 20:31:39.361941: I tensorflow/stream_executor/cuda/cuda_gpu_executor.cc:982] successful NUMA node read from SysFS had negative value (-1), but there must be at least one NUMA node, so returning NUMA node zero\n",
            "2022-12-22 20:31:39.362079: I tensorflow/core/common_runtime/gpu/gpu_device.cc:1716] Found device 0 with properties: \n",
            "pciBusID: 0000:01:00.0 name: NVIDIA GeForce GTX 1660 Ti with Max-Q Design computeCapability: 7.5\n",
            "coreClock: 1.335GHz coreCount: 24 deviceMemorySize: 5.80GiB deviceMemoryBandwidth: 268.26GiB/s\n",
            "2022-12-22 20:31:39.362096: I tensorflow/stream_executor/platform/default/dso_loader.cc:48] Successfully opened dynamic library libcudart.so.10.1\n",
            "2022-12-22 20:31:39.363402: I tensorflow/stream_executor/platform/default/dso_loader.cc:48] Successfully opened dynamic library libcublas.so.10\n",
            "2022-12-22 20:31:39.387961: I tensorflow/stream_executor/platform/default/dso_loader.cc:48] Successfully opened dynamic library libcufft.so.10\n",
            "2022-12-22 20:31:39.388266: I tensorflow/stream_executor/platform/default/dso_loader.cc:48] Successfully opened dynamic library libcurand.so.10\n",
            "2022-12-22 20:31:39.390001: I tensorflow/stream_executor/platform/default/dso_loader.cc:48] Successfully opened dynamic library libcusolver.so.10\n",
            "2022-12-22 20:31:39.390855: I tensorflow/stream_executor/platform/default/dso_loader.cc:48] Successfully opened dynamic library libcusparse.so.10\n",
            "2022-12-22 20:31:39.391001: W tensorflow/stream_executor/platform/default/dso_loader.cc:59] Could not load dynamic library 'libcudnn.so.7'; dlerror: libcudnn.so.7: cannot open shared object file: No such file or directory\n",
            "2022-12-22 20:31:39.391008: W tensorflow/core/common_runtime/gpu/gpu_device.cc:1753] Cannot dlopen some GPU libraries. Please make sure the missing libraries mentioned above are installed properly if you would like to use GPU. Follow the guide at https://www.tensorflow.org/install/gpu for how to download and setup the required libraries for your platform.\n",
            "Skipping registering GPU devices...\n",
            "2022-12-22 20:31:39.391552: I tensorflow/core/platform/cpu_feature_guard.cc:142] This TensorFlow binary is optimized with oneAPI Deep Neural Network Library (oneDNN)to use the following CPU instructions in performance-critical operations:  AVX2 FMA\n",
            "To enable them in other operations, rebuild TensorFlow with the appropriate compiler flags.\n",
            "2022-12-22 20:31:39.421551: I tensorflow/core/platform/profile_utils/cpu_utils.cc:104] CPU Frequency: 2599990000 Hz\n",
            "2022-12-22 20:31:39.422308: I tensorflow/compiler/xla/service/service.cc:168] XLA service 0x55760133b1c0 initialized for platform Host (this does not guarantee that XLA will be used). Devices:\n",
            "2022-12-22 20:31:39.422335: I tensorflow/compiler/xla/service/service.cc:176]   StreamExecutor device (0): Host, Default Version\n",
            "2022-12-22 20:31:39.423615: I tensorflow/core/common_runtime/gpu/gpu_device.cc:1257] Device interconnect StreamExecutor with strength 1 edge matrix:\n",
            "2022-12-22 20:31:39.423623: I tensorflow/core/common_runtime/gpu/gpu_device.cc:1263]      \n"
          ]
        }
      ],
      "source": [
        "train_ds = div2k_train.dataset(batch_size=16, random_transform=True)\n",
        "valid_ds = div2k_valid.dataset(batch_size=1, random_transform=False, repeat_count=1)"
      ]
    },
    {
      "cell_type": "markdown",
      "metadata": {
        "id": "LW5aTX5vVvGv"
      },
      "source": [
        "## Training\n",
        "\n",
        "### Pre-trained models\n",
        "\n",
        "If you want to skip training and directly run the demo below, download [weights-wdsr-b-32-x4.tar.gz](https://martin-krasser.de/sisr/weights-wdsr-b-32-x4.tar.gz) and extract the archive in the project's root directory. This will create a `weights/wdsr-b-32-x4` directory containing the weights of the pre-trained model."
      ]
    },
    {
      "cell_type": "code",
      "execution_count": 9,
      "metadata": {
        "colab": {
          "base_uri": "https://localhost:8080/"
        },
        "id": "WoDa5DRbVvGv",
        "outputId": "b5598af4-630d-403c-9823-e4d43c96ed78"
      },
      "outputs": [
        {
          "name": "stdout",
          "output_type": "stream",
          "text": [
            "--2022-07-13 20:56:58--  https://martin-krasser.de/sisr/weights-wdsr-b-32-x4.tar.gz\n",
            "Resolving martin-krasser.de (martin-krasser.de)... 217.160.0.142, 2001:8d8:100f:f000::209\n",
            "Connecting to martin-krasser.de (martin-krasser.de)|217.160.0.142|:443... connected.\n",
            "HTTP request sent, awaiting response... 200 OK\n",
            "Length: 2328140 (2.2M) [application/gzip]\n",
            "Saving to: ‘weights-wdsr-b-32-x4.tar.gz’\n",
            "\n",
            "weights-wdsr-b-32-x 100%[===================>]   2.22M  3.46MB/s    in 0.6s    \n",
            "\n",
            "2022-07-13 20:56:59 (3.46 MB/s) - ‘weights-wdsr-b-32-x4.tar.gz’ saved [2328140/2328140]\n",
            "\n"
          ]
        }
      ],
      "source": [
        "!wget https://martin-krasser.de/sisr/weights-wdsr-b-32-x4.tar.gz"
      ]
    },
    {
      "cell_type": "code",
      "execution_count": 10,
      "metadata": {
        "id": "SQ6DAUh0VvGw"
      },
      "outputs": [],
      "source": [
        "! tar -xf weights-wdsr-b-32-x4.tar.gz"
      ]
    },
    {
      "cell_type": "code",
      "execution_count": 6,
      "metadata": {
        "id": "5so1sfCsVvGw"
      },
      "outputs": [],
      "source": [
        "trainer = WdsrTrainer(model=wdsr_b(scale=scale, num_res_blocks=depth), \n",
        "                      checkpoint_dir=f'.ckpt/wdsr-b-{depth}-x{scale}')"
      ]
    },
    {
      "cell_type": "code",
      "execution_count": 7,
      "metadata": {
        "id": "z4qifY3HVvGw",
        "scrolled": true
      },
      "outputs": [
        {
          "name": "stdout",
          "output_type": "stream",
          "text": [
            "1000/300000: loss = 4.232, PSNR = 36.783241 (101.33s)\n",
            "2000/300000: loss = 2.371, PSNR = 37.998207 (92.94s)\n",
            "3000/300000: loss = 2.121, PSNR = 38.934093 (92.63s)\n",
            "4000/300000: loss = 1.978, PSNR = 39.379303 (93.68s)\n",
            "5000/300000: loss = 1.928, PSNR = 39.683113 (92.47s)\n",
            "6000/300000: loss = 1.856, PSNR = 39.784153 (92.60s)\n",
            "7000/300000: loss = 1.816, PSNR = 40.166046 (92.72s)\n",
            "8000/300000: loss = 1.759, PSNR = 40.148407 (92.90s)\n",
            "9000/300000: loss = 1.745, PSNR = 40.191246 (92.40s)\n",
            "10000/300000: loss = 1.700, PSNR = 40.310814 (92.92s)\n",
            "11000/300000: loss = 1.691, PSNR = 40.489033 (92.41s)\n",
            "12000/300000: loss = 1.663, PSNR = 40.538555 (92.31s)\n",
            "13000/300000: loss = 1.649, PSNR = 40.671856 (92.71s)\n",
            "14000/300000: loss = 1.623, PSNR = 40.457851 (92.58s)\n",
            "15000/300000: loss = 1.614, PSNR = 40.724152 (92.14s)\n",
            "16000/300000: loss = 1.606, PSNR = 40.827511 (92.54s)\n",
            "17000/300000: loss = 1.587, PSNR = 40.893852 (92.47s)\n",
            "18000/300000: loss = 1.572, PSNR = 40.910500 (92.37s)\n",
            "19000/300000: loss = 1.576, PSNR = 41.006462 (92.38s)\n",
            "20000/300000: loss = 1.559, PSNR = 41.049129 (92.04s)\n",
            "21000/300000: loss = 1.565, PSNR = 41.133430 (91.99s)\n",
            "22000/300000: loss = 1.550, PSNR = 41.073944 (92.22s)\n",
            "23000/300000: loss = 1.534, PSNR = 41.030342 (91.78s)\n",
            "24000/300000: loss = 1.536, PSNR = 41.053040 (92.11s)\n",
            "25000/300000: loss = 1.533, PSNR = 41.285851 (92.04s)\n",
            "26000/300000: loss = 1.534, PSNR = 41.247028 (92.39s)\n",
            "27000/300000: loss = 1.523, PSNR = 41.168030 (91.87s)\n",
            "28000/300000: loss = 1.516, PSNR = 41.262402 (92.29s)\n",
            "29000/300000: loss = 1.508, PSNR = 41.268543 (92.24s)\n",
            "30000/300000: loss = 1.496, PSNR = 41.263966 (92.06s)\n",
            "31000/300000: loss = 1.489, PSNR = 41.250969 (91.85s)\n",
            "32000/300000: loss = 1.493, PSNR = 41.342987 (91.83s)\n",
            "33000/300000: loss = 1.488, PSNR = 41.300243 (92.18s)\n",
            "34000/300000: loss = 1.495, PSNR = 41.385365 (92.30s)\n",
            "35000/300000: loss = 1.482, PSNR = 41.298679 (91.93s)\n",
            "36000/300000: loss = 1.473, PSNR = 41.349285 (91.73s)\n",
            "37000/300000: loss = 1.471, PSNR = 41.468864 (91.90s)\n",
            "38000/300000: loss = 1.471, PSNR = 41.505234 (91.92s)\n",
            "39000/300000: loss = 1.454, PSNR = 41.440071 (92.04s)\n",
            "40000/300000: loss = 1.471, PSNR = 41.495689 (92.48s)\n",
            "41000/300000: loss = 1.475, PSNR = 41.433605 (91.86s)\n",
            "42000/300000: loss = 1.455, PSNR = 41.523014 (91.92s)\n",
            "43000/300000: loss = 1.469, PSNR = 41.426964 (92.03s)\n",
            "44000/300000: loss = 1.467, PSNR = 41.509644 (92.05s)\n",
            "45000/300000: loss = 1.461, PSNR = 41.464348 (91.94s)\n",
            "46000/300000: loss = 1.465, PSNR = 41.522728 (91.84s)\n",
            "47000/300000: loss = 1.459, PSNR = 41.570454 (92.04s)\n",
            "48000/300000: loss = 1.465, PSNR = 41.533485 (92.25s)\n",
            "49000/300000: loss = 1.450, PSNR = 41.567883 (91.96s)\n",
            "50000/300000: loss = 1.447, PSNR = 41.474518 (92.30s)\n",
            "51000/300000: loss = 1.453, PSNR = 41.522808 (91.70s)\n",
            "52000/300000: loss = 1.447, PSNR = 41.313103 (92.08s)\n",
            "53000/300000: loss = 1.451, PSNR = 41.537811 (92.55s)\n",
            "54000/300000: loss = 1.442, PSNR = 41.361382 (92.05s)\n",
            "55000/300000: loss = 1.443, PSNR = 41.574608 (92.54s)\n",
            "56000/300000: loss = 1.428, PSNR = 41.623611 (92.33s)\n",
            "57000/300000: loss = 1.439, PSNR = 41.609718 (92.01s)\n",
            "58000/300000: loss = 1.425, PSNR = 41.576607 (91.79s)\n",
            "59000/300000: loss = 1.440, PSNR = 41.636330 (92.22s)\n",
            "60000/300000: loss = 1.424, PSNR = 41.646461 (92.00s)\n",
            "61000/300000: loss = 1.423, PSNR = 41.688812 (91.84s)\n",
            "62000/300000: loss = 1.429, PSNR = 41.538563 (92.18s)\n",
            "63000/300000: loss = 1.434, PSNR = 41.641987 (92.12s)\n",
            "64000/300000: loss = 1.429, PSNR = 41.621197 (91.80s)\n",
            "65000/300000: loss = 1.436, PSNR = 41.559376 (92.38s)\n",
            "66000/300000: loss = 1.421, PSNR = 41.652668 (91.77s)\n",
            "67000/300000: loss = 1.414, PSNR = 41.610218 (91.94s)\n",
            "68000/300000: loss = 1.420, PSNR = 41.596287 (92.14s)\n",
            "69000/300000: loss = 1.417, PSNR = 41.696342 (91.90s)\n",
            "70000/300000: loss = 1.415, PSNR = 41.715012 (91.84s)\n",
            "71000/300000: loss = 1.423, PSNR = 41.749649 (92.55s)\n",
            "72000/300000: loss = 1.409, PSNR = 41.679817 (92.04s)\n",
            "73000/300000: loss = 1.426, PSNR = 41.654007 (92.75s)\n",
            "74000/300000: loss = 1.423, PSNR = 41.640816 (92.16s)\n",
            "75000/300000: loss = 1.411, PSNR = 41.626648 (91.87s)\n",
            "76000/300000: loss = 1.419, PSNR = 41.736839 (91.97s)\n",
            "77000/300000: loss = 1.417, PSNR = 41.695572 (91.90s)\n",
            "78000/300000: loss = 1.417, PSNR = 41.743664 (91.73s)\n",
            "79000/300000: loss = 1.416, PSNR = 41.656975 (92.39s)\n",
            "80000/300000: loss = 1.408, PSNR = 41.755394 (92.46s)\n",
            "81000/300000: loss = 1.412, PSNR = 41.766827 (93.25s)\n",
            "82000/300000: loss = 1.408, PSNR = 41.764359 (93.25s)\n",
            "83000/300000: loss = 1.404, PSNR = 41.772705 (93.67s)\n",
            "84000/300000: loss = 1.403, PSNR = 41.752937 (93.36s)\n",
            "85000/300000: loss = 1.411, PSNR = 41.789936 (92.96s)\n",
            "86000/300000: loss = 1.401, PSNR = 41.633312 (93.38s)\n",
            "87000/300000: loss = 1.406, PSNR = 41.743904 (93.04s)\n",
            "88000/300000: loss = 1.398, PSNR = 41.773941 (93.74s)\n",
            "89000/300000: loss = 1.391, PSNR = 41.779709 (93.97s)\n",
            "90000/300000: loss = 1.402, PSNR = 41.725395 (92.81s)\n",
            "91000/300000: loss = 1.403, PSNR = 41.770531 (93.40s)\n",
            "92000/300000: loss = 1.405, PSNR = 41.742924 (93.54s)\n",
            "93000/300000: loss = 1.407, PSNR = 41.807072 (93.50s)\n",
            "94000/300000: loss = 1.407, PSNR = 41.798607 (93.50s)\n",
            "95000/300000: loss = 1.397, PSNR = 41.752869 (93.55s)\n",
            "96000/300000: loss = 1.397, PSNR = 41.820442 (93.36s)\n",
            "97000/300000: loss = 1.387, PSNR = 41.787457 (92.99s)\n",
            "98000/300000: loss = 1.402, PSNR = 41.770283 (93.75s)\n",
            "99000/300000: loss = 1.395, PSNR = 41.629150 (93.20s)\n",
            "100000/300000: loss = 1.403, PSNR = 41.829266 (94.04s)\n",
            "101000/300000: loss = 1.389, PSNR = 41.686916 (93.46s)\n",
            "102000/300000: loss = 1.392, PSNR = 41.737404 (93.42s)\n",
            "103000/300000: loss = 1.399, PSNR = 41.766800 (93.27s)\n",
            "104000/300000: loss = 1.392, PSNR = 41.808231 (93.52s)\n",
            "105000/300000: loss = 1.397, PSNR = 41.822540 (93.20s)\n",
            "106000/300000: loss = 1.389, PSNR = 41.683205 (93.82s)\n",
            "107000/300000: loss = 1.378, PSNR = 41.819336 (93.45s)\n",
            "108000/300000: loss = 1.391, PSNR = 41.828159 (93.35s)\n",
            "109000/300000: loss = 1.396, PSNR = 41.816582 (93.08s)\n",
            "110000/300000: loss = 1.398, PSNR = 41.848473 (93.54s)\n",
            "111000/300000: loss = 1.390, PSNR = 41.823231 (93.23s)\n",
            "112000/300000: loss = 1.381, PSNR = 41.782703 (93.52s)\n",
            "113000/300000: loss = 1.397, PSNR = 41.838139 (93.41s)\n",
            "114000/300000: loss = 1.387, PSNR = 41.865654 (93.51s)\n",
            "115000/300000: loss = 1.378, PSNR = 41.838371 (92.10s)\n",
            "116000/300000: loss = 1.387, PSNR = 41.838116 (91.92s)\n",
            "117000/300000: loss = 1.383, PSNR = 41.817158 (91.52s)\n",
            "118000/300000: loss = 1.388, PSNR = 41.760052 (91.95s)\n",
            "119000/300000: loss = 1.385, PSNR = 41.818226 (91.92s)\n",
            "120000/300000: loss = 1.386, PSNR = 41.750668 (91.94s)\n",
            "121000/300000: loss = 1.386, PSNR = 41.887764 (92.28s)\n",
            "122000/300000: loss = 1.374, PSNR = 41.914410 (91.90s)\n",
            "123000/300000: loss = 1.382, PSNR = 41.876209 (92.17s)\n",
            "124000/300000: loss = 1.379, PSNR = 41.872204 (92.27s)\n",
            "125000/300000: loss = 1.374, PSNR = 41.844978 (92.26s)\n",
            "126000/300000: loss = 1.386, PSNR = 41.891975 (91.78s)\n",
            "127000/300000: loss = 1.374, PSNR = 41.816357 (92.23s)\n",
            "128000/300000: loss = 1.372, PSNR = 41.827309 (91.91s)\n",
            "129000/300000: loss = 1.384, PSNR = 41.856071 (92.12s)\n",
            "130000/300000: loss = 1.370, PSNR = 41.793282 (91.90s)\n",
            "131000/300000: loss = 1.383, PSNR = 41.862652 (92.30s)\n",
            "132000/300000: loss = 1.382, PSNR = 41.830170 (92.07s)\n",
            "133000/300000: loss = 1.377, PSNR = 41.908512 (91.68s)\n",
            "134000/300000: loss = 1.386, PSNR = 41.875435 (92.75s)\n",
            "135000/300000: loss = 1.379, PSNR = 41.917961 (91.98s)\n",
            "136000/300000: loss = 1.379, PSNR = 41.900856 (92.11s)\n",
            "137000/300000: loss = 1.372, PSNR = 41.933628 (92.28s)\n",
            "138000/300000: loss = 1.376, PSNR = 41.833168 (91.88s)\n",
            "139000/300000: loss = 1.380, PSNR = 41.931499 (91.79s)\n",
            "140000/300000: loss = 1.386, PSNR = 41.874378 (92.05s)\n",
            "141000/300000: loss = 1.378, PSNR = 41.928581 (91.94s)\n",
            "142000/300000: loss = 1.383, PSNR = 41.840614 (91.52s)\n",
            "143000/300000: loss = 1.371, PSNR = 41.917370 (92.13s)\n",
            "144000/300000: loss = 1.364, PSNR = 41.848602 (91.84s)\n",
            "145000/300000: loss = 1.377, PSNR = 41.913517 (91.67s)\n",
            "146000/300000: loss = 1.388, PSNR = 41.898777 (91.87s)\n",
            "147000/300000: loss = 1.377, PSNR = 41.829987 (92.18s)\n",
            "148000/300000: loss = 1.377, PSNR = 41.936756 (92.25s)\n",
            "149000/300000: loss = 1.387, PSNR = 41.974781 (92.21s)\n",
            "150000/300000: loss = 1.386, PSNR = 41.860504 (92.17s)\n",
            "151000/300000: loss = 1.374, PSNR = 41.942284 (92.02s)\n",
            "152000/300000: loss = 1.378, PSNR = 41.920685 (92.03s)\n",
            "153000/300000: loss = 1.373, PSNR = 41.915436 (91.68s)\n",
            "154000/300000: loss = 1.373, PSNR = 41.929573 (92.14s)\n",
            "155000/300000: loss = 1.381, PSNR = 41.939617 (92.46s)\n",
            "156000/300000: loss = 1.378, PSNR = 41.926994 (92.22s)\n",
            "157000/300000: loss = 1.375, PSNR = 41.948605 (91.69s)\n",
            "158000/300000: loss = 1.373, PSNR = 41.964783 (92.12s)\n",
            "159000/300000: loss = 1.369, PSNR = 41.958618 (91.91s)\n",
            "160000/300000: loss = 1.381, PSNR = 41.953362 (91.87s)\n",
            "161000/300000: loss = 1.362, PSNR = 41.946190 (92.57s)\n",
            "162000/300000: loss = 1.374, PSNR = 41.876957 (91.49s)\n",
            "163000/300000: loss = 1.365, PSNR = 41.972321 (91.96s)\n",
            "164000/300000: loss = 1.381, PSNR = 41.958740 (91.90s)\n",
            "165000/300000: loss = 1.367, PSNR = 41.925472 (91.75s)\n",
            "166000/300000: loss = 1.366, PSNR = 41.926006 (91.74s)\n",
            "167000/300000: loss = 1.369, PSNR = 41.935417 (92.34s)\n",
            "168000/300000: loss = 1.359, PSNR = 41.947781 (91.98s)\n",
            "169000/300000: loss = 1.372, PSNR = 41.956402 (92.34s)\n",
            "170000/300000: loss = 1.369, PSNR = 41.972401 (92.79s)\n",
            "171000/300000: loss = 1.354, PSNR = 41.922508 (91.85s)\n",
            "172000/300000: loss = 1.373, PSNR = 41.971725 (92.62s)\n",
            "173000/300000: loss = 1.366, PSNR = 41.948536 (92.34s)\n",
            "174000/300000: loss = 1.368, PSNR = 41.997387 (92.16s)\n",
            "175000/300000: loss = 1.375, PSNR = 41.969807 (91.68s)\n",
            "176000/300000: loss = 1.360, PSNR = 41.927246 (92.33s)\n",
            "177000/300000: loss = 1.378, PSNR = 41.957783 (91.69s)\n",
            "178000/300000: loss = 1.371, PSNR = 41.970264 (91.73s)\n",
            "179000/300000: loss = 1.362, PSNR = 41.966728 (92.57s)\n",
            "180000/300000: loss = 1.361, PSNR = 41.925850 (91.81s)\n",
            "181000/300000: loss = 1.362, PSNR = 41.979790 (91.84s)\n",
            "182000/300000: loss = 1.369, PSNR = 41.979279 (92.07s)\n",
            "183000/300000: loss = 1.372, PSNR = 41.936928 (91.97s)\n",
            "184000/300000: loss = 1.361, PSNR = 41.975788 (91.92s)\n",
            "185000/300000: loss = 1.370, PSNR = 41.975410 (92.19s)\n",
            "186000/300000: loss = 1.368, PSNR = 41.964485 (92.06s)\n",
            "187000/300000: loss = 1.384, PSNR = 41.920738 (92.62s)\n",
            "188000/300000: loss = 1.372, PSNR = 41.957787 (92.07s)\n",
            "189000/300000: loss = 1.377, PSNR = 41.963470 (91.83s)\n",
            "190000/300000: loss = 1.362, PSNR = 42.017529 (92.84s)\n",
            "191000/300000: loss = 1.363, PSNR = 41.960014 (92.28s)\n",
            "192000/300000: loss = 1.366, PSNR = 41.963909 (91.74s)\n",
            "193000/300000: loss = 1.366, PSNR = 41.987328 (91.80s)\n",
            "194000/300000: loss = 1.353, PSNR = 41.965576 (92.31s)\n",
            "195000/300000: loss = 1.360, PSNR = 41.986717 (91.68s)\n",
            "196000/300000: loss = 1.362, PSNR = 41.978783 (92.05s)\n",
            "197000/300000: loss = 1.354, PSNR = 42.016533 (92.16s)\n",
            "198000/300000: loss = 1.363, PSNR = 41.974895 (92.15s)\n",
            "199000/300000: loss = 1.350, PSNR = 41.997852 (91.76s)\n",
            "200000/300000: loss = 1.366, PSNR = 41.977875 (92.09s)\n",
            "201000/300000: loss = 1.346, PSNR = 42.062172 (91.74s)\n",
            "202000/300000: loss = 1.348, PSNR = 42.071960 (91.72s)\n",
            "203000/300000: loss = 1.337, PSNR = 42.035107 (91.87s)\n",
            "204000/300000: loss = 1.326, PSNR = 42.061066 (91.99s)\n",
            "205000/300000: loss = 1.322, PSNR = 42.049328 (91.48s)\n",
            "206000/300000: loss = 1.340, PSNR = 42.065987 (92.03s)\n",
            "207000/300000: loss = 1.332, PSNR = 42.024529 (91.85s)\n",
            "208000/300000: loss = 1.326, PSNR = 42.067719 (92.58s)\n",
            "209000/300000: loss = 1.330, PSNR = 42.066822 (92.17s)\n",
            "210000/300000: loss = 1.345, PSNR = 42.079796 (92.46s)\n",
            "211000/300000: loss = 1.338, PSNR = 42.079865 (91.70s)\n",
            "212000/300000: loss = 1.346, PSNR = 42.108490 (92.22s)\n",
            "213000/300000: loss = 1.332, PSNR = 42.091034 (91.71s)\n",
            "214000/300000: loss = 1.331, PSNR = 42.072044 (92.00s)\n",
            "215000/300000: loss = 1.322, PSNR = 42.079704 (92.21s)\n",
            "216000/300000: loss = 1.350, PSNR = 42.070194 (91.97s)\n",
            "217000/300000: loss = 1.331, PSNR = 42.115475 (92.02s)\n",
            "218000/300000: loss = 1.328, PSNR = 42.098091 (92.05s)\n",
            "219000/300000: loss = 1.338, PSNR = 42.059948 (92.04s)\n",
            "220000/300000: loss = 1.350, PSNR = 42.067966 (91.80s)\n",
            "221000/300000: loss = 1.327, PSNR = 42.074757 (92.42s)\n",
            "222000/300000: loss = 1.336, PSNR = 42.063110 (92.06s)\n",
            "223000/300000: loss = 1.333, PSNR = 42.078758 (91.60s)\n",
            "224000/300000: loss = 1.336, PSNR = 42.081242 (92.00s)\n",
            "225000/300000: loss = 1.340, PSNR = 42.049686 (91.78s)\n",
            "226000/300000: loss = 1.339, PSNR = 42.068043 (91.78s)\n",
            "227000/300000: loss = 1.343, PSNR = 42.080208 (91.94s)\n",
            "228000/300000: loss = 1.334, PSNR = 42.057404 (95.01s)\n",
            "229000/300000: loss = 1.333, PSNR = 42.079430 (92.49s)\n",
            "230000/300000: loss = 1.337, PSNR = 42.095100 (92.00s)\n",
            "231000/300000: loss = 1.337, PSNR = 42.066906 (91.94s)\n",
            "232000/300000: loss = 1.336, PSNR = 42.097206 (91.84s)\n",
            "233000/300000: loss = 1.330, PSNR = 42.099205 (92.11s)\n",
            "234000/300000: loss = 1.341, PSNR = 42.101879 (92.22s)\n",
            "235000/300000: loss = 1.329, PSNR = 42.145485 (91.81s)\n",
            "236000/300000: loss = 1.326, PSNR = 42.114513 (92.41s)\n",
            "237000/300000: loss = 1.331, PSNR = 42.118187 (91.93s)\n",
            "238000/300000: loss = 1.341, PSNR = 42.079323 (91.33s)\n",
            "239000/300000: loss = 1.325, PSNR = 42.090679 (92.49s)\n",
            "240000/300000: loss = 1.332, PSNR = 42.105167 (92.28s)\n",
            "241000/300000: loss = 1.332, PSNR = 42.095604 (91.42s)\n",
            "242000/300000: loss = 1.342, PSNR = 42.092091 (92.40s)\n",
            "243000/300000: loss = 1.324, PSNR = 42.086853 (91.91s)\n",
            "244000/300000: loss = 1.327, PSNR = 42.120384 (91.70s)\n",
            "245000/300000: loss = 1.333, PSNR = 42.121330 (92.26s)\n",
            "246000/300000: loss = 1.334, PSNR = 42.112988 (92.28s)\n",
            "247000/300000: loss = 1.329, PSNR = 42.112915 (91.46s)\n",
            "248000/300000: loss = 1.327, PSNR = 42.082989 (92.77s)\n",
            "249000/300000: loss = 1.327, PSNR = 42.136375 (91.77s)\n",
            "250000/300000: loss = 1.332, PSNR = 42.100101 (91.85s)\n",
            "251000/300000: loss = 1.332, PSNR = 42.127003 (92.19s)\n",
            "252000/300000: loss = 1.337, PSNR = 42.116219 (91.76s)\n",
            "253000/300000: loss = 1.332, PSNR = 42.134754 (91.88s)\n",
            "254000/300000: loss = 1.327, PSNR = 42.148643 (92.57s)\n",
            "255000/300000: loss = 1.330, PSNR = 42.137157 (93.73s)\n",
            "256000/300000: loss = 1.333, PSNR = 42.119633 (93.32s)\n",
            "257000/300000: loss = 1.330, PSNR = 42.114887 (94.26s)\n",
            "258000/300000: loss = 1.327, PSNR = 42.084328 (93.08s)\n",
            "259000/300000: loss = 1.330, PSNR = 42.099785 (93.66s)\n",
            "260000/300000: loss = 1.333, PSNR = 42.103901 (93.50s)\n",
            "261000/300000: loss = 1.332, PSNR = 42.116272 (93.64s)\n",
            "262000/300000: loss = 1.333, PSNR = 42.124580 (93.48s)\n",
            "263000/300000: loss = 1.334, PSNR = 42.126091 (93.19s)\n",
            "264000/300000: loss = 1.323, PSNR = 42.131233 (93.16s)\n",
            "265000/300000: loss = 1.327, PSNR = 42.114597 (93.21s)\n",
            "266000/300000: loss = 1.333, PSNR = 42.095406 (94.07s)\n",
            "267000/300000: loss = 1.326, PSNR = 42.110191 (93.52s)\n",
            "268000/300000: loss = 1.329, PSNR = 42.119598 (92.88s)\n",
            "269000/300000: loss = 1.333, PSNR = 42.151966 (93.63s)\n",
            "270000/300000: loss = 1.334, PSNR = 42.127491 (93.30s)\n",
            "271000/300000: loss = 1.329, PSNR = 42.117355 (93.67s)\n",
            "272000/300000: loss = 1.323, PSNR = 42.129234 (93.59s)\n",
            "273000/300000: loss = 1.325, PSNR = 42.117271 (93.72s)\n",
            "274000/300000: loss = 1.331, PSNR = 42.120495 (92.98s)\n",
            "275000/300000: loss = 1.323, PSNR = 42.105721 (93.71s)\n",
            "276000/300000: loss = 1.334, PSNR = 42.136875 (93.47s)\n",
            "277000/300000: loss = 1.344, PSNR = 42.142307 (93.23s)\n",
            "278000/300000: loss = 1.327, PSNR = 42.149632 (93.68s)\n",
            "279000/300000: loss = 1.330, PSNR = 42.109486 (93.17s)\n",
            "280000/300000: loss = 1.331, PSNR = 42.124519 (94.00s)\n",
            "281000/300000: loss = 1.330, PSNR = 42.126137 (93.50s)\n",
            "282000/300000: loss = 1.333, PSNR = 42.133038 (93.71s)\n",
            "283000/300000: loss = 1.319, PSNR = 42.133568 (93.05s)\n",
            "284000/300000: loss = 1.317, PSNR = 42.118320 (93.64s)\n",
            "285000/300000: loss = 1.338, PSNR = 42.128181 (93.32s)\n",
            "286000/300000: loss = 1.327, PSNR = 42.121113 (93.41s)\n",
            "287000/300000: loss = 1.328, PSNR = 42.140137 (93.50s)\n",
            "288000/300000: loss = 1.330, PSNR = 42.103485 (93.40s)\n",
            "289000/300000: loss = 1.333, PSNR = 42.124249 (93.41s)\n",
            "290000/300000: loss = 1.327, PSNR = 42.109699 (93.37s)\n",
            "291000/300000: loss = 1.342, PSNR = 42.092705 (93.42s)\n",
            "292000/300000: loss = 1.330, PSNR = 42.147930 (93.38s)\n",
            "293000/300000: loss = 1.324, PSNR = 42.138287 (93.74s)\n",
            "294000/300000: loss = 1.322, PSNR = 42.136589 (93.20s)\n",
            "295000/300000: loss = 1.325, PSNR = 42.093796 (93.12s)\n",
            "296000/300000: loss = 1.330, PSNR = 42.136131 (93.49s)\n",
            "297000/300000: loss = 1.333, PSNR = 42.143360 (93.32s)\n",
            "298000/300000: loss = 1.329, PSNR = 42.116264 (94.20s)\n",
            "299000/300000: loss = 1.324, PSNR = 42.135139 (93.55s)\n",
            "300000/300000: loss = 1.329, PSNR = 42.148479 (93.02s)\n"
          ]
        }
      ],
      "source": [
        "# Train WDSR B model for 300,000 steps and evaluate model\n",
        "# every 1000 steps on the first 10 images of the DIV2K\n",
        "# validation set. Save a checkpoint only if evaluation\n",
        "# PSNR has improved.\n",
        "# uncomment code below to train!\n",
        "trainer.train(train_ds,\n",
        "              valid_ds.take(10),\n",
        "              steps=300000, \n",
        "              evaluate_every=1000, \n",
        "              save_best_only=True)"
      ]
    },
    {
      "cell_type": "code",
      "execution_count": 13,
      "metadata": {
        "id": "COlp9NbtVvGw"
      },
      "outputs": [],
      "source": [
        "# Restore from checkpoint with highest PSNR\n",
        "trainer.restore()"
      ]
    },
    {
      "cell_type": "code",
      "execution_count": 8,
      "metadata": {
        "id": "n4E2Qt_tVvGw"
      },
      "outputs": [],
      "source": [
        "# Save weights to separate location (needed for demo)\n",
        "trainer.model.save_weights(weights_file)"
      ]
    },
    {
      "cell_type": "markdown",
      "metadata": {
        "id": "yjYWjmedVvGx"
      },
      "source": [
        "## Evaluation (PSNR Score)"
      ]
    },
    {
      "cell_type": "code",
      "execution_count": 9,
      "metadata": {
        "id": "KXHoZJnOVvGx"
      },
      "outputs": [
        {
          "name": "stdout",
          "output_type": "stream",
          "text": [
            "PSNR = 42.369915\n"
          ]
        }
      ],
      "source": [
        "# Evaluate model on full validation set\n",
        "psnr = trainer.evaluate(valid_ds)\n",
        "print(f'PSNR = {psnr.numpy():3f}')"
      ]
    },
    {
      "cell_type": "markdown",
      "metadata": {
        "id": "WW8nT4kvVvGx"
      },
      "source": [
        "## Demo"
      ]
    },
    {
      "cell_type": "code",
      "execution_count": 10,
      "metadata": {
        "id": "r9FVmwN_VvGx"
      },
      "outputs": [],
      "source": [
        "model = wdsr_b(scale=scale, num_res_blocks=depth)\n",
        "model.load_weights(weights_file)"
      ]
    },
    {
      "cell_type": "code",
      "execution_count": 11,
      "metadata": {
        "id": "ze6-YVkXVvGx"
      },
      "outputs": [],
      "source": [
        "from model import resolve_single\n",
        "from utils import load_image\n",
        "from PIL import Image\n",
        "import numpy as np\n",
        "\n",
        "def convert_and_plot(lr_image_path):\n",
        "    lr = np.array(Image.open(lr_image_path).convert('RGB'))\n",
        "    \n",
        "    sr = resolve_single(model, lr)\n",
        "    plot_sample(lr, sr)"
      ]
    },
    {
      "cell_type": "code",
      "execution_count": 12,
      "metadata": {
        "id": "nb4qM5VjVvGx"
      },
      "outputs": [],
      "source": [
        "from model import resolve_single\n",
        "from utils import load_image, plot_sample\n",
        "\n",
        "def resolve_and_plot(lr_image_path):\n",
        "    lr = load_image(lr_image_path)\n",
        "    sr = resolve_single(model, lr)\n",
        "    plot_sample(lr, sr)"
      ]
    },
    {
      "cell_type": "code",
      "execution_count": 13,
      "metadata": {
        "colab": {
          "base_uri": "https://localhost:8080/",
          "height": 558
        },
        "id": "zy2v6Nx-VvGy",
        "outputId": "fa690689-65fb-46f2-b60b-844208ce5ab0"
      },
      "outputs": [
        {
          "data": {
            "image/png": "[encoded data removed]",
            "text/plain": [
              "<Figure size 2000x1000 with 2 Axes>"
            ]
          },
          "metadata": {},
          "output_type": "display_data"
        }
      ],
      "source": [
        "new_image = '../new_dataset/PET-radiomics-challenges-kaggle/Training/1.3.6.1.4.1.14519.5.2.1.1707.8040.10059866353110167322451781.png'\n",
        "convert_and_plot(new_image)"
      ]
    },
    {
      "cell_type": "code",
      "execution_count": 14,
      "metadata": {
        "id": "pYOvgdbeVvGz"
      },
      "outputs": [
        {
          "name": "stdout",
          "output_type": "stream",
          "text": [
            "SSIM: 0.9760044871324784\n"
          ]
        }
      ],
      "source": [
        "from skimage.metrics import structural_similarity as compare_ssim\n",
        "import argparse\n",
        "import imutils\n",
        "import cv2\n",
        "new_image = '/home/iga/super-resolution-master/new_dataset/Y-90/downscaled/0150x4.png'\n",
        "# load the two input images\n",
        "lr = np.array(Image.open(new_image).convert('RGB'))\n",
        "sr = resolve_single(model, lr)\n",
        "imageA = cv2.imread('/home/iga/super-resolution-master/new_dataset/Y-90/normal/0150.png')\n",
        "imageB = np.array(sr)\n",
        "# convert the images to grayscale\n",
        "grayA = cv2.cvtColor(imageA, cv2.COLOR_RGB2GRAY)\n",
        "grayB = cv2.cvtColor(imageB, cv2.COLOR_RGB2GRAY)\n",
        "\n",
        "# compute the Structural Similarity Index (SSIM) between the two\n",
        "# images, ensuring that the difference image is returned\n",
        "(score, diff) = compare_ssim(grayA, grayB, full=True)\n",
        "diff = (diff * 255).astype(\"uint8\")\n",
        "print(\"SSIM: {}\".format(score))"
      ]
    }
  ],
  "metadata": {
    "accelerator": "GPU",
    "colab": {
      "name": "example-wdsr.ipynb",
      "provenance": []
    },
    "gpuClass": "standard",
    "interpreter": {
      "hash": "f63f6c5a1e439ec046f8b97d4e79145db6c2c86b7d748c10c29c9441a4011ee3"
    },
    "kernelspec": {
      "display_name": "Python 3.8.0 ('super-resolution')",
      "language": "python",
      "name": "python3"
    },
    "language_info": {
      "codemirror_mode": {
        "name": "ipython",
        "version": 3
      },
      "file_extension": ".py",
      "mimetype": "text/x-python",
      "name": "python",
      "nbconvert_exporter": "python",
      "pygments_lexer": "ipython3",
      "version": "3.8.0"
    },
    "vscode": {
      "interpreter": {
        "hash": "610c699f0cd8c4f129acd9140687fff6866bed0eb8e82f249fc8848b827b628c"
      }
    }
  },
  "nbformat": 4,
  "nbformat_minor": 0
}
