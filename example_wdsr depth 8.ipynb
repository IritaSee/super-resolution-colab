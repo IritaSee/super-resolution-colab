{
  "cells": [
    {
      "cell_type": "markdown",
      "metadata": {
        "id": "LwtSCfE-VvGr"
      },
      "source": [
        "# WDSR"
      ]
    },
    {
      "cell_type": "code",
      "execution_count": 1,
      "metadata": {
        "colab": {
          "base_uri": "https://localhost:8080/",
          "height": 1000
        },
        "id": "KFSI0pnyVvGt",
        "outputId": "27ecf32f-5c2b-4956-ea68-3a337ec2ffa5"
      },
      "outputs": [
        {
          "name": "stdout",
          "output_type": "stream",
          "text": [
            "Looking in indexes: https://pypi.org/simple, https://us-python.pkg.dev/colab-wheels/public/simple/\n",
            "Collecting tensorflow==2.3.1\n",
            "  Downloading tensorflow-2.3.1-cp37-cp37m-manylinux2010_x86_64.whl (320.4 MB)\n",
            "\u001b[K     |████████████████████████████████| 320.4 MB 24 kB/s \n",
            "\u001b[?25hCollecting tensorflow-addons==0.11.2\n",
            "  Downloading tensorflow_addons-0.11.2-cp37-cp37m-manylinux2010_x86_64.whl (1.1 MB)\n",
            "\u001b[K     |████████████████████████████████| 1.1 MB 11.3 MB/s \n",
            "\u001b[?25hRequirement already satisfied: absl-py>=0.7.0 in /usr/local/lib/python3.7/dist-packages (from tensorflow==2.3.1) (1.1.0)\n",
            "Requirement already satisfied: opt-einsum>=2.3.2 in /usr/local/lib/python3.7/dist-packages (from tensorflow==2.3.1) (3.3.0)\n",
            "Requirement already satisfied: wheel>=0.26 in /usr/local/lib/python3.7/dist-packages (from tensorflow==2.3.1) (0.37.1)\n",
            "Requirement already satisfied: termcolor>=1.1.0 in /usr/local/lib/python3.7/dist-packages (from tensorflow==2.3.1) (1.1.0)\n",
            "Collecting tensorflow-estimator<2.4.0,>=2.3.0\n",
            "  Downloading tensorflow_estimator-2.3.0-py2.py3-none-any.whl (459 kB)\n",
            "\u001b[K     |████████████████████████████████| 459 kB 72.0 MB/s \n",
            "\u001b[?25hCollecting gast==0.3.3\n",
            "  Downloading gast-0.3.3-py2.py3-none-any.whl (9.7 kB)\n",
            "Requirement already satisfied: astunparse==1.6.3 in /usr/local/lib/python3.7/dist-packages (from tensorflow==2.3.1) (1.6.3)\n",
            "Requirement already satisfied: protobuf>=3.9.2 in /usr/local/lib/python3.7/dist-packages (from tensorflow==2.3.1) (3.17.3)\n",
            "Collecting h5py<2.11.0,>=2.10.0\n",
            "  Downloading h5py-2.10.0-cp37-cp37m-manylinux1_x86_64.whl (2.9 MB)\n",
            "\u001b[K     |████████████████████████████████| 2.9 MB 51.3 MB/s \n",
            "\u001b[?25hRequirement already satisfied: six>=1.12.0 in /usr/local/lib/python3.7/dist-packages (from tensorflow==2.3.1) (1.15.0)\n",
            "Requirement already satisfied: google-pasta>=0.1.8 in /usr/local/lib/python3.7/dist-packages (from tensorflow==2.3.1) (0.2.0)\n",
            "Requirement already satisfied: grpcio>=1.8.6 in /usr/local/lib/python3.7/dist-packages (from tensorflow==2.3.1) (1.47.0)\n",
            "Requirement already satisfied: tensorboard<3,>=2.3.0 in /usr/local/lib/python3.7/dist-packages (from tensorflow==2.3.1) (2.8.0)\n",
            "Requirement already satisfied: keras-preprocessing<1.2,>=1.1.1 in /usr/local/lib/python3.7/dist-packages (from tensorflow==2.3.1) (1.1.2)\n",
            "Requirement already satisfied: wrapt>=1.11.1 in /usr/local/lib/python3.7/dist-packages (from tensorflow==2.3.1) (1.14.1)\n",
            "Collecting numpy<1.19.0,>=1.16.0\n",
            "  Downloading numpy-1.18.5-cp37-cp37m-manylinux1_x86_64.whl (20.1 MB)\n",
            "\u001b[K     |████████████████████████████████| 20.1 MB 1.2 MB/s \n",
            "\u001b[?25hRequirement already satisfied: typeguard>=2.7 in /usr/local/lib/python3.7/dist-packages (from tensorflow-addons==0.11.2) (2.7.1)\n",
            "Requirement already satisfied: tensorboard-data-server<0.7.0,>=0.6.0 in /usr/local/lib/python3.7/dist-packages (from tensorboard<3,>=2.3.0->tensorflow==2.3.1) (0.6.1)\n",
            "Requirement already satisfied: markdown>=2.6.8 in /usr/local/lib/python3.7/dist-packages (from tensorboard<3,>=2.3.0->tensorflow==2.3.1) (3.3.7)\n",
            "Requirement already satisfied: setuptools>=41.0.0 in /usr/local/lib/python3.7/dist-packages (from tensorboard<3,>=2.3.0->tensorflow==2.3.1) (57.4.0)\n",
            "Requirement already satisfied: google-auth<3,>=1.6.3 in /usr/local/lib/python3.7/dist-packages (from tensorboard<3,>=2.3.0->tensorflow==2.3.1) (1.35.0)\n",
            "Requirement already satisfied: werkzeug>=0.11.15 in /usr/local/lib/python3.7/dist-packages (from tensorboard<3,>=2.3.0->tensorflow==2.3.1) (1.0.1)\n",
            "Requirement already satisfied: requests<3,>=2.21.0 in /usr/local/lib/python3.7/dist-packages (from tensorboard<3,>=2.3.0->tensorflow==2.3.1) (2.23.0)\n",
            "Requirement already satisfied: tensorboard-plugin-wit>=1.6.0 in /usr/local/lib/python3.7/dist-packages (from tensorboard<3,>=2.3.0->tensorflow==2.3.1) (1.8.1)\n",
            "Requirement already satisfied: google-auth-oauthlib<0.5,>=0.4.1 in /usr/local/lib/python3.7/dist-packages (from tensorboard<3,>=2.3.0->tensorflow==2.3.1) (0.4.6)\n",
            "Requirement already satisfied: cachetools<5.0,>=2.0.0 in /usr/local/lib/python3.7/dist-packages (from google-auth<3,>=1.6.3->tensorboard<3,>=2.3.0->tensorflow==2.3.1) (4.2.4)\n",
            "Requirement already satisfied: rsa<5,>=3.1.4 in /usr/local/lib/python3.7/dist-packages (from google-auth<3,>=1.6.3->tensorboard<3,>=2.3.0->tensorflow==2.3.1) (4.8)\n",
            "Requirement already satisfied: pyasn1-modules>=0.2.1 in /usr/local/lib/python3.7/dist-packages (from google-auth<3,>=1.6.3->tensorboard<3,>=2.3.0->tensorflow==2.3.1) (0.2.8)\n",
            "Requirement already satisfied: requests-oauthlib>=0.7.0 in /usr/local/lib/python3.7/dist-packages (from google-auth-oauthlib<0.5,>=0.4.1->tensorboard<3,>=2.3.0->tensorflow==2.3.1) (1.3.1)\n",
            "Requirement already satisfied: importlib-metadata>=4.4 in /usr/local/lib/python3.7/dist-packages (from markdown>=2.6.8->tensorboard<3,>=2.3.0->tensorflow==2.3.1) (4.12.0)\n",
            "Requirement already satisfied: typing-extensions>=3.6.4 in /usr/local/lib/python3.7/dist-packages (from importlib-metadata>=4.4->markdown>=2.6.8->tensorboard<3,>=2.3.0->tensorflow==2.3.1) (4.1.1)\n",
            "Requirement already satisfied: zipp>=0.5 in /usr/local/lib/python3.7/dist-packages (from importlib-metadata>=4.4->markdown>=2.6.8->tensorboard<3,>=2.3.0->tensorflow==2.3.1) (3.8.0)\n",
            "Requirement already satisfied: pyasn1<0.5.0,>=0.4.6 in /usr/local/lib/python3.7/dist-packages (from pyasn1-modules>=0.2.1->google-auth<3,>=1.6.3->tensorboard<3,>=2.3.0->tensorflow==2.3.1) (0.4.8)\n",
            "Requirement already satisfied: idna<3,>=2.5 in /usr/local/lib/python3.7/dist-packages (from requests<3,>=2.21.0->tensorboard<3,>=2.3.0->tensorflow==2.3.1) (2.10)\n",
            "Requirement already satisfied: chardet<4,>=3.0.2 in /usr/local/lib/python3.7/dist-packages (from requests<3,>=2.21.0->tensorboard<3,>=2.3.0->tensorflow==2.3.1) (3.0.4)\n",
            "Requirement already satisfied: certifi>=2017.4.17 in /usr/local/lib/python3.7/dist-packages (from requests<3,>=2.21.0->tensorboard<3,>=2.3.0->tensorflow==2.3.1) (2022.6.15)\n",
            "Requirement already satisfied: urllib3!=1.25.0,!=1.25.1,<1.26,>=1.21.1 in /usr/local/lib/python3.7/dist-packages (from requests<3,>=2.21.0->tensorboard<3,>=2.3.0->tensorflow==2.3.1) (1.24.3)\n",
            "Requirement already satisfied: oauthlib>=3.0.0 in /usr/local/lib/python3.7/dist-packages (from requests-oauthlib>=0.7.0->google-auth-oauthlib<0.5,>=0.4.1->tensorboard<3,>=2.3.0->tensorflow==2.3.1) (3.2.0)\n",
            "Installing collected packages: numpy, tensorflow-estimator, h5py, gast, tensorflow-addons, tensorflow\n",
            "  Attempting uninstall: numpy\n",
            "    Found existing installation: numpy 1.21.6\n",
            "    Uninstalling numpy-1.21.6:\n",
            "      Successfully uninstalled numpy-1.21.6\n",
            "  Attempting uninstall: tensorflow-estimator\n",
            "    Found existing installation: tensorflow-estimator 2.8.0\n",
            "    Uninstalling tensorflow-estimator-2.8.0:\n",
            "      Successfully uninstalled tensorflow-estimator-2.8.0\n",
            "  Attempting uninstall: h5py\n",
            "    Found existing installation: h5py 3.1.0\n",
            "    Uninstalling h5py-3.1.0:\n",
            "      Successfully uninstalled h5py-3.1.0\n",
            "  Attempting uninstall: gast\n",
            "    Found existing installation: gast 0.5.3\n",
            "    Uninstalling gast-0.5.3:\n",
            "      Successfully uninstalled gast-0.5.3\n",
            "  Attempting uninstall: tensorflow\n",
            "    Found existing installation: tensorflow 2.8.2+zzzcolab20220629235552\n",
            "    Uninstalling tensorflow-2.8.2+zzzcolab20220629235552:\n",
            "      Successfully uninstalled tensorflow-2.8.2+zzzcolab20220629235552\n",
            "\u001b[31mERROR: pip's dependency resolver does not currently take into account all the packages that are installed. This behaviour is the source of the following dependency conflicts.\n",
            "xarray-einstats 0.2.2 requires numpy>=1.21, but you have numpy 1.18.5 which is incompatible.\n",
            "tables 3.7.0 requires numpy>=1.19.0, but you have numpy 1.18.5 which is incompatible.\n",
            "jaxlib 0.3.14+cuda11.cudnn805 requires numpy>=1.19, but you have numpy 1.18.5 which is incompatible.\n",
            "jax 0.3.14 requires numpy>=1.19, but you have numpy 1.18.5 which is incompatible.\n",
            "datascience 0.10.6 requires folium==0.2.1, but you have folium 0.8.3 which is incompatible.\n",
            "albumentations 0.1.12 requires imgaug<0.2.7,>=0.2.5, but you have imgaug 0.2.9 which is incompatible.\u001b[0m\n",
            "Successfully installed gast-0.3.3 h5py-2.10.0 numpy-1.18.5 tensorflow-2.3.1 tensorflow-addons-0.11.2 tensorflow-estimator-2.3.0\n"
          ]
        },
        {
          "data": {
            "application/vnd.colab-display-data+json": {
              "pip_warning": {
                "packages": [
                  "numpy"
                ]
              }
            }
          },
          "metadata": {},
          "output_type": "display_data"
        }
      ],
      "source": [
        "#COLAB environment setup:\n",
        "!pip install tensorflow-gpu==2.3.1 tensorflow-addons==0.11.2 ## replace to !pip install tensorflow for CPU"
      ]
    },
    {
      "cell_type": "code",
      "execution_count": 2,
      "metadata": {
        "colab": {
          "base_uri": "https://localhost:8080/"
        },
        "id": "__6lirCVVvGt",
        "outputId": "8d90b029-0387-4772-aa1f-18f9995e1db3"
      },
      "outputs": [
        {
          "name": "stdout",
          "output_type": "stream",
          "text": [
            "Cloning into 'super-resolution'...\n",
            "remote: Enumerating objects: 408, done.\u001b[K\n",
            "remote: Counting objects: 100% (3/3), done.\u001b[K\n",
            "remote: Compressing objects: 100% (2/2), done.\u001b[K\n",
            "remote: Total 408 (delta 0), reused 2 (delta 0), pack-reused 405\u001b[K\n",
            "Receiving objects: 100% (408/408), 48.16 MiB | 40.52 MiB/s, done.\n",
            "Resolving deltas: 100% (214/214), done.\n"
          ]
        }
      ],
      "source": [
        "!git clone https://github.com/IritaSee/super-resolution-colab.git"
      ]
    },
    {
      "cell_type": "code",
      "execution_count": 1,
      "metadata": {
        "colab": {
          "base_uri": "https://localhost:8080/"
        },
        "id": "HS3lK49GVvGu",
        "outputId": "19d038ae-bcea-40be-a899-4b3df2bf523d"
      },
      "outputs": [
        {
          "name": "stdout",
          "output_type": "stream",
          "text": [
            "[Errno 2] No such file or directory: 'super-resolution'\n",
            "/home/iga/super-resolution-master/super-resolution-colab\n"
          ]
        }
      ],
      "source": [
        "%cd super-resolution"
      ]
    },
    {
      "cell_type": "code",
      "execution_count": 2,
      "metadata": {
        "colab": {
          "base_uri": "https://localhost:8080/"
        },
        "id": "izMuZBROVvGu",
        "outputId": "2ce523d9-b0fd-4c53-f8b8-a0d4f9a65dbd"
      },
      "outputs": [
        {
          "name": "stdout",
          "output_type": "stream",
          "text": [
            " article.ipynb\t\t       example_wdsr.ipynb\n",
            " data_engineering.ipynb        LICENSE\n",
            " data.py\t\t       model\n",
            " demo\t\t\t       __pycache__\n",
            " docs\t\t\t       README.md\n",
            " environment.yml\t       train.py\n",
            " example_edsr.ipynb\t       utils.py\n",
            " example_srgan.ipynb\t       weights\n",
            "'example_wdsr depth 8.ipynb'   weights-edsr-16-x4.tar.gz\n"
          ]
        }
      ],
      "source": [
        "!ls"
      ]
    },
    {
      "cell_type": "code",
      "execution_count": 3,
      "metadata": {
        "id": "eYOV_NZTVvGu"
      },
      "outputs": [
        {
          "name": "stderr",
          "output_type": "stream",
          "text": [
            "2023-06-10 02:54:32.159959: I tensorflow/stream_executor/platform/default/dso_loader.cc:48] Successfully opened dynamic library libcudart.so.10.1\n"
          ]
        }
      ],
      "source": [
        "import os\n",
        "import matplotlib.pyplot as plt\n",
        "\n",
        "from data import DIV2K\n",
        "from model.wdsr import wdsr_b\n",
        "from train import WdsrTrainer\n",
        "\n",
        "%matplotlib inline"
      ]
    },
    {
      "cell_type": "code",
      "execution_count": 4,
      "metadata": {
        "id": "H3SNNDklVvGu"
      },
      "outputs": [],
      "source": [
        "# Number of residual blocks\n",
        "# depth = 32\n",
        "# depth = 16\n",
        "# depth = 8\n",
        "depth = 64\n",
        "\n",
        "# Super-resolution factor\n",
        "scale = 4 #ini jangan di ganti, ngaruh ke dataset\n",
        "\n",
        "# Downgrade operator\n",
        "downgrade = 'bicubic'"
      ]
    },
    {
      "cell_type": "code",
      "execution_count": 5,
      "metadata": {
        "id": "36Q3IBy_VvGu"
      },
      "outputs": [],
      "source": [
        "# Location of model weights (needed for demo)\n",
        "weights_dir = f'weights/wdsr-b-{depth}-x{scale}'\n",
        "weights_file = os.path.join(weights_dir, 'weights_16_as_depth.h5')\n",
        "\n",
        "os.makedirs(weights_dir, exist_ok=True)"
      ]
    },
    {
      "cell_type": "markdown",
      "metadata": {
        "id": "dBqgGosZVvGu"
      },
      "source": [
        "## Datasets\n",
        "\n",
        "You don't need to download the DIV2K dataset as the required parts are automatically downloaded by the `DIV2K` class. By default, DIV2K images are stored in folder `.div2k` in the project's root directory."
      ]
    },
    {
      "cell_type": "code",
      "execution_count": 8,
      "metadata": {
        "colab": {
          "base_uri": "https://localhost:8080/"
        },
        "id": "eZeJpACsVvGv",
        "outputId": "ab2dfea9-e403-43a3-f890-dc940da08954"
      },
      "outputs": [
        {
          "name": "stdout",
          "output_type": "stream",
          "text": [
            "Mounted at /content/drive\n"
          ]
        }
      ],
      "source": [
        "# from google.colab import drive\n",
        "# drive.mount('/content/drive')"
      ]
    },
    {
      "cell_type": "code",
      "execution_count": 6,
      "metadata": {
        "id": "-2Bwk_EnVvGv"
      },
      "outputs": [],
      "source": [
        "div2k_train = DIV2K(scale=scale, subset='train', downgrade=downgrade)\n",
        "div2k_valid = DIV2K(scale=scale, subset='valid', downgrade=downgrade)"
      ]
    },
    {
      "cell_type": "code",
      "execution_count": 7,
      "metadata": {
        "id": "qO_GFAq5VvGv"
      },
      "outputs": [
        {
          "name": "stderr",
          "output_type": "stream",
          "text": [
            "2023-06-10 02:55:21.321369: I tensorflow/stream_executor/platform/default/dso_loader.cc:48] Successfully opened dynamic library libcuda.so.1\n",
            "2023-06-10 02:55:21.732805: I tensorflow/stream_executor/cuda/cuda_gpu_executor.cc:982] successful NUMA node read from SysFS had negative value (-1), but there must be at least one NUMA node, so returning NUMA node zero\n",
            "2023-06-10 02:55:21.733163: I tensorflow/core/common_runtime/gpu/gpu_device.cc:1716] Found device 0 with properties: \n",
            "pciBusID: 0000:01:00.0 name: NVIDIA GeForce GTX 1660 Ti with Max-Q Design computeCapability: 7.5\n",
            "coreClock: 1.335GHz coreCount: 24 deviceMemorySize: 5.80GiB deviceMemoryBandwidth: 268.26GiB/s\n",
            "2023-06-10 02:55:21.733269: I tensorflow/stream_executor/platform/default/dso_loader.cc:48] Successfully opened dynamic library libcudart.so.10.1\n",
            "2023-06-10 02:55:22.563858: I tensorflow/stream_executor/platform/default/dso_loader.cc:48] Successfully opened dynamic library libcublas.so.10\n",
            "2023-06-10 02:55:22.787955: I tensorflow/stream_executor/platform/default/dso_loader.cc:48] Successfully opened dynamic library libcufft.so.10\n",
            "2023-06-10 02:55:22.860260: I tensorflow/stream_executor/platform/default/dso_loader.cc:48] Successfully opened dynamic library libcurand.so.10\n",
            "2023-06-10 02:55:23.913891: I tensorflow/stream_executor/platform/default/dso_loader.cc:48] Successfully opened dynamic library libcusolver.so.10\n",
            "2023-06-10 02:55:23.966614: I tensorflow/stream_executor/platform/default/dso_loader.cc:48] Successfully opened dynamic library libcusparse.so.10\n",
            "2023-06-10 02:55:23.967344: W tensorflow/stream_executor/platform/default/dso_loader.cc:59] Could not load dynamic library 'libcudnn.so.7'; dlerror: libcudnn.so.7: cannot open shared object file: No such file or directory\n",
            "2023-06-10 02:55:23.967377: W tensorflow/core/common_runtime/gpu/gpu_device.cc:1753] Cannot dlopen some GPU libraries. Please make sure the missing libraries mentioned above are installed properly if you would like to use GPU. Follow the guide at https://www.tensorflow.org/install/gpu for how to download and setup the required libraries for your platform.\n",
            "Skipping registering GPU devices...\n",
            "2023-06-10 02:55:24.013044: I tensorflow/core/platform/cpu_feature_guard.cc:142] This TensorFlow binary is optimized with oneAPI Deep Neural Network Library (oneDNN)to use the following CPU instructions in performance-critical operations:  AVX2 FMA\n",
            "To enable them in other operations, rebuild TensorFlow with the appropriate compiler flags.\n",
            "2023-06-10 02:55:24.202672: I tensorflow/core/platform/profile_utils/cpu_utils.cc:104] CPU Frequency: 2599990000 Hz\n",
            "2023-06-10 02:55:24.204876: I tensorflow/compiler/xla/service/service.cc:168] XLA service 0x5564cac66a20 initialized for platform Host (this does not guarantee that XLA will be used). Devices:\n",
            "2023-06-10 02:55:24.204932: I tensorflow/compiler/xla/service/service.cc:176]   StreamExecutor device (0): Host, Default Version\n",
            "2023-06-10 02:55:24.233802: I tensorflow/core/common_runtime/gpu/gpu_device.cc:1257] Device interconnect StreamExecutor with strength 1 edge matrix:\n",
            "2023-06-10 02:55:24.233872: I tensorflow/core/common_runtime/gpu/gpu_device.cc:1263]      \n"
          ]
        }
      ],
      "source": [
        "train_ds = div2k_train.dataset(batch_size=16, random_transform=True)\n",
        "valid_ds = div2k_valid.dataset(batch_size=1, random_transform=False, repeat_count=1)"
      ]
    },
    {
      "cell_type": "markdown",
      "metadata": {
        "id": "LW5aTX5vVvGv"
      },
      "source": [
        "## Training\n",
        "\n",
        "### Pre-trained models\n",
        "\n",
        "If you want to skip training and directly run the demo below, download [weights-wdsr-b-32-x4.tar.gz](https://martin-krasser.de/sisr/weights-wdsr-b-32-x4.tar.gz) and extract the archive in the project's root directory. This will create a `weights/wdsr-b-32-x4` directory containing the weights of the pre-trained model."
      ]
    },
    {
      "cell_type": "code",
      "execution_count": 9,
      "metadata": {
        "colab": {
          "base_uri": "https://localhost:8080/"
        },
        "id": "WoDa5DRbVvGv",
        "outputId": "b5598af4-630d-403c-9823-e4d43c96ed78"
      },
      "outputs": [
        {
          "name": "stdout",
          "output_type": "stream",
          "text": [
            "--2022-07-13 20:56:58--  https://martin-krasser.de/sisr/weights-wdsr-b-32-x4.tar.gz\n",
            "Resolving martin-krasser.de (martin-krasser.de)... 217.160.0.142, 2001:8d8:100f:f000::209\n",
            "Connecting to martin-krasser.de (martin-krasser.de)|217.160.0.142|:443... connected.\n",
            "HTTP request sent, awaiting response... 200 OK\n",
            "Length: 2328140 (2.2M) [application/gzip]\n",
            "Saving to: ‘weights-wdsr-b-32-x4.tar.gz’\n",
            "\n",
            "weights-wdsr-b-32-x 100%[===================>]   2.22M  3.46MB/s    in 0.6s    \n",
            "\n",
            "2022-07-13 20:56:59 (3.46 MB/s) - ‘weights-wdsr-b-32-x4.tar.gz’ saved [2328140/2328140]\n",
            "\n"
          ]
        }
      ],
      "source": [
        "!wget https://martin-krasser.de/sisr/weights-wdsr-b-32-x4.tar.gz"
      ]
    },
    {
      "cell_type": "code",
      "execution_count": 10,
      "metadata": {
        "id": "SQ6DAUh0VvGw"
      },
      "outputs": [],
      "source": [
        "! tar -xf weights-wdsr-b-32-x4.tar.gz"
      ]
    },
    {
      "cell_type": "code",
      "execution_count": 8,
      "metadata": {
        "id": "5so1sfCsVvGw"
      },
      "outputs": [],
      "source": [
        "trainer = WdsrTrainer(model=wdsr_b(scale=scale, num_res_blocks=depth), \n",
        "                      checkpoint_dir=f'.ckpt/wdsr-b-{depth}-x{scale}')"
      ]
    },
    {
      "cell_type": "code",
      "execution_count": 9,
      "metadata": {
        "id": "z4qifY3HVvGw",
        "scrolled": true
      },
      "outputs": [
        {
          "name": "stdout",
          "output_type": "stream",
          "text": [
            "1000/300000: loss = 84.227, PSNR = 30.987049 (758.20s)\n",
            "2000/300000: loss = 4.201, PSNR = 31.665173 (732.23s)\n",
            "3000/300000: loss = 3.803, PSNR = 32.264290 (746.74s)\n",
            "4000/300000: loss = 3.575, PSNR = 32.764362 (716.99s)\n",
            "5000/300000: loss = 3.374, PSNR = 33.737782 (682.44s)\n",
            "6000/300000: loss = 3.111, PSNR = 35.041164 (692.24s)\n",
            "7000/300000: loss = 2.850, PSNR = 36.116650 (684.08s)\n",
            "8000/300000: loss = 2.637, PSNR = 37.185650 (681.51s)\n",
            "9000/300000: loss = 2.433, PSNR = 37.000275 (683.02s)\n",
            "10000/300000: loss = 2.293, PSNR = 38.454693 (681.36s)\n",
            "11000/300000: loss = 2.155, PSNR = 38.957848 (678.47s)\n",
            "12000/300000: loss = 2.052, PSNR = 39.049858 (677.60s)\n",
            "13000/300000: loss = 1.962, PSNR = 39.543316 (684.11s)\n",
            "14000/300000: loss = 1.885, PSNR = 39.693066 (685.09s)\n",
            "15000/300000: loss = 1.832, PSNR = 39.918106 (687.11s)\n",
            "16000/300000: loss = 1.782, PSNR = 40.051682 (681.18s)\n",
            "17000/300000: loss = 1.747, PSNR = 40.119148 (683.16s)\n",
            "18000/300000: loss = 1.712, PSNR = 40.339893 (684.32s)\n",
            "19000/300000: loss = 1.654, PSNR = 40.403202 (685.32s)\n",
            "20000/300000: loss = 1.629, PSNR = 40.819160 (681.86s)\n",
            "21000/300000: loss = 1.612, PSNR = 40.789753 (693.74s)\n",
            "22000/300000: loss = 1.583, PSNR = 40.973949 (691.37s)\n",
            "23000/300000: loss = 1.555, PSNR = 40.963753 (690.85s)\n",
            "24000/300000: loss = 1.540, PSNR = 40.930199 (695.09s)\n",
            "25000/300000: loss = 1.515, PSNR = 41.187366 (692.92s)\n",
            "26000/300000: loss = 1.507, PSNR = 41.198257 (691.95s)\n",
            "27000/300000: loss = 1.495, PSNR = 41.439903 (690.52s)\n",
            "28000/300000: loss = 1.477, PSNR = 41.454170 (700.08s)\n",
            "29000/300000: loss = 1.469, PSNR = 41.457409 (698.38s)\n",
            "30000/300000: loss = 1.462, PSNR = 41.448612 (691.31s)\n",
            "31000/300000: loss = 1.442, PSNR = 41.531124 (691.80s)\n",
            "32000/300000: loss = 1.433, PSNR = 41.740974 (698.78s)\n",
            "33000/300000: loss = 1.434, PSNR = 41.699787 (697.66s)\n",
            "34000/300000: loss = 1.422, PSNR = 41.519897 (699.37s)\n",
            "35000/300000: loss = 1.422, PSNR = 41.613159 (697.87s)\n",
            "36000/300000: loss = 1.405, PSNR = 41.764904 (692.29s)\n",
            "37000/300000: loss = 1.400, PSNR = 41.735210 (699.66s)\n",
            "38000/300000: loss = 1.397, PSNR = 41.798660 (697.95s)\n",
            "39000/300000: loss = 1.403, PSNR = 41.906044 (691.35s)\n",
            "40000/300000: loss = 1.396, PSNR = 42.006969 (697.83s)\n",
            "41000/300000: loss = 1.381, PSNR = 42.044319 (701.09s)\n",
            "42000/300000: loss = 1.383, PSNR = 42.107319 (698.60s)\n",
            "43000/300000: loss = 1.379, PSNR = 42.089268 (699.04s)\n",
            "44000/300000: loss = 1.378, PSNR = 41.927799 (698.42s)\n",
            "45000/300000: loss = 1.366, PSNR = 42.134727 (702.22s)\n",
            "46000/300000: loss = 1.355, PSNR = 42.024090 (699.68s)\n",
            "47000/300000: loss = 1.346, PSNR = 42.141018 (698.03s)\n",
            "48000/300000: loss = 1.355, PSNR = 42.242039 (698.98s)\n",
            "49000/300000: loss = 1.361, PSNR = 42.191120 (693.15s)\n",
            "50000/300000: loss = 1.347, PSNR = 42.159283 (693.61s)\n",
            "51000/300000: loss = 1.348, PSNR = 42.234215 (695.54s)\n",
            "52000/300000: loss = 1.343, PSNR = 42.337017 (700.65s)\n",
            "53000/300000: loss = 1.336, PSNR = 42.349586 (700.33s)\n",
            "54000/300000: loss = 1.326, PSNR = 42.190804 (699.20s)\n",
            "55000/300000: loss = 1.327, PSNR = 42.378029 (700.19s)\n",
            "56000/300000: loss = 1.327, PSNR = 42.341938 (700.98s)\n",
            "57000/300000: loss = 1.317, PSNR = 42.336433 (701.42s)\n",
            "58000/300000: loss = 1.313, PSNR = 42.360554 (700.40s)\n",
            "59000/300000: loss = 1.332, PSNR = 42.451851 (699.74s)\n",
            "60000/300000: loss = 1.315, PSNR = 42.411358 (694.97s)\n",
            "61000/300000: loss = 1.311, PSNR = 42.415077 (681.77s)\n",
            "62000/300000: loss = 1.315, PSNR = 42.401783 (688.64s)\n",
            "63000/300000: loss = 1.305, PSNR = 42.420692 (693.49s)\n",
            "64000/300000: loss = 1.300, PSNR = 42.550240 (692.06s)\n",
            "65000/300000: loss = 1.316, PSNR = 42.459087 (696.15s)\n",
            "66000/300000: loss = 1.307, PSNR = 42.402161 (695.44s)\n",
            "67000/300000: loss = 1.309, PSNR = 42.437977 (701.17s)\n",
            "68000/300000: loss = 1.303, PSNR = 42.479443 (693.02s)\n",
            "69000/300000: loss = 1.305, PSNR = 42.534515 (685.06s)\n",
            "70000/300000: loss = 1.308, PSNR = 42.421268 (683.43s)\n",
            "71000/300000: loss = 1.297, PSNR = 42.603477 (674.52s)\n",
            "72000/300000: loss = 1.288, PSNR = 42.584465 (676.93s)\n",
            "73000/300000: loss = 1.299, PSNR = 42.618031 (685.34s)\n",
            "74000/300000: loss = 1.297, PSNR = 42.563004 (695.38s)\n",
            "75000/300000: loss = 1.306, PSNR = 42.514091 (691.30s)\n",
            "76000/300000: loss = 1.292, PSNR = 42.645279 (693.99s)\n",
            "77000/300000: loss = 1.290, PSNR = 42.667126 (690.04s)\n",
            "78000/300000: loss = 1.300, PSNR = 42.631775 (691.70s)\n",
            "79000/300000: loss = 1.287, PSNR = 42.674461 (702.39s)\n",
            "80000/300000: loss = 1.283, PSNR = 42.645214 (689.07s)\n",
            "81000/300000: loss = 1.285, PSNR = 42.654430 (682.01s)\n",
            "82000/300000: loss = 1.290, PSNR = 42.681187 (680.46s)\n",
            "83000/300000: loss = 1.287, PSNR = 42.786240 (683.16s)\n",
            "84000/300000: loss = 1.283, PSNR = 42.749710 (687.98s)\n",
            "85000/300000: loss = 1.275, PSNR = 42.743538 (688.41s)\n",
            "86000/300000: loss = 1.274, PSNR = 42.760311 (696.49s)\n",
            "87000/300000: loss = 1.273, PSNR = 42.767494 (695.63s)\n",
            "88000/300000: loss = 1.280, PSNR = 42.735146 (700.93s)\n",
            "89000/300000: loss = 1.264, PSNR = 42.765472 (692.99s)\n",
            "90000/300000: loss = 1.268, PSNR = 42.860210 (692.56s)\n",
            "91000/300000: loss = 1.274, PSNR = 42.822666 (700.68s)\n",
            "92000/300000: loss = 1.273, PSNR = 42.842876 (691.33s)\n",
            "93000/300000: loss = 1.271, PSNR = 42.722801 (692.51s)\n",
            "94000/300000: loss = 1.273, PSNR = 42.884289 (697.89s)\n",
            "95000/300000: loss = 1.262, PSNR = 42.580456 (695.29s)\n",
            "96000/300000: loss = 1.271, PSNR = 42.849968 (694.76s)\n",
            "97000/300000: loss = 1.265, PSNR = 42.894184 (693.92s)\n",
            "98000/300000: loss = 1.263, PSNR = 42.879906 (683.22s)\n",
            "99000/300000: loss = 1.259, PSNR = 42.886116 (682.47s)\n",
            "100000/300000: loss = 1.262, PSNR = 42.837711 (679.22s)\n",
            "101000/300000: loss = 1.263, PSNR = 42.912926 (683.27s)\n",
            "102000/300000: loss = 1.254, PSNR = 42.920536 (682.30s)\n",
            "103000/300000: loss = 1.261, PSNR = 42.914471 (684.06s)\n",
            "104000/300000: loss = 1.256, PSNR = 42.945190 (690.72s)\n",
            "105000/300000: loss = 1.264, PSNR = 42.830658 (690.24s)\n",
            "106000/300000: loss = 1.250, PSNR = 42.987427 (689.84s)\n",
            "107000/300000: loss = 1.245, PSNR = 42.944035 (693.15s)\n",
            "108000/300000: loss = 1.261, PSNR = 42.938572 (694.00s)\n",
            "109000/300000: loss = 1.251, PSNR = 42.972755 (693.68s)\n",
            "110000/300000: loss = 1.253, PSNR = 43.004322 (695.18s)\n",
            "111000/300000: loss = 1.257, PSNR = 43.016411 (695.81s)\n",
            "112000/300000: loss = 1.259, PSNR = 43.029667 (691.99s)\n",
            "113000/300000: loss = 1.252, PSNR = 43.019722 (691.69s)\n",
            "114000/300000: loss = 1.253, PSNR = 42.986694 (694.96s)\n",
            "115000/300000: loss = 1.251, PSNR = 43.012562 (697.57s)\n",
            "116000/300000: loss = 1.250, PSNR = 42.974224 (716.12s)\n",
            "117000/300000: loss = 1.250, PSNR = 42.964897 (717.02s)\n",
            "118000/300000: loss = 1.238, PSNR = 43.027359 (663.65s)\n",
            "119000/300000: loss = 1.260, PSNR = 43.052299 (701.04s)\n",
            "120000/300000: loss = 1.251, PSNR = 43.047890 (673.35s)\n",
            "121000/300000: loss = 1.243, PSNR = 43.054405 (650.30s)\n",
            "122000/300000: loss = 1.246, PSNR = 43.023201 (644.60s)\n",
            "123000/300000: loss = 1.245, PSNR = 43.038460 (638.23s)\n",
            "124000/300000: loss = 1.246, PSNR = 43.077187 (637.82s)\n",
            "125000/300000: loss = 1.240, PSNR = 43.037029 (639.13s)\n",
            "126000/300000: loss = 1.254, PSNR = 43.078239 (638.07s)\n",
            "127000/300000: loss = 1.243, PSNR = 43.100731 (639.46s)\n",
            "128000/300000: loss = 1.242, PSNR = 43.091743 (637.96s)\n",
            "129000/300000: loss = 1.238, PSNR = 43.123390 (640.20s)\n",
            "130000/300000: loss = 1.241, PSNR = 43.102486 (637.06s)\n",
            "131000/300000: loss = 1.240, PSNR = 43.112732 (636.81s)\n",
            "132000/300000: loss = 1.243, PSNR = 43.152981 (640.57s)\n",
            "133000/300000: loss = 1.249, PSNR = 43.171455 (640.21s)\n",
            "134000/300000: loss = 1.240, PSNR = 43.104713 (639.64s)\n",
            "135000/300000: loss = 1.238, PSNR = 43.132183 (640.98s)\n",
            "136000/300000: loss = 1.238, PSNR = 43.122177 (638.77s)\n",
            "137000/300000: loss = 1.240, PSNR = 43.101826 (639.65s)\n",
            "138000/300000: loss = 1.237, PSNR = 43.170986 (640.76s)\n",
            "139000/300000: loss = 1.231, PSNR = 43.183926 (639.01s)\n",
            "140000/300000: loss = 1.231, PSNR = 43.196545 (641.65s)\n",
            "141000/300000: loss = 1.223, PSNR = 43.174812 (642.47s)\n",
            "142000/300000: loss = 1.231, PSNR = 43.161957 (642.38s)\n",
            "143000/300000: loss = 1.225, PSNR = 43.127163 (640.16s)\n",
            "144000/300000: loss = 1.228, PSNR = 43.192513 (641.71s)\n",
            "145000/300000: loss = 1.225, PSNR = 43.225704 (644.48s)\n",
            "146000/300000: loss = 1.241, PSNR = 43.245163 (667.46s)\n",
            "147000/300000: loss = 1.225, PSNR = 43.252354 (644.99s)\n",
            "148000/300000: loss = 1.226, PSNR = 43.207661 (649.15s)\n",
            "149000/300000: loss = 1.233, PSNR = 43.184956 (651.02s)\n",
            "150000/300000: loss = 1.235, PSNR = 43.245502 (646.27s)\n",
            "151000/300000: loss = 1.226, PSNR = 43.136467 (645.17s)\n",
            "152000/300000: loss = 1.231, PSNR = 43.207428 (645.55s)\n",
            "153000/300000: loss = 1.230, PSNR = 43.184227 (647.29s)\n",
            "154000/300000: loss = 1.224, PSNR = 43.130760 (647.07s)\n",
            "155000/300000: loss = 1.222, PSNR = 43.197102 (650.71s)\n",
            "156000/300000: loss = 1.230, PSNR = 43.243416 (645.48s)\n",
            "157000/300000: loss = 1.226, PSNR = 43.216431 (648.31s)\n",
            "158000/300000: loss = 1.222, PSNR = 43.160393 (653.19s)\n",
            "159000/300000: loss = 1.220, PSNR = 43.268597 (648.16s)\n",
            "160000/300000: loss = 1.238, PSNR = 43.211891 (652.28s)\n",
            "161000/300000: loss = 1.225, PSNR = 43.105965 (650.29s)\n",
            "162000/300000: loss = 1.217, PSNR = 43.250683 (650.15s)\n",
            "163000/300000: loss = 1.228, PSNR = 43.274719 (652.99s)\n",
            "164000/300000: loss = 1.230, PSNR = 43.250568 (667.15s)\n",
            "165000/300000: loss = 1.226, PSNR = 43.266285 (693.73s)\n",
            "166000/300000: loss = 1.217, PSNR = 43.272228 (692.60s)\n",
            "167000/300000: loss = 1.214, PSNR = 43.270287 (693.31s)\n",
            "168000/300000: loss = 1.213, PSNR = 43.313053 (702.00s)\n",
            "169000/300000: loss = 1.222, PSNR = 43.287498 (704.67s)\n",
            "170000/300000: loss = 1.216, PSNR = 43.276829 (699.17s)\n",
            "171000/300000: loss = 1.217, PSNR = 43.238564 (700.77s)\n",
            "172000/300000: loss = 1.220, PSNR = 43.331398 (697.33s)\n",
            "173000/300000: loss = 1.221, PSNR = 43.305515 (701.99s)\n",
            "174000/300000: loss = 1.220, PSNR = 43.334541 (697.49s)\n",
            "175000/300000: loss = 1.212, PSNR = 43.343010 (702.79s)\n",
            "176000/300000: loss = 1.216, PSNR = 43.281960 (706.13s)\n",
            "177000/300000: loss = 1.206, PSNR = 43.337643 (701.33s)\n",
            "178000/300000: loss = 1.223, PSNR = 43.381546 (696.91s)\n",
            "179000/300000: loss = 1.213, PSNR = 43.355408 (695.51s)\n",
            "180000/300000: loss = 1.221, PSNR = 43.339489 (705.03s)\n",
            "181000/300000: loss = 1.214, PSNR = 43.363789 (709.01s)\n",
            "182000/300000: loss = 1.208, PSNR = 43.346901 (702.03s)\n",
            "183000/300000: loss = 1.218, PSNR = 43.311195 (700.72s)\n",
            "184000/300000: loss = 1.220, PSNR = 43.373608 (700.49s)\n",
            "185000/300000: loss = 1.218, PSNR = 43.402630 (702.51s)\n",
            "186000/300000: loss = 1.215, PSNR = 43.363777 (701.89s)\n",
            "187000/300000: loss = 1.207, PSNR = 43.373260 (704.89s)\n",
            "188000/300000: loss = 1.219, PSNR = 43.299400 (701.33s)\n",
            "189000/300000: loss = 1.211, PSNR = 43.428333 (705.28s)\n",
            "190000/300000: loss = 1.209, PSNR = 43.391701 (702.88s)\n",
            "191000/300000: loss = 1.215, PSNR = 43.417522 (705.02s)\n",
            "192000/300000: loss = 1.210, PSNR = 43.421326 (701.54s)\n",
            "193000/300000: loss = 1.217, PSNR = 43.369652 (705.20s)\n",
            "194000/300000: loss = 1.208, PSNR = 43.425621 (704.96s)\n",
            "195000/300000: loss = 1.202, PSNR = 43.422600 (703.60s)\n",
            "196000/300000: loss = 1.218, PSNR = 43.420036 (701.31s)\n",
            "197000/300000: loss = 1.220, PSNR = 43.436218 (695.62s)\n",
            "198000/300000: loss = 1.206, PSNR = 43.456467 (697.21s)\n",
            "199000/300000: loss = 1.217, PSNR = 43.475109 (689.87s)\n",
            "200000/300000: loss = 1.213, PSNR = 43.383934 (700.44s)\n",
            "201000/300000: loss = 1.176, PSNR = 43.612434 (699.92s)\n",
            "202000/300000: loss = 1.178, PSNR = 43.646675 (703.53s)\n",
            "203000/300000: loss = 1.171, PSNR = 43.666374 (700.51s)\n",
            "204000/300000: loss = 1.172, PSNR = 43.643200 (703.08s)\n",
            "205000/300000: loss = 1.173, PSNR = 43.667500 (704.01s)\n",
            "206000/300000: loss = 1.170, PSNR = 43.701569 (705.75s)\n",
            "207000/300000: loss = 1.168, PSNR = 43.701809 (696.79s)\n",
            "208000/300000: loss = 1.166, PSNR = 43.684277 (691.85s)\n",
            "209000/300000: loss = 1.174, PSNR = 43.693348 (683.55s)\n",
            "210000/300000: loss = 1.174, PSNR = 43.705330 (683.73s)\n",
            "211000/300000: loss = 1.176, PSNR = 43.712646 (704.03s)\n",
            "212000/300000: loss = 1.179, PSNR = 43.742409 (692.67s)\n",
            "213000/300000: loss = 1.169, PSNR = 43.707012 (694.07s)\n",
            "214000/300000: loss = 1.166, PSNR = 43.758739 (694.79s)\n",
            "215000/300000: loss = 1.163, PSNR = 43.731243 (702.88s)\n",
            "216000/300000: loss = 1.168, PSNR = 43.747704 (695.04s)\n",
            "217000/300000: loss = 1.172, PSNR = 43.743599 (693.56s)\n",
            "218000/300000: loss = 1.171, PSNR = 43.751705 (696.83s)\n",
            "219000/300000: loss = 1.170, PSNR = 43.742424 (691.38s)\n",
            "220000/300000: loss = 1.167, PSNR = 43.755138 (697.27s)\n",
            "221000/300000: loss = 1.165, PSNR = 43.758675 (702.49s)\n",
            "222000/300000: loss = 1.159, PSNR = 43.767891 (698.36s)\n",
            "223000/300000: loss = 1.167, PSNR = 43.777020 (702.16s)\n",
            "224000/300000: loss = 1.160, PSNR = 43.760723 (700.20s)\n",
            "225000/300000: loss = 1.159, PSNR = 43.794674 (693.70s)\n",
            "226000/300000: loss = 1.162, PSNR = 43.783417 (702.25s)\n",
            "227000/300000: loss = 1.172, PSNR = 43.797283 (703.15s)\n",
            "228000/300000: loss = 1.168, PSNR = 43.806919 (704.70s)\n",
            "229000/300000: loss = 1.165, PSNR = 43.799225 (700.42s)\n",
            "230000/300000: loss = 1.164, PSNR = 43.792915 (699.68s)\n",
            "231000/300000: loss = 1.159, PSNR = 43.786110 (701.95s)\n",
            "232000/300000: loss = 1.158, PSNR = 43.775871 (699.11s)\n",
            "233000/300000: loss = 1.164, PSNR = 43.812103 (704.55s)\n",
            "234000/300000: loss = 1.169, PSNR = 43.815376 (694.45s)\n",
            "235000/300000: loss = 1.154, PSNR = 43.823048 (692.08s)\n",
            "236000/300000: loss = 1.162, PSNR = 43.825569 (686.01s)\n",
            "237000/300000: loss = 1.152, PSNR = 43.853718 (683.37s)\n",
            "238000/300000: loss = 1.160, PSNR = 43.820629 (683.70s)\n",
            "239000/300000: loss = 1.166, PSNR = 43.821312 (675.80s)\n",
            "240000/300000: loss = 1.157, PSNR = 43.867577 (680.07s)\n",
            "241000/300000: loss = 1.151, PSNR = 43.843414 (682.74s)\n",
            "242000/300000: loss = 1.160, PSNR = 43.869434 (683.60s)\n",
            "243000/300000: loss = 1.148, PSNR = 43.860222 (686.21s)\n",
            "244000/300000: loss = 1.160, PSNR = 43.880161 (682.20s)\n",
            "245000/300000: loss = 1.161, PSNR = 43.851006 (682.52s)\n",
            "246000/300000: loss = 1.161, PSNR = 43.854336 (679.78s)\n",
            "247000/300000: loss = 1.157, PSNR = 43.868156 (678.35s)\n",
            "248000/300000: loss = 1.166, PSNR = 43.875938 (675.28s)\n",
            "249000/300000: loss = 1.149, PSNR = 43.843613 (684.99s)\n",
            "250000/300000: loss = 1.157, PSNR = 43.850655 (697.49s)\n",
            "251000/300000: loss = 1.160, PSNR = 43.850971 (693.18s)\n",
            "252000/300000: loss = 1.151, PSNR = 43.836281 (689.12s)\n",
            "253000/300000: loss = 1.155, PSNR = 43.835442 (695.03s)\n",
            "254000/300000: loss = 1.164, PSNR = 43.849194 (690.70s)\n",
            "255000/300000: loss = 1.147, PSNR = 43.869331 (690.14s)\n",
            "256000/300000: loss = 1.154, PSNR = 43.888802 (688.99s)\n",
            "257000/300000: loss = 1.160, PSNR = 43.897175 (691.75s)\n",
            "258000/300000: loss = 1.161, PSNR = 43.899628 (694.90s)\n",
            "259000/300000: loss = 1.149, PSNR = 43.896412 (697.31s)\n",
            "260000/300000: loss = 1.158, PSNR = 43.883984 (695.71s)\n",
            "261000/300000: loss = 1.159, PSNR = 43.863689 (691.64s)\n",
            "262000/300000: loss = 1.152, PSNR = 43.875004 (689.76s)\n",
            "263000/300000: loss = 1.151, PSNR = 43.903053 (687.91s)\n",
            "264000/300000: loss = 1.153, PSNR = 43.872089 (695.32s)\n",
            "265000/300000: loss = 1.156, PSNR = 43.877937 (695.76s)\n",
            "266000/300000: loss = 1.152, PSNR = 43.911633 (700.92s)\n",
            "267000/300000: loss = 1.161, PSNR = 43.895912 (693.13s)\n",
            "268000/300000: loss = 1.152, PSNR = 43.904102 (689.92s)\n",
            "269000/300000: loss = 1.156, PSNR = 43.867683 (694.15s)\n",
            "270000/300000: loss = 1.149, PSNR = 43.908684 (699.48s)\n",
            "271000/300000: loss = 1.154, PSNR = 43.907597 (694.26s)\n",
            "272000/300000: loss = 1.154, PSNR = 43.944817 (691.38s)\n",
            "273000/300000: loss = 1.160, PSNR = 43.943481 (702.70s)\n",
            "274000/300000: loss = 1.155, PSNR = 43.919792 (697.51s)\n",
            "275000/300000: loss = 1.149, PSNR = 43.919716 (698.36s)\n",
            "276000/300000: loss = 1.156, PSNR = 43.946739 (695.91s)\n",
            "277000/300000: loss = 1.170, PSNR = 43.896446 (698.33s)\n",
            "278000/300000: loss = 1.153, PSNR = 43.930908 (701.61s)\n",
            "279000/300000: loss = 1.151, PSNR = 43.905724 (690.28s)\n",
            "280000/300000: loss = 1.158, PSNR = 43.926373 (696.02s)\n",
            "281000/300000: loss = 1.153, PSNR = 43.922241 (697.61s)\n",
            "282000/300000: loss = 1.160, PSNR = 43.939735 (695.46s)\n",
            "283000/300000: loss = 1.161, PSNR = 43.932911 (696.95s)\n",
            "284000/300000: loss = 1.156, PSNR = 43.931484 (704.37s)\n",
            "285000/300000: loss = 1.157, PSNR = 43.960247 (698.41s)\n",
            "286000/300000: loss = 1.150, PSNR = 43.909225 (694.95s)\n",
            "287000/300000: loss = 1.147, PSNR = 43.937458 (701.77s)\n",
            "288000/300000: loss = 1.155, PSNR = 43.948494 (696.71s)\n",
            "289000/300000: loss = 1.151, PSNR = 43.944275 (696.72s)\n",
            "290000/300000: loss = 1.154, PSNR = 43.950432 (695.66s)\n",
            "291000/300000: loss = 1.157, PSNR = 43.925606 (702.50s)\n",
            "292000/300000: loss = 1.154, PSNR = 43.940331 (705.33s)\n",
            "293000/300000: loss = 1.161, PSNR = 43.948128 (700.47s)\n",
            "294000/300000: loss = 1.153, PSNR = 43.939785 (701.44s)\n",
            "295000/300000: loss = 1.148, PSNR = 43.960815 (696.54s)\n",
            "296000/300000: loss = 1.153, PSNR = 43.943634 (700.39s)\n",
            "297000/300000: loss = 1.159, PSNR = 43.960121 (700.77s)\n",
            "298000/300000: loss = 1.155, PSNR = 43.958199 (706.37s)\n",
            "299000/300000: loss = 1.159, PSNR = 43.958290 (702.33s)\n",
            "300000/300000: loss = 1.152, PSNR = 43.963310 (700.95s)\n"
          ]
        }
      ],
      "source": [
        "# Train WDSR B model for 300,000 steps and evaluate model\n",
        "# every 1000 steps on the first 10 images of the DIV2K\n",
        "# validation set. Save a checkpoint only if evaluation\n",
        "# PSNR has improved.\n",
        "# uncomment code below to train!\n",
        "trainer.train(train_ds,\n",
        "              valid_ds.take(10),\n",
        "              steps=300000, \n",
        "              evaluate_every=1000, \n",
        "              save_best_only=True)"
      ]
    },
    {
      "cell_type": "code",
      "execution_count": 10,
      "metadata": {
        "id": "COlp9NbtVvGw"
      },
      "outputs": [
        {
          "name": "stdout",
          "output_type": "stream",
          "text": [
            "Model restored from checkpoint at step 300000.\n"
          ]
        }
      ],
      "source": [
        "# Restore from checkpoint with highest PSNR\n",
        "trainer.restore()"
      ]
    },
    {
      "cell_type": "code",
      "execution_count": 11,
      "metadata": {
        "id": "n4E2Qt_tVvGw"
      },
      "outputs": [],
      "source": [
        "# Save weights to separate location (needed for demo)\n",
        "trainer.model.save_weights(weights_file)"
      ]
    },
    {
      "cell_type": "markdown",
      "metadata": {
        "id": "yjYWjmedVvGx"
      },
      "source": [
        "## Evaluation (PSNR Score)"
      ]
    },
    {
      "cell_type": "code",
      "execution_count": 12,
      "metadata": {
        "id": "KXHoZJnOVvGx"
      },
      "outputs": [
        {
          "name": "stdout",
          "output_type": "stream",
          "text": [
            "PSNR = 44.257019\n"
          ]
        }
      ],
      "source": [
        "# Evaluate model on full validation set\n",
        "psnr = trainer.evaluate(valid_ds)\n",
        "print(f'PSNR = {psnr.numpy():3f}')"
      ]
    },
    {
      "cell_type": "markdown",
      "metadata": {
        "id": "WW8nT4kvVvGx"
      },
      "source": [
        "## Demo"
      ]
    },
    {
      "cell_type": "code",
      "execution_count": 13,
      "metadata": {
        "id": "r9FVmwN_VvGx"
      },
      "outputs": [],
      "source": [
        "model = wdsr_b(scale=scale, num_res_blocks=depth)\n",
        "model.load_weights(weights_file)"
      ]
    },
    {
      "cell_type": "code",
      "execution_count": 14,
      "metadata": {
        "id": "ze6-YVkXVvGx"
      },
      "outputs": [],
      "source": [
        "from model import resolve_single\n",
        "from utils import load_image\n",
        "from PIL import Image\n",
        "import numpy as np\n",
        "\n",
        "def convert_and_plot(lr_image_path):\n",
        "    lr = np.array(Image.open(lr_image_path).convert('RGB'))\n",
        "    \n",
        "    sr = resolve_single(model, lr)\n",
        "    plot_sample(lr, sr)"
      ]
    },
    {
      "cell_type": "code",
      "execution_count": 15,
      "metadata": {
        "id": "nb4qM5VjVvGx"
      },
      "outputs": [],
      "source": [
        "from model import resolve_single\n",
        "from utils import load_image, plot_sample\n",
        "\n",
        "def resolve_and_plot(lr_image_path):\n",
        "    lr = load_image(lr_image_path)\n",
        "    sr = resolve_single(model, lr)\n",
        "    plot_sample(lr, sr)"
      ]
    },
    {
      "cell_type": "code",
      "execution_count": 16,
      "metadata": {
        "colab": {
          "base_uri": "https://localhost:8080/",
          "height": 558
        },
        "id": "zy2v6Nx-VvGy",
        "outputId": "fa690689-65fb-46f2-b60b-844208ce5ab0"
      },
      "outputs": [
        {
          "data": {
            "image/png": "[encoded data removed]",
            "text/plain": [
              "<Figure size 2000x1000 with 2 Axes>"
            ]
          },
          "metadata": {},
          "output_type": "display_data"
        }
      ],
      "source": [
        "new_image = '../new_dataset/PET-radiomics-challenges-kaggle/Training/1.3.6.1.4.1.14519.5.2.1.1707.8040.10059866353110167322451781.png'\n",
        "convert_and_plot(new_image)"
      ]
    },
    {
      "cell_type": "code",
      "execution_count": 17,
      "metadata": {
        "id": "pYOvgdbeVvGz"
      },
      "outputs": [
        {
          "name": "stdout",
          "output_type": "stream",
          "text": [
            "SSIM: 0.9775239546871025\n"
          ]
        }
      ],
      "source": [
        "from skimage.metrics import structural_similarity as compare_ssim\n",
        "import argparse\n",
        "import imutils\n",
        "import cv2\n",
        "new_image = '/home/iga/super-resolution-master/new_dataset/Y-90/downscaled/0150x4.png'\n",
        "# load the two input images\n",
        "lr = np.array(Image.open(new_image).convert('RGB'))\n",
        "sr = resolve_single(model, lr)\n",
        "imageA = cv2.imread('/home/iga/super-resolution-master/new_dataset/Y-90/normal/0150.png')\n",
        "imageB = np.array(sr)\n",
        "# convert the images to grayscale\n",
        "grayA = cv2.cvtColor(imageA, cv2.COLOR_RGB2GRAY)\n",
        "grayB = cv2.cvtColor(imageB, cv2.COLOR_RGB2GRAY)\n",
        "\n",
        "# compute the Structural Similarity Index (SSIM) between the two\n",
        "# images, ensuring that the difference image is returned\n",
        "(score, diff) = compare_ssim(grayA, grayB, full=True)\n",
        "diff = (diff * 255).astype(\"uint8\")\n",
        "print(\"SSIM: {}\".format(score))"
      ]
    }
  ],
  "metadata": {
    "accelerator": "GPU",
    "colab": {
      "name": "example-wdsr.ipynb",
      "provenance": []
    },
    "gpuClass": "standard",
    "interpreter": {
      "hash": "f63f6c5a1e439ec046f8b97d4e79145db6c2c86b7d748c10c29c9441a4011ee3"
    },
    "kernelspec": {
      "display_name": "Python 3.8.0 ('super-resolution')",
      "language": "python",
      "name": "python3"
    },
    "language_info": {
      "codemirror_mode": {
        "name": "ipython",
        "version": 3
      },
      "file_extension": ".py",
      "mimetype": "text/x-python",
      "name": "python",
      "nbconvert_exporter": "python",
      "pygments_lexer": "ipython3",
      "version": "3.8.0"
    },
    "vscode": {
      "interpreter": {
        "hash": "610c699f0cd8c4f129acd9140687fff6866bed0eb8e82f249fc8848b827b628c"
      }
    }
  },
  "nbformat": 4,
  "nbformat_minor": 0
}
